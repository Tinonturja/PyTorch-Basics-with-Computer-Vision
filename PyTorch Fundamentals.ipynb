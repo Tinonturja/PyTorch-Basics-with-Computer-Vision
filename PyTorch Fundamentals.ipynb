{
 "cells": [
  {
   "cell_type": "code",
   "execution_count": 1,
   "id": "2087dec7-b721-4378-a2e3-d2942f5ce47a",
   "metadata": {},
   "outputs": [],
   "source": [
    "#import libraries\n",
    "import torch\n",
    "import numpy as np\n",
    "import matplotlib.pyplot as plt"
   ]
  },
  {
   "cell_type": "code",
   "execution_count": 2,
   "id": "ed2b51b2-3964-4a02-80b0-263d3c4b5373",
   "metadata": {},
   "outputs": [],
   "source": [
    "a = torch.tensor([2.,3.,4.])"
   ]
  },
  {
   "cell_type": "code",
   "execution_count": 3,
   "id": "a10d3720-a2e2-40c5-89b8-cb2d530a27ff",
   "metadata": {},
   "outputs": [
    {
     "data": {
      "text/plain": [
       "tensor([2., 3., 4.])"
      ]
     },
     "execution_count": 3,
     "metadata": {},
     "output_type": "execute_result"
    }
   ],
   "source": [
    "a"
   ]
  },
  {
   "cell_type": "code",
   "execution_count": 4,
   "id": "aa48138e-b70f-4cce-91f3-222c2b016c37",
   "metadata": {},
   "outputs": [
    {
     "data": {
      "text/plain": [
       "tensor([[0.4652, 0.3535, 0.7314],\n",
       "        [0.2258, 0.4052, 0.0536]])"
      ]
     },
     "execution_count": 4,
     "metadata": {},
     "output_type": "execute_result"
    }
   ],
   "source": [
    "random_tensor = torch.rand((2,3))\n",
    "random_tensor"
   ]
  },
  {
   "cell_type": "code",
   "execution_count": 5,
   "id": "d3d861d9-7603-4dbf-abb7-852307e38393",
   "metadata": {},
   "outputs": [
    {
     "data": {
      "text/plain": [
       "tensor([[0., 0., 0., 0.],\n",
       "        [0., 0., 0., 0.],\n",
       "        [0., 0., 0., 0.]])"
      ]
     },
     "execution_count": 5,
     "metadata": {},
     "output_type": "execute_result"
    }
   ],
   "source": [
    "zeros = torch.zeros(3,4)\n",
    "zeros"
   ]
  },
  {
   "cell_type": "code",
   "execution_count": 6,
   "id": "dd064bd9-fcb6-4adc-b294-da646b43a8ee",
   "metadata": {},
   "outputs": [
    {
     "data": {
      "text/plain": [
       "tensor([[1., 1., 1.],\n",
       "        [1., 1., 1.]])"
      ]
     },
     "execution_count": 6,
     "metadata": {},
     "output_type": "execute_result"
    }
   ],
   "source": [
    "ones  = torch.ones(2,3)\n",
    "ones"
   ]
  },
  {
   "cell_type": "code",
   "execution_count": 8,
   "id": "1804c893-9c5f-4135-98d6-81a1836a9d37",
   "metadata": {},
   "outputs": [
    {
     "data": {
      "text/plain": [
       "tensor([ 2,  3,  4,  5,  6,  7,  8,  9, 10, 11, 12, 13])"
      ]
     },
     "execution_count": 8,
     "metadata": {},
     "output_type": "execute_result"
    }
   ],
   "source": [
    "range_tensor = torch.arange(2,14)\n",
    "range_tensor"
   ]
  },
  {
   "cell_type": "code",
   "execution_count": 12,
   "id": "5ebd20cc-dc6a-4781-b933-320657cacfc8",
   "metadata": {},
   "outputs": [],
   "source": [
    "#reshape the range_tensor\n",
    "range_tensor = range_tensor.reshape((6,2))"
   ]
  },
  {
   "cell_type": "code",
   "execution_count": 13,
   "id": "9ccde333-cbb7-4e3f-8020-8f81674656b1",
   "metadata": {},
   "outputs": [
    {
     "data": {
      "text/plain": [
       "torch.Size([6, 2])"
      ]
     },
     "execution_count": 13,
     "metadata": {},
     "output_type": "execute_result"
    }
   ],
   "source": [
    "range_tensor.shape"
   ]
  },
  {
   "cell_type": "code",
   "execution_count": 11,
   "id": "fc4eae78-a38f-4664-b25b-5633442ff909",
   "metadata": {},
   "outputs": [
    {
     "data": {
      "text/plain": [
       "tensor([ 2,  3,  4,  5,  6,  7,  8,  9, 10, 11, 12, 13])"
      ]
     },
     "execution_count": 11,
     "metadata": {},
     "output_type": "execute_result"
    }
   ],
   "source": [
    "range_tensor"
   ]
  },
  {
   "cell_type": "code",
   "execution_count": 15,
   "id": "d2c52893-1afc-4a9b-9d04-749737e94b85",
   "metadata": {},
   "outputs": [],
   "source": [
    "#zeros like and ones like\n",
    "zero_like = torch.zeros_like(range_tensor)"
   ]
  },
  {
   "cell_type": "code",
   "execution_count": 16,
   "id": "fa28394b-5445-43cf-b7fa-2bf5eaf02bca",
   "metadata": {},
   "outputs": [
    {
     "data": {
      "text/plain": [
       "tensor([[0, 0],\n",
       "        [0, 0],\n",
       "        [0, 0],\n",
       "        [0, 0],\n",
       "        [0, 0],\n",
       "        [0, 0]])"
      ]
     },
     "execution_count": 16,
     "metadata": {},
     "output_type": "execute_result"
    }
   ],
   "source": [
    "zero_like"
   ]
  },
  {
   "cell_type": "code",
   "execution_count": 17,
   "id": "85a1cbdc-0c27-42e6-9dd7-9e70c08b1d2d",
   "metadata": {},
   "outputs": [],
   "source": [
    "v = torch.rand(4,5)"
   ]
  },
  {
   "cell_type": "code",
   "execution_count": 18,
   "id": "43fce2a2-8866-44a5-9361-680cf6f5bc9a",
   "metadata": {},
   "outputs": [
    {
     "data": {
      "text/plain": [
       "tensor([[0.0451, 0.2048, 0.8667, 0.5812, 0.6910],\n",
       "        [0.3612, 0.9763, 0.0418, 0.5691, 0.8603],\n",
       "        [0.7987, 0.0548, 0.7780, 0.3654, 0.4858],\n",
       "        [0.5711, 0.6631, 0.4761, 0.8697, 0.2229]])"
      ]
     },
     "execution_count": 18,
     "metadata": {},
     "output_type": "execute_result"
    }
   ],
   "source": [
    "v"
   ]
  },
  {
   "cell_type": "code",
   "execution_count": 26,
   "id": "354dc4cd-908c-41ae-be1c-32e94451a557",
   "metadata": {},
   "outputs": [
    {
     "data": {
      "text/plain": [
       "(tensor(0.9763), torch.Size([4, 5]))"
      ]
     },
     "execution_count": 26,
     "metadata": {},
     "output_type": "execute_result"
    }
   ],
   "source": [
    "v.max(),v.shape"
   ]
  },
  {
   "cell_type": "code",
   "execution_count": 28,
   "id": "5e57d724-a9bb-4622-ba7a-5c5dafa175de",
   "metadata": {},
   "outputs": [
    {
     "data": {
      "text/plain": [
       "(tensor(6), tensor(0.5242))"
      ]
     },
     "execution_count": 28,
     "metadata": {},
     "output_type": "execute_result"
    }
   ],
   "source": [
    "v.argmax(),v.mean()"
   ]
  },
  {
   "cell_type": "code",
   "execution_count": 29,
   "id": "45abb4f0-25d7-40a5-aca8-0ee21aabe649",
   "metadata": {},
   "outputs": [
    {
     "data": {
      "text/plain": [
       "tensor(77)"
      ]
     },
     "execution_count": 29,
     "metadata": {},
     "output_type": "execute_result"
    }
   ],
   "source": [
    "m.sum()"
   ]
  },
  {
   "cell_type": "code",
   "execution_count": 21,
   "id": "412c7e83-0f6a-4d85-9a28-1a9d9c87fd3e",
   "metadata": {},
   "outputs": [],
   "source": [
    "m = torch.arange(2,13)\n"
   ]
  },
  {
   "cell_type": "code",
   "execution_count": 22,
   "id": "b4ade989-d477-46aa-b92d-eaa16a31662d",
   "metadata": {},
   "outputs": [
    {
     "data": {
      "text/plain": [
       "tensor(12)"
      ]
     },
     "execution_count": 22,
     "metadata": {},
     "output_type": "execute_result"
    }
   ],
   "source": [
    "m.max()"
   ]
  },
  {
   "cell_type": "code",
   "execution_count": 23,
   "id": "a83aba09-6a37-4b5d-8bc1-af8683dfa8c0",
   "metadata": {},
   "outputs": [
    {
     "data": {
      "text/plain": [
       "tensor(10)"
      ]
     },
     "execution_count": 23,
     "metadata": {},
     "output_type": "execute_result"
    }
   ],
   "source": [
    "m.argmax()"
   ]
  },
  {
   "cell_type": "code",
   "execution_count": 24,
   "id": "1a3740a8-c2d3-4f4d-9330-38cc561dd76b",
   "metadata": {},
   "outputs": [
    {
     "data": {
      "text/plain": [
       "torch.Size([11])"
      ]
     },
     "execution_count": 24,
     "metadata": {},
     "output_type": "execute_result"
    }
   ],
   "source": [
    "m.shape"
   ]
  },
  {
   "cell_type": "code",
   "execution_count": 25,
   "id": "c13c746f-42b4-452d-b1d3-402185ef5469",
   "metadata": {},
   "outputs": [
    {
     "data": {
      "text/plain": [
       "tensor([ 2,  3,  4,  5,  6,  7,  8,  9, 10, 11, 12])"
      ]
     },
     "execution_count": 25,
     "metadata": {},
     "output_type": "execute_result"
    }
   ],
   "source": [
    "m"
   ]
  },
  {
   "cell_type": "code",
   "execution_count": 30,
   "id": "f6f0c78d-7847-4c30-916c-0c48876fe744",
   "metadata": {},
   "outputs": [
    {
     "data": {
      "text/plain": [
       "tensor(10.4832)"
      ]
     },
     "execution_count": 30,
     "metadata": {},
     "output_type": "execute_result"
    }
   ],
   "source": [
    "v.sum()"
   ]
  },
  {
   "cell_type": "code",
   "execution_count": 31,
   "id": "0494aff2-d398-43d1-983e-00d1cb4ca63b",
   "metadata": {},
   "outputs": [
    {
     "data": {
      "text/plain": [
       "tensor([[0.0451, 0.2048, 0.8667, 0.5812],\n",
       "        [0.6910, 0.3612, 0.9763, 0.0418],\n",
       "        [0.5691, 0.8603, 0.7987, 0.0548],\n",
       "        [0.7780, 0.3654, 0.4858, 0.5711],\n",
       "        [0.6631, 0.4761, 0.8697, 0.2229]])"
      ]
     },
     "execution_count": 31,
     "metadata": {},
     "output_type": "execute_result"
    }
   ],
   "source": [
    "v.reshape((5,4))"
   ]
  },
  {
   "cell_type": "code",
   "execution_count": 33,
   "id": "4f1f77ef-d2dd-4101-9b16-bb63aa6543ee",
   "metadata": {},
   "outputs": [
    {
     "data": {
      "text/plain": [
       "torch.Size([4, 5])"
      ]
     },
     "execution_count": 33,
     "metadata": {},
     "output_type": "execute_result"
    }
   ],
   "source": [
    "v.shape"
   ]
  },
  {
   "cell_type": "code",
   "execution_count": 34,
   "id": "da402898-3613-406d-abde-526537296267",
   "metadata": {},
   "outputs": [],
   "source": [
    "t = torch.rand((4,5))"
   ]
  },
  {
   "cell_type": "code",
   "execution_count": 35,
   "id": "4b505bdf-61c8-4ed2-94d5-00a0cd1c023d",
   "metadata": {},
   "outputs": [
    {
     "data": {
      "text/plain": [
       "tensor([[[0.8888, 0.9763, 0.5529, 0.9184, 0.9585],\n",
       "         [0.3716, 0.0932, 0.2643, 0.3709, 0.9603],\n",
       "         [0.4651, 0.8119, 0.1276, 0.7376, 0.0859],\n",
       "         [0.9258, 0.7676, 0.4553, 0.2705, 0.3323]],\n",
       "\n",
       "        [[0.0451, 0.2048, 0.8667, 0.5812, 0.6910],\n",
       "         [0.3612, 0.9763, 0.0418, 0.5691, 0.8603],\n",
       "         [0.7987, 0.0548, 0.7780, 0.3654, 0.4858],\n",
       "         [0.5711, 0.6631, 0.4761, 0.8697, 0.2229]]])"
      ]
     },
     "execution_count": 35,
     "metadata": {},
     "output_type": "execute_result"
    }
   ],
   "source": [
    "horizontal_stack = torch.stack((t,v),dim = 0)"
   ]
  },
  {
   "cell_type": "code",
   "execution_count": 36,
   "id": "9fa88f83-7f1f-4d8b-b167-02beed373ef6",
   "metadata": {},
   "outputs": [],
   "source": [
    "vertical_stack = torch.stack((t,v),dim = 1)"
   ]
  },
  {
   "cell_type": "code",
   "execution_count": 37,
   "id": "49e58311-7338-4d4c-9bc1-e71ff76f6c1a",
   "metadata": {},
   "outputs": [
    {
     "data": {
      "text/plain": [
       "tensor([[[0.8888, 0.9763, 0.5529, 0.9184, 0.9585],\n",
       "         [0.0451, 0.2048, 0.8667, 0.5812, 0.6910]],\n",
       "\n",
       "        [[0.3716, 0.0932, 0.2643, 0.3709, 0.9603],\n",
       "         [0.3612, 0.9763, 0.0418, 0.5691, 0.8603]],\n",
       "\n",
       "        [[0.4651, 0.8119, 0.1276, 0.7376, 0.0859],\n",
       "         [0.7987, 0.0548, 0.7780, 0.3654, 0.4858]],\n",
       "\n",
       "        [[0.9258, 0.7676, 0.4553, 0.2705, 0.3323],\n",
       "         [0.5711, 0.6631, 0.4761, 0.8697, 0.2229]]])"
      ]
     },
     "execution_count": 37,
     "metadata": {},
     "output_type": "execute_result"
    }
   ],
   "source": [
    "vertical_stack"
   ]
  },
  {
   "cell_type": "code",
   "execution_count": 38,
   "id": "c27cf271-133a-4495-a553-0a7475e09a8a",
   "metadata": {},
   "outputs": [
    {
     "data": {
      "text/plain": [
       "torch.Size([4, 2, 5])"
      ]
     },
     "execution_count": 38,
     "metadata": {},
     "output_type": "execute_result"
    }
   ],
   "source": [
    "vertical_stack.shape"
   ]
  },
  {
   "cell_type": "code",
   "execution_count": 39,
   "id": "5ab5ea09-a8ae-4905-bc9f-0da80f54a1cd",
   "metadata": {},
   "outputs": [],
   "source": [
    "v_stacked = torch.stack([v,v],dim = 0)"
   ]
  },
  {
   "cell_type": "code",
   "execution_count": 40,
   "id": "48075026-f8e2-4583-85d3-e9ea58136120",
   "metadata": {},
   "outputs": [
    {
     "data": {
      "text/plain": [
       "tensor([[[0.0451, 0.2048, 0.8667, 0.5812, 0.6910],\n",
       "         [0.3612, 0.9763, 0.0418, 0.5691, 0.8603],\n",
       "         [0.7987, 0.0548, 0.7780, 0.3654, 0.4858],\n",
       "         [0.5711, 0.6631, 0.4761, 0.8697, 0.2229]],\n",
       "\n",
       "        [[0.0451, 0.2048, 0.8667, 0.5812, 0.6910],\n",
       "         [0.3612, 0.9763, 0.0418, 0.5691, 0.8603],\n",
       "         [0.7987, 0.0548, 0.7780, 0.3654, 0.4858],\n",
       "         [0.5711, 0.6631, 0.4761, 0.8697, 0.2229]]])"
      ]
     },
     "execution_count": 40,
     "metadata": {},
     "output_type": "execute_result"
    }
   ],
   "source": [
    "v_stacked"
   ]
  },
  {
   "cell_type": "code",
   "execution_count": 41,
   "id": "17ef9074-0f52-47ea-adb0-d9f0508b1f1e",
   "metadata": {},
   "outputs": [
    {
     "data": {
      "text/plain": [
       "torch.Size([2, 4, 5])"
      ]
     },
     "execution_count": 41,
     "metadata": {},
     "output_type": "execute_result"
    }
   ],
   "source": [
    "v_stacked.shape"
   ]
  },
  {
   "cell_type": "code",
   "execution_count": 42,
   "id": "986dde1d-cff4-42c7-aec0-35d4c1554f22",
   "metadata": {},
   "outputs": [],
   "source": [
    "new = torch.rand(2,2)"
   ]
  },
  {
   "cell_type": "code",
   "execution_count": 43,
   "id": "d81be74e-4403-466c-809c-38809e1cbe5a",
   "metadata": {},
   "outputs": [
    {
     "data": {
      "text/plain": [
       "tensor([[0.8373, 0.7317],\n",
       "        [0.2664, 0.5352]])"
      ]
     },
     "execution_count": 43,
     "metadata": {},
     "output_type": "execute_result"
    }
   ],
   "source": [
    "new"
   ]
  },
  {
   "cell_type": "code",
   "execution_count": 44,
   "id": "37a2a2c4-b445-4e3f-bb2f-da774446fefa",
   "metadata": {},
   "outputs": [
    {
     "data": {
      "text/plain": [
       "torch.Size([2, 2])"
      ]
     },
     "execution_count": 44,
     "metadata": {},
     "output_type": "execute_result"
    }
   ],
   "source": [
    "new.shape\n"
   ]
  },
  {
   "cell_type": "code",
   "execution_count": 46,
   "id": "87d63bb6-3204-487f-b346-9c5c265766ab",
   "metadata": {},
   "outputs": [],
   "source": [
    "new_stack = torch.hstack((new,new))"
   ]
  },
  {
   "cell_type": "raw",
   "id": "07b810b9-ee9c-42d4-83aa-5e5a14b06867",
   "metadata": {},
   "source": [
    "new_stack"
   ]
  },
  {
   "cell_type": "code",
   "execution_count": 47,
   "id": "1c3227ae-6891-40be-b555-ecb44fc0fcdb",
   "metadata": {},
   "outputs": [
    {
     "data": {
      "text/plain": [
       "tensor([[0.8373, 0.7317, 0.8373, 0.7317],\n",
       "        [0.2664, 0.5352, 0.2664, 0.5352]])"
      ]
     },
     "execution_count": 47,
     "metadata": {},
     "output_type": "execute_result"
    }
   ],
   "source": [
    "new_stack"
   ]
  },
  {
   "cell_type": "code",
   "execution_count": 49,
   "id": "ccbe150d-0774-4e83-92e2-dd2ab0c05ca5",
   "metadata": {},
   "outputs": [
    {
     "data": {
      "text/plain": [
       "(tensor([[[0.8373, 0.7317],\n",
       "          [0.8373, 0.7317]],\n",
       " \n",
       "         [[0.2664, 0.5352],\n",
       "          [0.2664, 0.5352]]]),\n",
       " torch.Size([2, 2, 2]))"
      ]
     },
     "execution_count": 49,
     "metadata": {},
     "output_type": "execute_result"
    }
   ],
   "source": [
    "new_stack_2 = torch.stack([new,new],dim = 1)\n",
    "new_stack_2,new_stack_2.shape"
   ]
  },
  {
   "cell_type": "code",
   "execution_count": 50,
   "id": "27cba1ff-9ca5-48ca-afea-39a1716e3916",
   "metadata": {},
   "outputs": [
    {
     "data": {
      "text/plain": [
       "(tensor([[[0.8373, 0.7317],\n",
       "          [0.2664, 0.5352]],\n",
       " \n",
       "         [[0.8373, 0.7317],\n",
       "          [0.2664, 0.5352]]]),\n",
       " torch.Size([2, 2, 2]))"
      ]
     },
     "execution_count": 50,
     "metadata": {},
     "output_type": "execute_result"
    }
   ],
   "source": [
    "new_stack_3 =  torch.stack([new,new],dim = 0)\n",
    "new_stack_3,new_stack_3.shape"
   ]
  },
  {
   "cell_type": "code",
   "execution_count": 51,
   "id": "69a36934-9699-4a13-b059-4030f11a2ab5",
   "metadata": {},
   "outputs": [],
   "source": [
    "a  = torch.tensor([2.,4.])"
   ]
  },
  {
   "cell_type": "code",
   "execution_count": 52,
   "id": "f3f6386e-6422-43c7-98c7-2427d757f47b",
   "metadata": {},
   "outputs": [
    {
     "data": {
      "text/plain": [
       "tensor([2., 4.])"
      ]
     },
     "execution_count": 52,
     "metadata": {},
     "output_type": "execute_result"
    }
   ],
   "source": [
    "a"
   ]
  },
  {
   "cell_type": "code",
   "execution_count": 53,
   "id": "ea093c0f-f678-4cc3-83f7-edd7b8b63c7c",
   "metadata": {},
   "outputs": [],
   "source": [
    "a = a.numpy()"
   ]
  },
  {
   "cell_type": "code",
   "execution_count": 54,
   "id": "0ec63d24-0bcf-44d5-b0fd-ee16291b4881",
   "metadata": {},
   "outputs": [
    {
     "data": {
      "text/plain": [
       "numpy.ndarray"
      ]
     },
     "execution_count": 54,
     "metadata": {},
     "output_type": "execute_result"
    }
   ],
   "source": [
    "type(a)"
   ]
  },
  {
   "cell_type": "code",
   "execution_count": 55,
   "id": "3e0465f1-0df9-49ba-8a01-b3a3d135374e",
   "metadata": {},
   "outputs": [
    {
     "data": {
      "text/plain": [
       "array([2., 4.], dtype=float32)"
      ]
     },
     "execution_count": 55,
     "metadata": {},
     "output_type": "execute_result"
    }
   ],
   "source": [
    "a"
   ]
  },
  {
   "cell_type": "code",
   "execution_count": 56,
   "id": "2108a0d6-96fe-428d-ae05-e32512c30a0b",
   "metadata": {},
   "outputs": [],
   "source": [
    "b =  torch.tensor([2.,4.]) "
   ]
  },
  {
   "cell_type": "code",
   "execution_count": 57,
   "id": "219734f2-20df-42c2-983a-0172c182060a",
   "metadata": {},
   "outputs": [],
   "source": [
    "a = torch.from_numpy(a)"
   ]
  },
  {
   "cell_type": "code",
   "execution_count": 58,
   "id": "bddfa13f-1a7f-4458-b91e-5168a6d6d136",
   "metadata": {},
   "outputs": [
    {
     "data": {
      "text/plain": [
       "torch.Tensor"
      ]
     },
     "execution_count": 58,
     "metadata": {},
     "output_type": "execute_result"
    }
   ],
   "source": [
    "type(a)"
   ]
  },
  {
   "cell_type": "code",
   "execution_count": 60,
   "id": "cb1c4690-7a44-4d05-8f32-dd23879b1e3e",
   "metadata": {},
   "outputs": [],
   "source": [
    "if torch.cuda.is_available():\n",
    "    device = 'cuda'\n",
    "elif torch.backends.mps.is_available():\n",
    "    device = 'mps'\n",
    "else:\n",
    "    device = 'cpu'\n",
    "    "
   ]
  },
  {
   "cell_type": "code",
   "execution_count": 61,
   "id": "2b48cdf0-0214-42c6-8848-ec8b99528290",
   "metadata": {},
   "outputs": [
    {
     "data": {
      "text/plain": [
       "'mps'"
      ]
     },
     "execution_count": 61,
     "metadata": {},
     "output_type": "execute_result"
    }
   ],
   "source": [
    "device"
   ]
  },
  {
   "cell_type": "code",
   "execution_count": 62,
   "id": "108c0d89-acb7-4f57-8d33-10ed60e36c39",
   "metadata": {},
   "outputs": [],
   "source": [
    "n1 = torch.rand((2,3),\n",
    "                device = device)"
   ]
  },
  {
   "cell_type": "code",
   "execution_count": 64,
   "id": "b1768486-4f6a-4163-a7dd-2d9ae934a520",
   "metadata": {},
   "outputs": [
    {
     "data": {
      "text/plain": [
       "device(type='mps', index=0)"
      ]
     },
     "execution_count": 64,
     "metadata": {},
     "output_type": "execute_result"
    }
   ],
   "source": [
    "n1.device"
   ]
  },
  {
   "cell_type": "code",
   "execution_count": 65,
   "id": "5ce4cf2c-1387-4210-b1db-9fa9a49fdb0a",
   "metadata": {},
   "outputs": [
    {
     "ename": "TypeError",
     "evalue": "can't convert mps:0 device type tensor to numpy. Use Tensor.cpu() to copy the tensor to host memory first.",
     "output_type": "error",
     "traceback": [
      "\u001b[0;31m---------------------------------------------------------------------------\u001b[0m",
      "\u001b[0;31mTypeError\u001b[0m                                 Traceback (most recent call last)",
      "Cell \u001b[0;32mIn[65], line 1\u001b[0m\n\u001b[0;32m----> 1\u001b[0m n1\u001b[38;5;241m.\u001b[39mnumpy()\n",
      "\u001b[0;31mTypeError\u001b[0m: can't convert mps:0 device type tensor to numpy. Use Tensor.cpu() to copy the tensor to host memory first."
     ]
    }
   ],
   "source": [
    "n1.numpy()"
   ]
  },
  {
   "cell_type": "code",
   "execution_count": 67,
   "id": "2157a9ac-12ac-46e9-83ab-b717a2d441fc",
   "metadata": {},
   "outputs": [
    {
     "data": {
      "text/plain": [
       "array([[0.13038027, 0.19225347, 0.84824646],\n",
       "       [0.721014  , 0.05657113, 0.679373  ]], dtype=float32)"
      ]
     },
     "execution_count": 67,
     "metadata": {},
     "output_type": "execute_result"
    }
   ],
   "source": [
    "n1.cpu().numpy()"
   ]
  },
  {
   "cell_type": "code",
   "execution_count": 71,
   "id": "426e0c53-4abb-415c-aeb3-bf9b6e5935ac",
   "metadata": {},
   "outputs": [],
   "source": [
    "torch.manual_seed(0)\n",
    "rd_tensor1 = torch.rand((7,7))\n",
    "rd_tensor2 = torch.rand((1,7))\n",
    "multi = torch.matmul(rd_tensor1,rd_tensor2.T)"
   ]
  },
  {
   "cell_type": "code",
   "execution_count": 72,
   "id": "55d34745-8b46-46a0-88ad-af9a7527ae32",
   "metadata": {},
   "outputs": [
    {
     "data": {
      "text/plain": [
       "tensor([[1.8542],\n",
       "        [1.9611],\n",
       "        [2.2884],\n",
       "        [3.0481],\n",
       "        [1.7067],\n",
       "        [2.5290],\n",
       "        [1.7989]])"
      ]
     },
     "execution_count": 72,
     "metadata": {},
     "output_type": "execute_result"
    }
   ],
   "source": [
    "multi"
   ]
  },
  {
   "cell_type": "code",
   "execution_count": 73,
   "id": "4d5b0cd3-4229-4121-b4f4-57f0d4526385",
   "metadata": {},
   "outputs": [],
   "source": [
    "torch.mps.manual_seed(42)"
   ]
  },
  {
   "cell_type": "code",
   "execution_count": null,
   "id": "2dd01761-9222-4d02-9f6a-c72902afbd8d",
   "metadata": {},
   "outputs": [],
   "source": []
  }
 ],
 "metadata": {
  "kernelspec": {
   "display_name": "Python 3 (ipykernel)",
   "language": "python",
   "name": "python3"
  },
  "language_info": {
   "codemirror_mode": {
    "name": "ipython",
    "version": 3
   },
   "file_extension": ".py",
   "mimetype": "text/x-python",
   "name": "python",
   "nbconvert_exporter": "python",
   "pygments_lexer": "ipython3",
   "version": "3.11.5"
  }
 },
 "nbformat": 4,
 "nbformat_minor": 5
}

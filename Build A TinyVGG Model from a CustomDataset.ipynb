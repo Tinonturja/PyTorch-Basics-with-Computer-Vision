{
 "cells": [
  {
   "cell_type": "code",
   "execution_count": 2,
   "id": "0b7132b4-1a73-41ae-bf29-b4977768ab00",
   "metadata": {},
   "outputs": [],
   "source": [
    "import torch\n",
    "from torchvision import datasets\n",
    "from torch.utils.data import DataLoader,Dataset\n",
    "import pathlib\n",
    "from pathlib import Path\n",
    "import requests\n"
   ]
  },
  {
   "cell_type": "code",
   "execution_count": 4,
   "id": "cc4f8201-59d1-4a3e-978e-5c389acd93bf",
   "metadata": {},
   "outputs": [
    {
     "name": "stdout",
     "output_type": "stream",
     "text": [
      "File exists\n"
     ]
    }
   ],
   "source": [
    "# Load the file \n",
    "image_path = Path('data/pizza_steak_sushi')\n",
    "if image_path.is_dir():\n",
    "    print(\"File exists\")"
   ]
  },
  {
   "cell_type": "code",
   "execution_count": 5,
   "id": "a93656ea-678e-45bc-9202-6e7fd6f671e5",
   "metadata": {},
   "outputs": [],
   "source": [
    "train_dir = image_path/'train'\n",
    "test_dir = image_path/'test'"
   ]
  },
  {
   "cell_type": "code",
   "execution_count": 6,
   "id": "96148380-da28-4c97-bed0-b8772c1622e0",
   "metadata": {},
   "outputs": [
    {
     "data": {
      "text/plain": [
       "(PosixPath('data/pizza_steak_sushi/train'),\n",
       " PosixPath('data/pizza_steak_sushi/test'))"
      ]
     },
     "execution_count": 6,
     "metadata": {},
     "output_type": "execute_result"
    }
   ],
   "source": [
    "train_dir,test_dir"
   ]
  },
  {
   "cell_type": "code",
   "execution_count": null,
   "id": "92e73e91-371c-4d77-bee8-da0208c1560d",
   "metadata": {},
   "outputs": [],
   "source": [
    "# Create a transform function\n",
    "from torchvision import transforms\n",
    "train_transform = transforms.Compose([\n",
    "    transforms.Resize(size = (64,64)),\n",
    "    transforms.ToTensor\n",
    "])"
   ]
  },
  {
   "cell_type": "code",
   "execution_count": null,
   "id": "e3e9f5a1-332d-48e8-961f-c1edb9a1a2be",
   "metadata": {},
   "outputs": [],
   "source": [
    "# Create the dataset\n",
    "train_data = datasets.ImageFolder(root = train_dir,)"
   ]
  }
 ],
 "metadata": {
  "kernelspec": {
   "display_name": "Python 3 (ipykernel)",
   "language": "python",
   "name": "python3"
  },
  "language_info": {
   "codemirror_mode": {
    "name": "ipython",
    "version": 3
   },
   "file_extension": ".py",
   "mimetype": "text/x-python",
   "name": "python",
   "nbconvert_exporter": "python",
   "pygments_lexer": "ipython3",
   "version": "3.11.5"
  }
 },
 "nbformat": 4,
 "nbformat_minor": 5
}

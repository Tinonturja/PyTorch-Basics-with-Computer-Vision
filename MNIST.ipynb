{
 "cells": [
  {
   "cell_type": "markdown",
   "id": "169520af-f223-43a9-98c4-cb59d187a769",
   "metadata": {},
   "source": [
    "# 0. Pipeline\n",
    "* Import libararies\n",
    "* Import Datasets\n",
    "* Split the data into train_test\n",
    "* Got idea about the input and output shape of the data\n",
    "* Visualize the data and get insights of the data\n",
    "* Segment the data into batch size by dataloader\n",
    "* Got insight about the single batch of the data\n",
    "* Create a baseline model\n",
    "* Set Loss and Optimizer Function\n",
    "* Train and Test Loop\n",
    "* Evaluation Mode:\n",
    "    * Time tracking\n",
    "    * Returns a dictionary which shows the result\n",
    "* Fit the model\n",
    "* "
   ]
  },
  {
   "cell_type": "code",
   "execution_count": 1,
   "id": "b78d7bbd-5c0b-4c97-9533-01df1ec782dc",
   "metadata": {},
   "outputs": [],
   "source": [
    "# Import Libraries\n",
    "import torch\n",
    "import torchvision\n",
    "import numpy as np\n",
    "import pandas as pd\n",
    "import matplotlib.pyplot as plt\n",
    "\n",
    "\n",
    "# TorchVision Libraries\n",
    "from torchvision import datasets\n",
    "from torchvision.transforms import ToTensor\n",
    "\n"
   ]
  },
  {
   "cell_type": "code",
   "execution_count": 2,
   "id": "5ca7ae13-761e-4b8f-8e58-e7f4b6d25ed1",
   "metadata": {},
   "outputs": [],
   "source": [
    "# Train and Test Dataset\n",
    "train_data = datasets.MNIST(\n",
    "    root = 'data',\n",
    "    train = True,\n",
    "    transform = ToTensor(),\n",
    "    download=True,\n",
    "    target_transform = None\n",
    ")\n",
    "test_data =  datasets.MNIST(\n",
    "    root = 'data',\n",
    "    train = False,\n",
    "    transform = ToTensor(),\n",
    "    download=True,\n",
    ")"
   ]
  },
  {
   "cell_type": "code",
   "execution_count": 3,
   "id": "1b0aba3c-f500-4802-a32c-e6aee62185da",
   "metadata": {},
   "outputs": [
    {
     "data": {
      "text/plain": [
       "(Dataset MNIST\n",
       "     Number of datapoints: 60000\n",
       "     Root location: data\n",
       "     Split: Train\n",
       "     StandardTransform\n",
       " Transform: ToTensor(),\n",
       " Dataset MNIST\n",
       "     Number of datapoints: 10000\n",
       "     Root location: data\n",
       "     Split: Test\n",
       "     StandardTransform\n",
       " Transform: ToTensor())"
      ]
     },
     "execution_count": 3,
     "metadata": {},
     "output_type": "execute_result"
    }
   ],
   "source": [
    "train_data,test_data"
   ]
  },
  {
   "cell_type": "markdown",
   "id": "01af4570-ebfe-474d-bfd9-2d6372b48936",
   "metadata": {},
   "source": [
    "# 1. Input and Output shapes of Computer vision model"
   ]
  },
  {
   "cell_type": "code",
   "execution_count": 4,
   "id": "2aed5006-f77f-4547-974c-6d114ea50e9a",
   "metadata": {},
   "outputs": [
    {
     "data": {
      "text/plain": [
       "(tensor([[[0.0000, 0.0000, 0.0000, 0.0000, 0.0000, 0.0000, 0.0000, 0.0000,\n",
       "           0.0000, 0.0000, 0.0000, 0.0000, 0.0000, 0.0000, 0.0000, 0.0000,\n",
       "           0.0000, 0.0000, 0.0000, 0.0000, 0.0000, 0.0000, 0.0000, 0.0000,\n",
       "           0.0000, 0.0000, 0.0000, 0.0000],\n",
       "          [0.0000, 0.0000, 0.0000, 0.0000, 0.0000, 0.0000, 0.0000, 0.0000,\n",
       "           0.0000, 0.0000, 0.0000, 0.0000, 0.0000, 0.0000, 0.0000, 0.0000,\n",
       "           0.0000, 0.0000, 0.0000, 0.0000, 0.0000, 0.0000, 0.0000, 0.0000,\n",
       "           0.0000, 0.0000, 0.0000, 0.0000],\n",
       "          [0.0000, 0.0000, 0.0000, 0.0000, 0.0000, 0.0000, 0.0000, 0.0000,\n",
       "           0.0000, 0.0000, 0.0000, 0.0000, 0.0000, 0.0000, 0.0000, 0.0000,\n",
       "           0.0000, 0.0000, 0.0000, 0.0000, 0.0000, 0.0000, 0.0000, 0.0000,\n",
       "           0.0000, 0.0000, 0.0000, 0.0000],\n",
       "          [0.0000, 0.0000, 0.0000, 0.0000, 0.0000, 0.0000, 0.0000, 0.0000,\n",
       "           0.0000, 0.0000, 0.0000, 0.0000, 0.0000, 0.0000, 0.0000, 0.0000,\n",
       "           0.0000, 0.0000, 0.0000, 0.0000, 0.0000, 0.0000, 0.0000, 0.0000,\n",
       "           0.0000, 0.0000, 0.0000, 0.0000],\n",
       "          [0.0000, 0.0000, 0.0000, 0.0000, 0.0000, 0.0000, 0.0000, 0.0000,\n",
       "           0.0000, 0.0000, 0.0000, 0.0000, 0.0000, 0.0000, 0.0000, 0.0000,\n",
       "           0.0000, 0.0000, 0.0000, 0.0000, 0.0000, 0.0000, 0.0000, 0.0000,\n",
       "           0.0000, 0.0000, 0.0000, 0.0000],\n",
       "          [0.0000, 0.0000, 0.0000, 0.0000, 0.0000, 0.0000, 0.0000, 0.0000,\n",
       "           0.0000, 0.0000, 0.0000, 0.0000, 0.0118, 0.0706, 0.0706, 0.0706,\n",
       "           0.4941, 0.5333, 0.6863, 0.1020, 0.6510, 1.0000, 0.9686, 0.4980,\n",
       "           0.0000, 0.0000, 0.0000, 0.0000],\n",
       "          [0.0000, 0.0000, 0.0000, 0.0000, 0.0000, 0.0000, 0.0000, 0.0000,\n",
       "           0.1176, 0.1412, 0.3686, 0.6039, 0.6667, 0.9922, 0.9922, 0.9922,\n",
       "           0.9922, 0.9922, 0.8824, 0.6745, 0.9922, 0.9490, 0.7647, 0.2510,\n",
       "           0.0000, 0.0000, 0.0000, 0.0000],\n",
       "          [0.0000, 0.0000, 0.0000, 0.0000, 0.0000, 0.0000, 0.0000, 0.1922,\n",
       "           0.9333, 0.9922, 0.9922, 0.9922, 0.9922, 0.9922, 0.9922, 0.9922,\n",
       "           0.9922, 0.9843, 0.3647, 0.3216, 0.3216, 0.2196, 0.1529, 0.0000,\n",
       "           0.0000, 0.0000, 0.0000, 0.0000],\n",
       "          [0.0000, 0.0000, 0.0000, 0.0000, 0.0000, 0.0000, 0.0000, 0.0706,\n",
       "           0.8588, 0.9922, 0.9922, 0.9922, 0.9922, 0.9922, 0.7765, 0.7137,\n",
       "           0.9686, 0.9451, 0.0000, 0.0000, 0.0000, 0.0000, 0.0000, 0.0000,\n",
       "           0.0000, 0.0000, 0.0000, 0.0000],\n",
       "          [0.0000, 0.0000, 0.0000, 0.0000, 0.0000, 0.0000, 0.0000, 0.0000,\n",
       "           0.3137, 0.6118, 0.4196, 0.9922, 0.9922, 0.8039, 0.0431, 0.0000,\n",
       "           0.1686, 0.6039, 0.0000, 0.0000, 0.0000, 0.0000, 0.0000, 0.0000,\n",
       "           0.0000, 0.0000, 0.0000, 0.0000],\n",
       "          [0.0000, 0.0000, 0.0000, 0.0000, 0.0000, 0.0000, 0.0000, 0.0000,\n",
       "           0.0000, 0.0549, 0.0039, 0.6039, 0.9922, 0.3529, 0.0000, 0.0000,\n",
       "           0.0000, 0.0000, 0.0000, 0.0000, 0.0000, 0.0000, 0.0000, 0.0000,\n",
       "           0.0000, 0.0000, 0.0000, 0.0000],\n",
       "          [0.0000, 0.0000, 0.0000, 0.0000, 0.0000, 0.0000, 0.0000, 0.0000,\n",
       "           0.0000, 0.0000, 0.0000, 0.5451, 0.9922, 0.7451, 0.0078, 0.0000,\n",
       "           0.0000, 0.0000, 0.0000, 0.0000, 0.0000, 0.0000, 0.0000, 0.0000,\n",
       "           0.0000, 0.0000, 0.0000, 0.0000],\n",
       "          [0.0000, 0.0000, 0.0000, 0.0000, 0.0000, 0.0000, 0.0000, 0.0000,\n",
       "           0.0000, 0.0000, 0.0000, 0.0431, 0.7451, 0.9922, 0.2745, 0.0000,\n",
       "           0.0000, 0.0000, 0.0000, 0.0000, 0.0000, 0.0000, 0.0000, 0.0000,\n",
       "           0.0000, 0.0000, 0.0000, 0.0000],\n",
       "          [0.0000, 0.0000, 0.0000, 0.0000, 0.0000, 0.0000, 0.0000, 0.0000,\n",
       "           0.0000, 0.0000, 0.0000, 0.0000, 0.1373, 0.9451, 0.8824, 0.6275,\n",
       "           0.4235, 0.0039, 0.0000, 0.0000, 0.0000, 0.0000, 0.0000, 0.0000,\n",
       "           0.0000, 0.0000, 0.0000, 0.0000],\n",
       "          [0.0000, 0.0000, 0.0000, 0.0000, 0.0000, 0.0000, 0.0000, 0.0000,\n",
       "           0.0000, 0.0000, 0.0000, 0.0000, 0.0000, 0.3176, 0.9412, 0.9922,\n",
       "           0.9922, 0.4667, 0.0980, 0.0000, 0.0000, 0.0000, 0.0000, 0.0000,\n",
       "           0.0000, 0.0000, 0.0000, 0.0000],\n",
       "          [0.0000, 0.0000, 0.0000, 0.0000, 0.0000, 0.0000, 0.0000, 0.0000,\n",
       "           0.0000, 0.0000, 0.0000, 0.0000, 0.0000, 0.0000, 0.1765, 0.7294,\n",
       "           0.9922, 0.9922, 0.5882, 0.1059, 0.0000, 0.0000, 0.0000, 0.0000,\n",
       "           0.0000, 0.0000, 0.0000, 0.0000],\n",
       "          [0.0000, 0.0000, 0.0000, 0.0000, 0.0000, 0.0000, 0.0000, 0.0000,\n",
       "           0.0000, 0.0000, 0.0000, 0.0000, 0.0000, 0.0000, 0.0000, 0.0627,\n",
       "           0.3647, 0.9882, 0.9922, 0.7333, 0.0000, 0.0000, 0.0000, 0.0000,\n",
       "           0.0000, 0.0000, 0.0000, 0.0000],\n",
       "          [0.0000, 0.0000, 0.0000, 0.0000, 0.0000, 0.0000, 0.0000, 0.0000,\n",
       "           0.0000, 0.0000, 0.0000, 0.0000, 0.0000, 0.0000, 0.0000, 0.0000,\n",
       "           0.0000, 0.9765, 0.9922, 0.9765, 0.2510, 0.0000, 0.0000, 0.0000,\n",
       "           0.0000, 0.0000, 0.0000, 0.0000],\n",
       "          [0.0000, 0.0000, 0.0000, 0.0000, 0.0000, 0.0000, 0.0000, 0.0000,\n",
       "           0.0000, 0.0000, 0.0000, 0.0000, 0.0000, 0.0000, 0.1804, 0.5098,\n",
       "           0.7176, 0.9922, 0.9922, 0.8118, 0.0078, 0.0000, 0.0000, 0.0000,\n",
       "           0.0000, 0.0000, 0.0000, 0.0000],\n",
       "          [0.0000, 0.0000, 0.0000, 0.0000, 0.0000, 0.0000, 0.0000, 0.0000,\n",
       "           0.0000, 0.0000, 0.0000, 0.0000, 0.1529, 0.5804, 0.8980, 0.9922,\n",
       "           0.9922, 0.9922, 0.9804, 0.7137, 0.0000, 0.0000, 0.0000, 0.0000,\n",
       "           0.0000, 0.0000, 0.0000, 0.0000],\n",
       "          [0.0000, 0.0000, 0.0000, 0.0000, 0.0000, 0.0000, 0.0000, 0.0000,\n",
       "           0.0000, 0.0000, 0.0941, 0.4471, 0.8667, 0.9922, 0.9922, 0.9922,\n",
       "           0.9922, 0.7882, 0.3059, 0.0000, 0.0000, 0.0000, 0.0000, 0.0000,\n",
       "           0.0000, 0.0000, 0.0000, 0.0000],\n",
       "          [0.0000, 0.0000, 0.0000, 0.0000, 0.0000, 0.0000, 0.0000, 0.0000,\n",
       "           0.0902, 0.2588, 0.8353, 0.9922, 0.9922, 0.9922, 0.9922, 0.7765,\n",
       "           0.3176, 0.0078, 0.0000, 0.0000, 0.0000, 0.0000, 0.0000, 0.0000,\n",
       "           0.0000, 0.0000, 0.0000, 0.0000],\n",
       "          [0.0000, 0.0000, 0.0000, 0.0000, 0.0000, 0.0000, 0.0706, 0.6706,\n",
       "           0.8588, 0.9922, 0.9922, 0.9922, 0.9922, 0.7647, 0.3137, 0.0353,\n",
       "           0.0000, 0.0000, 0.0000, 0.0000, 0.0000, 0.0000, 0.0000, 0.0000,\n",
       "           0.0000, 0.0000, 0.0000, 0.0000],\n",
       "          [0.0000, 0.0000, 0.0000, 0.0000, 0.2157, 0.6745, 0.8863, 0.9922,\n",
       "           0.9922, 0.9922, 0.9922, 0.9569, 0.5216, 0.0431, 0.0000, 0.0000,\n",
       "           0.0000, 0.0000, 0.0000, 0.0000, 0.0000, 0.0000, 0.0000, 0.0000,\n",
       "           0.0000, 0.0000, 0.0000, 0.0000],\n",
       "          [0.0000, 0.0000, 0.0000, 0.0000, 0.5333, 0.9922, 0.9922, 0.9922,\n",
       "           0.8314, 0.5294, 0.5176, 0.0627, 0.0000, 0.0000, 0.0000, 0.0000,\n",
       "           0.0000, 0.0000, 0.0000, 0.0000, 0.0000, 0.0000, 0.0000, 0.0000,\n",
       "           0.0000, 0.0000, 0.0000, 0.0000],\n",
       "          [0.0000, 0.0000, 0.0000, 0.0000, 0.0000, 0.0000, 0.0000, 0.0000,\n",
       "           0.0000, 0.0000, 0.0000, 0.0000, 0.0000, 0.0000, 0.0000, 0.0000,\n",
       "           0.0000, 0.0000, 0.0000, 0.0000, 0.0000, 0.0000, 0.0000, 0.0000,\n",
       "           0.0000, 0.0000, 0.0000, 0.0000],\n",
       "          [0.0000, 0.0000, 0.0000, 0.0000, 0.0000, 0.0000, 0.0000, 0.0000,\n",
       "           0.0000, 0.0000, 0.0000, 0.0000, 0.0000, 0.0000, 0.0000, 0.0000,\n",
       "           0.0000, 0.0000, 0.0000, 0.0000, 0.0000, 0.0000, 0.0000, 0.0000,\n",
       "           0.0000, 0.0000, 0.0000, 0.0000],\n",
       "          [0.0000, 0.0000, 0.0000, 0.0000, 0.0000, 0.0000, 0.0000, 0.0000,\n",
       "           0.0000, 0.0000, 0.0000, 0.0000, 0.0000, 0.0000, 0.0000, 0.0000,\n",
       "           0.0000, 0.0000, 0.0000, 0.0000, 0.0000, 0.0000, 0.0000, 0.0000,\n",
       "           0.0000, 0.0000, 0.0000, 0.0000]]]),\n",
       " 5)"
      ]
     },
     "execution_count": 4,
     "metadata": {},
     "output_type": "execute_result"
    }
   ],
   "source": [
    "img,label = train_data[0]\n",
    "img,label"
   ]
  },
  {
   "cell_type": "code",
   "execution_count": 5,
   "id": "71110b48-3547-4b43-b073-782e210673e6",
   "metadata": {},
   "outputs": [
    {
     "name": "stdout",
     "output_type": "stream",
     "text": [
      "Shapes of input image: torch.Size([1, 28, 28]) and Label: 5\n",
      "Number of samples in train data: 60000\n",
      "Number of samples in test data: 10000\n"
     ]
    }
   ],
   "source": [
    "# Shapes of input \n",
    "print(f\"Shapes of input image: {img.shape} and Label: {label}\")\n",
    "\n",
    "# Number of Samples\n",
    "print(f\"Number of samples in train data: {len(train_data)}\")\n",
    "print(f\"Number of samples in test data: {len(test_data)}\")"
   ]
  },
  {
   "cell_type": "code",
   "execution_count": 6,
   "id": "67bb226e-f655-461d-afbe-713d067b36c7",
   "metadata": {
    "scrolled": true
   },
   "outputs": [
    {
     "data": {
      "text/plain": [
       "{'0 - zero': 0,\n",
       " '1 - one': 1,\n",
       " '2 - two': 2,\n",
       " '3 - three': 3,\n",
       " '4 - four': 4,\n",
       " '5 - five': 5,\n",
       " '6 - six': 6,\n",
       " '7 - seven': 7,\n",
       " '8 - eight': 8,\n",
       " '9 - nine': 9}"
      ]
     },
     "execution_count": 6,
     "metadata": {},
     "output_type": "execute_result"
    }
   ],
   "source": [
    "train_data.class_to_idx"
   ]
  },
  {
   "cell_type": "code",
   "execution_count": 7,
   "id": "2bbe5b43-b4ea-4196-b6fc-61a20e37e7f6",
   "metadata": {},
   "outputs": [
    {
     "data": {
      "text/plain": [
       "['0 - zero',\n",
       " '1 - one',\n",
       " '2 - two',\n",
       " '3 - three',\n",
       " '4 - four',\n",
       " '5 - five',\n",
       " '6 - six',\n",
       " '7 - seven',\n",
       " '8 - eight',\n",
       " '9 - nine']"
      ]
     },
     "execution_count": 7,
     "metadata": {},
     "output_type": "execute_result"
    }
   ],
   "source": [
    "class_names = train_data.classes\n",
    "class_names"
   ]
  },
  {
   "cell_type": "markdown",
   "id": "1f456968-3913-422c-97d4-024b437f9ae2",
   "metadata": {},
   "source": [
    "## Visualize the Data"
   ]
  },
  {
   "cell_type": "code",
   "execution_count": 8,
   "id": "ff24626d-338c-49c5-8ba5-f0872bb433b0",
   "metadata": {},
   "outputs": [
    {
     "data": {
      "text/plain": [
       "(-0.5, 27.5, 27.5, -0.5)"
      ]
     },
     "execution_count": 8,
     "metadata": {},
     "output_type": "execute_result"
    },
    {
     "data": {
      "image/png": "[encoded data removed]",
      "text/plain": [
       "<Figure size 640x480 with 1 Axes>"
      ]
     },
     "metadata": {},
     "output_type": "display_data"
    }
   ],
   "source": [
    "plt.imshow(img.squeeze())\n",
    "plt.title(class_names[label])\n",
    "plt.axis(False)"
   ]
  },
  {
   "cell_type": "code",
   "execution_count": 9,
   "id": "300859af-d4a8-489f-a7a9-d52765ab6435",
   "metadata": {},
   "outputs": [
    {
     "data": {
      "image/png": "[encoded data removed]",
      "text/plain": [
       "<Figure size 900x900 with 16 Axes>"
      ]
     },
     "metadata": {},
     "output_type": "display_data"
    }
   ],
   "source": [
    "# Randomly visualize some of the training data\n",
    "# First of all I need randomly initiate index\n",
    "\n",
    "import random\n",
    "plt.figure(figsize = (9,9))\n",
    "rows,cols = 4,4\n",
    "random_idx = np.random.randint(0,len(train_data),16)\n",
    "for idx,i in enumerate(random_idx):\n",
    "    plt.subplot(4,4,idx+1)\n",
    "    img,label = train_data[i]\n",
    "    plt.imshow(img.squeeze())\n",
    "    plt.title(class_names[label])\n",
    "    plt.axis(False)\n",
    "        \n"
   ]
  },
  {
   "cell_type": "markdown",
   "id": "460c409e-fe0d-4b4f-8232-1c840233b8bc",
   "metadata": {},
   "source": [
    "# 2. DataLoader (Prepare train and test Data)\n"
   ]
  },
  {
   "cell_type": "code",
   "execution_count": 10,
   "id": "474cbad9-971c-4ecf-b4ed-db52f0f9503e",
   "metadata": {},
   "outputs": [],
   "source": [
    "from torch.utils.data.dataloader import DataLoader\n",
    "\n",
    "# batch size\n",
    "Batch_size = 32\n",
    "\n",
    "# Turn datasets into iterable (batches)\n",
    "train_dataloader = DataLoader(dataset = train_data,\n",
    "                             batch_size = Batch_size,\n",
    "                             shuffle=True)\n",
    "\n",
    "test_dataloader = DataLoader(dataset = test_data,\n",
    "                            batch_size=Batch_size,\n",
    "                            shuffle = True)"
   ]
  },
  {
   "cell_type": "code",
   "execution_count": 11,
   "id": "2fbbf8b2-894b-4866-aec8-8fb07433b040",
   "metadata": {},
   "outputs": [
    {
     "data": {
      "text/plain": [
       "(<torch.utils.data.dataloader.DataLoader at 0x16c4a2250>,\n",
       " <torch.utils.data.dataloader.DataLoader at 0x16c3ef350>)"
      ]
     },
     "execution_count": 11,
     "metadata": {},
     "output_type": "execute_result"
    }
   ],
   "source": [
    "train_dataloader,test_dataloader"
   ]
  },
  {
   "cell_type": "code",
   "execution_count": 12,
   "id": "ccac8cd2-aa7f-4939-b81e-71051317b10d",
   "metadata": {},
   "outputs": [
    {
     "data": {
      "text/plain": [
       "(Dataset MNIST\n",
       "     Number of datapoints: 60000\n",
       "     Root location: data\n",
       "     Split: Train\n",
       "     StandardTransform\n",
       " Transform: ToTensor(),\n",
       " Dataset MNIST\n",
       "     Number of datapoints: 10000\n",
       "     Root location: data\n",
       "     Split: Test\n",
       "     StandardTransform\n",
       " Transform: ToTensor())"
      ]
     },
     "execution_count": 12,
     "metadata": {},
     "output_type": "execute_result"
    }
   ],
   "source": [
    "train_dataloader.dataset,test_dataloader.dataset"
   ]
  },
  {
   "cell_type": "code",
   "execution_count": 13,
   "id": "1e336555-b677-4026-b435-061ee7fe43e6",
   "metadata": {},
   "outputs": [
    {
     "name": "stdout",
     "output_type": "stream",
     "text": [
      " Length of train data: 1875 batches of 32\n",
      " Length of test data: 313 batches of 32\n"
     ]
    }
   ],
   "source": [
    "print(f\" Length of train data: {len(train_dataloader)} batches of 32\")\n",
    "print(f\" Length of test data: {len(test_dataloader)} batches of 32\")"
   ]
  },
  {
   "cell_type": "code",
   "execution_count": 14,
   "id": "ac7f7b9c-b00d-4217-8e47-35e24c7c6799",
   "metadata": {},
   "outputs": [
    {
     "name": "stdout",
     "output_type": "stream",
     "text": [
      "torch.Size([32, 1, 28, 28])\n",
      "torch.Size([32])\n"
     ]
    }
   ],
   "source": [
    "train_features_batch,train_features_label =next(iter(train_dataloader))\n",
    "print(train_features_batch.shape)\n",
    "print(train_features_label.shape)"
   ]
  },
  {
   "cell_type": "markdown",
   "id": "8a4074d5-39cc-49c2-a0ea-d4c7165b9914",
   "metadata": {},
   "source": [
    "# 3. Create a Baseline model"
   ]
  },
  {
   "cell_type": "code",
   "execution_count": 15,
   "id": "dc472403-6296-4397-8bf2-8f1d2ecb13af",
   "metadata": {},
   "outputs": [],
   "source": [
    "from torch import nn\n",
    "\n",
    "class MNISTModelV0(nn.Module):\n",
    "    def __init__(self,\n",
    "                input_image_shape:int,\n",
    "                hidden_unit_shape:int,\n",
    "                output_unit_shape:int):\n",
    "        super().__init__()\n",
    "\n",
    "\n",
    "        self.stack_model = nn.Sequential(\n",
    "            nn.Flatten(),\n",
    "            nn.Linear(in_features = input_image_shape,\n",
    "                     out_features=hidden_unit_shape),\n",
    "            nn.Linear(in_features = hidden_unit_shape,\n",
    "                     out_features = output_unit_shape)\n",
    "        )\n",
    "\n",
    "\n",
    "    def forward(self,x):\n",
    "        return self.stack_model(x)"
   ]
  },
  {
   "cell_type": "code",
   "execution_count": 16,
   "id": "68005ddc-1977-40b2-a48b-36ee1da7343a",
   "metadata": {},
   "outputs": [
    {
     "data": {
      "text/plain": [
       "'mps'"
      ]
     },
     "execution_count": 16,
     "metadata": {},
     "output_type": "execute_result"
    }
   ],
   "source": [
    "## Device Agnostic Code\n",
    "device = 'mps' if torch.backends.mps.is_available() else 'cpu'\n",
    "device"
   ]
  },
  {
   "cell_type": "code",
   "execution_count": 17,
   "id": "d5bb3c17-3f10-4934-b0dc-eb5e99126108",
   "metadata": {},
   "outputs": [],
   "source": [
    "# Create a instance of the model and pass it to the device\n",
    "torch.manual_seed(42)\n",
    "torch.mps.manual_seed(42)\n",
    "model_0 = MNISTModelV0(input_image_shape=784,\n",
    "                       hidden_unit_shape=10,\n",
    "                       output_unit_shape=len(class_names)).to(device)"
   ]
  },
  {
   "cell_type": "code",
   "execution_count": 18,
   "id": "bfcf0344-eca7-45ff-b007-c8153ccc1a1b",
   "metadata": {},
   "outputs": [
    {
     "data": {
      "text/plain": [
       "MNISTModelV0(\n",
       "  (stack_model): Sequential(\n",
       "    (0): Flatten(start_dim=1, end_dim=-1)\n",
       "    (1): Linear(in_features=784, out_features=10, bias=True)\n",
       "    (2): Linear(in_features=10, out_features=10, bias=True)\n",
       "  )\n",
       ")"
      ]
     },
     "execution_count": 18,
     "metadata": {},
     "output_type": "execute_result"
    }
   ],
   "source": [
    "model_0"
   ]
  },
  {
   "cell_type": "code",
   "execution_count": 19,
   "id": "80b59832-1903-4d77-a706-c9513df83970",
   "metadata": {},
   "outputs": [],
   "source": [
    "## Loss and Optimizer\n",
    "loss_fn = nn.CrossEntropyLoss() # as it is a classification model\n",
    "\n",
    "optimizer = torch.optim.Adam(model_0.parameters(),\n",
    "                            lr = 0.01)\n"
   ]
  },
  {
   "cell_type": "code",
   "execution_count": 20,
   "id": "faf345f0-ee61-4d62-9218-84ec5f99a8e6",
   "metadata": {},
   "outputs": [
    {
     "name": "stdout",
     "output_type": "stream",
     "text": [
      "Helper Functions already available, Skip downloading.....\n"
     ]
    }
   ],
   "source": [
    "# Accuracy Function\n",
    "from pathlib import Path\n",
    "import requests\n",
    "\n",
    "if Path(\"helper_functions.py\").is_file():\n",
    "    print(\"Helper Functions already available, Skip downloading.....\")\n",
    "else:\n",
    "    request = requests.get(\"https://raw.githubusercontent.com/mrdbourke/pytorch-deep-learning/main/helper_functions.py\")\n",
    "    with open(\"helper_functions.py\",\"wb\") as f:\n",
    "        f.write(request.content)\n",
    "        print(\"Download Complete\")\n"
   ]
  },
  {
   "cell_type": "code",
   "execution_count": 21,
   "id": "98302a96-50cd-48c2-9345-84d99c19f6b3",
   "metadata": {},
   "outputs": [],
   "source": [
    "from helper_functions import accuracy_fn"
   ]
  },
  {
   "cell_type": "markdown",
   "id": "b40bf471-f1fc-4b7b-aac8-8b148654c5f7",
   "metadata": {},
   "source": [
    "## Train and Test Loop Function"
   ]
  },
  {
   "cell_type": "code",
   "execution_count": 22,
   "id": "48d7de5e-0874-4901-ae06-d3c05ea725f5",
   "metadata": {},
   "outputs": [],
   "source": [
    "def train_loop(model: torch.nn.Module,\n",
    "              data: torch.utils.data.DataLoader,\n",
    "              loss_fn: torch.nn.Module,optimizer:torch.optim.Optimizer,\n",
    "              accuracy_fn,\n",
    "              device):\n",
    "    model.to(device)\n",
    "    train_loss,accuracy = 0,0\n",
    "\n",
    "    model.train()\n",
    "\n",
    "    for X_train_batch,y_label in data:\n",
    "        X_train_batch,y_label = X_train_batch.to(device),y_label.to(device)\n",
    "\n",
    "        # 1. Forward Pass\n",
    "        y_logit = model(X_train_batch)\n",
    "        \n",
    "        # Turn logit into pred_probs\n",
    "        y_pred_label = torch.softmax(input = y_logit,\n",
    "                              dim = 1).argmax(dim=1)\n",
    "        \n",
    "        # 2. Loss & Accuracy Calculation\n",
    "        loss = loss_fn(y_logit,y_label) #y_logit is the loss of a whole batch --> basically loss of 32 images\n",
    "        train_loss +=loss #accumulate the whole loss of the dataset\n",
    "        acc = accuracy_fn(y_true = y_label,\n",
    "                         y_pred=y_pred_label)\n",
    "        accuracy +=acc\n",
    "\n",
    "        # 3. Optimizer gradient zero\n",
    "        optimizer.zero_grad()\n",
    "\n",
    "        # 4. Backward Propagation\n",
    "        loss.backward()\n",
    "\n",
    "        # 5. gradient step\n",
    "        optimizer.step()\n",
    "\n",
    "\n",
    "    # Calculate the average loss and accuracy of the whole dataset and manifest them\n",
    "    average_train_loss = train_loss/len(data)\n",
    "    average_accuracy = accuracy / len(data)\n",
    "\n",
    "    print(f\"Total Train Loss: {average_train_loss:.3f} | Train Accuracy: {average_accuracy:.3f}\")"
   ]
  },
  {
   "cell_type": "code",
   "execution_count": 23,
   "id": "1edf072a-8405-4747-b35e-ac49a520c6f2",
   "metadata": {},
   "outputs": [],
   "source": [
    "def test_loop(model: torch.nn.Module,\n",
    "             data: torch.utils.data.DataLoader,\n",
    "             loss_fn: torch.nn.Module,\n",
    "             accuracy_fn,\n",
    "             device):\n",
    "    model.to(device)\n",
    "    test_loss,test_acc = 0,0\n",
    "\n",
    "    model.eval()\n",
    "    with torch.inference_mode():\n",
    "        for X_test_batch,y_batch_label in data:\n",
    "            X_test_batch,y_batch_label =X_test_batch.to(device),y_batch_label.to(device)\n",
    "    \n",
    "    \n",
    "            # 1. Forward Pass\n",
    "            y_test_logit = model(X_test_batch)\n",
    "    \n",
    "            # Turn logit into prediction probabilities\n",
    "            y_pred_prob = torch.softmax(input = y_test_logit,\n",
    "                                       dim =1).argmax(dim =1)\n",
    "    \n",
    "            # 2. Loss Calculation\n",
    "            loss = loss_fn(y_test_logit,\n",
    "                          y_batch_label)\n",
    "            test_loss +=loss\n",
    "            accuracy = accuracy_fn(y_true = y_batch_label,\n",
    "                                  y_pred = y_pred_prob)\n",
    "            test_acc +=accuracy\n",
    "    \n",
    "        avg_test_loss = test_loss/len(data)\n",
    "        avg_accuracy = test_acc/len(data)\n",
    "\n",
    "        print(f\"Test Loss: {avg_test_loss} | Accuracy: {avg_accuracy}\")\n",
    "            \n",
    "            "
   ]
  },
  {
   "cell_type": "markdown",
   "id": "fdf57821-2760-49fe-a1bd-15cb77cf68bc",
   "metadata": {},
   "source": [
    "## Evaluation Mode"
   ]
  },
  {
   "cell_type": "code",
   "execution_count": 27,
   "id": "b9c04e2a-4c0b-4fda-a18a-b02936cc45ce",
   "metadata": {},
   "outputs": [],
   "source": [
    "## Track the timer\n",
    "from timeit import default_timer as timer\n",
    "def time_tracking(start_time:float,\n",
    "                 end_time: float,\n",
    "                 device):\n",
    "\n",
    "    duration = end_time - start_time\n",
    "    print(f\"Train time on device {device}: {duration} seconds\")"
   ]
  },
  {
   "cell_type": "code",
   "execution_count": 40,
   "id": "98278222-9d05-41b0-ab8b-f47e36a0c7fc",
   "metadata": {},
   "outputs": [],
   "source": [
    "def eval_mode(model: torch.nn.Module,\n",
    "             data: torch.utils.data.DataLoader,\n",
    "             loss_fn: torch.nn.Module,\n",
    "             accuracy_fn,\n",
    "             device):\n",
    "    \n",
    "    model.to(device)\n",
    "    loss,acc = 0,0\n",
    "    with torch.inference_mode():\n",
    "        for X,y in data:\n",
    "            X,y=X.to(device),y.to(device)\n",
    "            \n",
    "            # forward pass\n",
    "            y_pred = model(X)\n",
    "            \n",
    "            \n",
    "            pred_probs = torch.softmax(y_pred,dim=1).argmax(dim=1)\n",
    "\n",
    "            # Loss calculation\n",
    "            test_loss= loss_fn(y_pred,y)\n",
    "            loss += test_loss\n",
    "\n",
    "            accuracy = accuracy_fn(y_true = y,\n",
    "                                   y_pred = pred_probs)\n",
    "            acc +=accuracy\n",
    "\n",
    "        loss /=len(data)\n",
    "        acc /=len(data)\n",
    "        \n",
    "    return {\"model\":model.__class__.__name__,\n",
    "            \"model loss\":loss.item(),\n",
    "            \"model accuracy\":acc}\n",
    "            "
   ]
  },
  {
   "cell_type": "markdown",
   "id": "f587666d-c6a1-47fa-936a-38045e37295f",
   "metadata": {},
   "source": [
    "## Model's Performance on per Epoch"
   ]
  },
  {
   "cell_type": "code",
   "execution_count": 36,
   "id": "b7bced24-9842-40f7-8044-16c7ccbb39aa",
   "metadata": {},
   "outputs": [
    {
     "data": {
      "application/vnd.jupyter.widget-view+json": {
       "model_id": "2fdbd2aa289440ea9db59093016b1cb9",
       "version_major": 2,
       "version_minor": 0
      },
      "text/plain": [
       "  0%|          | 0/5 [00:00<?, ?it/s]"
      ]
     },
     "metadata": {},
     "output_type": "display_data"
    },
    {
     "name": "stdout",
     "output_type": "stream",
     "text": [
      "Epoch: 0......\n",
      "Total Train Loss: 0.313 | Train Accuracy: 91.198\n",
      "Test Loss: 0.37363937497138977 | Accuracy: 89.61661341853035\n",
      "Epoch: 1......\n",
      "Total Train Loss: 0.309 | Train Accuracy: 91.330\n",
      "Test Loss: 0.35682016611099243 | Accuracy: 90.37539936102236\n",
      "Epoch: 2......\n",
      "Total Train Loss: 0.310 | Train Accuracy: 91.337\n",
      "Test Loss: 0.32510286569595337 | Accuracy: 91.32388178913737\n",
      "Epoch: 3......\n",
      "Total Train Loss: 0.312 | Train Accuracy: 91.305\n",
      "Test Loss: 0.3225941061973572 | Accuracy: 91.82308306709265\n",
      "Epoch: 4......\n",
      "Total Train Loss: 0.310 | Train Accuracy: 91.330\n",
      "Test Loss: 0.34608274698257446 | Accuracy: 90.89456869009585\n",
      "Train time on device mps: 48.97444287498365 seconds\n"
     ]
    }
   ],
   "source": [
    "# Create the model instance\n",
    "torch.manual_seed(42)\n",
    "from tqdm.auto import tqdm\n",
    "start_time = timer()\n",
    "epochs = 5\n",
    "for epoch in tqdm(range(epochs)):\n",
    "    print(f\"Epoch: {epoch}......\")\n",
    "    train = train_loop(model=model_0,\n",
    "                      data = train_dataloader,\n",
    "                       loss_fn=loss_fn,\n",
    "                       optimizer = optimizer,\n",
    "                       accuracy_fn =accuracy_fn,\n",
    "                      device = device)\n",
    "    test= test_loop(model = model_0,\n",
    "                   data = test_dataloader,\n",
    "                   loss_fn = loss_fn,\n",
    "                   accuracy_fn = accuracy_fn,\n",
    "                   device = device)\n",
    "end_time = timer()\n",
    "\n",
    "total_time = time_tracking(start_time=start_time,\n",
    "                          end_time=end_time,\n",
    "                          device = device)\n",
    "    "
   ]
  },
  {
   "cell_type": "markdown",
   "id": "ae5d1f73-81f6-4a68-9dbb-197fdc680cfb",
   "metadata": {},
   "source": [
    "## Get the result of model_0"
   ]
  },
  {
   "cell_type": "code",
   "execution_count": 41,
   "id": "d61a68c4-50ff-4ef6-ae21-918a0cec9aec",
   "metadata": {},
   "outputs": [],
   "source": [
    "evaluation_model_0 = eval_mode(model=model_0,\n",
    "                              data= test_dataloader,loss_fn = loss_fn,\n",
    "                              accuracy_fn = accuracy_fn,\n",
    "                              device = device)"
   ]
  },
  {
   "cell_type": "code",
   "execution_count": 42,
   "id": "34c3aa88-6964-4f91-8e39-1496fe30649d",
   "metadata": {},
   "outputs": [
    {
     "data": {
      "text/plain": [
       "{'model': 'MNISTModelV0',\n",
       " 'model loss': 0.34607431292533875,\n",
       " 'model accuracy': 90.89456869009585}"
      ]
     },
     "execution_count": 42,
     "metadata": {},
     "output_type": "execute_result"
    }
   ],
   "source": [
    "evaluation_model_0"
   ]
  },
  {
   "cell_type": "code",
   "execution_count": 30,
   "id": "a841e3e5-01cd-43cd-bcd6-cedc347d510c",
   "metadata": {},
   "outputs": [],
   "source": [
    "# Predict some random sample and evaluate the performance\n",
    "random_idx = torch.randint(low = 0,high = len(test_data),size)"
   ]
  },
  {
   "cell_type": "code",
   "execution_count": null,
   "id": "7f72ccf6-fdfb-42b1-aa01-74b74acb366d",
   "metadata": {},
   "outputs": [],
   "source": []
  }
 ],
 "metadata": {
  "kernelspec": {
   "display_name": "Python 3 (ipykernel)",
   "language": "python",
   "name": "python3"
  },
  "language_info": {
   "codemirror_mode": {
    "name": "ipython",
    "version": 3
   },
   "file_extension": ".py",
   "mimetype": "text/x-python",
   "name": "python",
   "nbconvert_exporter": "python",
   "pygments_lexer": "ipython3",
   "version": "3.11.5"
  }
 },
 "nbformat": 4,
 "nbformat_minor": 5
}

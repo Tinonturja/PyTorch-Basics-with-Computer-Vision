{
 "cells": [
  {
   "cell_type": "markdown",
   "id": "169520af-f223-43a9-98c4-cb59d187a769",
   "metadata": {},
   "source": [
    "# 0. Pipeline\n",
    "* Import libararies\n",
    "* Import Datasets\n",
    "* Split the data into train_test\n",
    "* Got idea about the input and output shape of the data\n",
    "* Visualize the data and get insights of the data\n",
    "* Segment the data into batch size by dataloader\n",
    "* Got insight about the single batch of the data\n",
    "* Create a baseline model\n",
    "* Set Loss and Optimizer Function\n",
    "* Train and Test Loop\n",
    "* Evaluation Mode:\n",
    "    * Time tracking\n",
    "    * Returns a dictionary which shows the result\n",
    "* Fit the model\n",
    "* "
   ]
  },
  {
   "cell_type": "code",
   "execution_count": 1,
   "id": "b78d7bbd-5c0b-4c97-9533-01df1ec782dc",
   "metadata": {},
   "outputs": [],
   "source": [
    "# Import Libraries\n",
    "import torch\n",
    "import torchvision\n",
    "import numpy as np\n",
    "import pandas as pd\n",
    "import matplotlib.pyplot as plt\n",
    "\n",
    "\n",
    "# TorchVision Libraries\n",
    "from torchvision import datasets\n",
    "from torchvision.transforms import ToTensor\n",
    "\n"
   ]
  },
  {
   "cell_type": "code",
   "execution_count": 2,
   "id": "5ca7ae13-761e-4b8f-8e58-e7f4b6d25ed1",
   "metadata": {},
   "outputs": [],
   "source": [
    "# Train and Test Dataset\n",
    "train_data = datasets.MNIST(\n",
    "    root = 'data',\n",
    "    train = True,\n",
    "    transform = ToTensor(),\n",
    "    download=True,\n",
    "    target_transform = None\n",
    ")\n",
    "test_data =  datasets.MNIST(\n",
    "    root = 'data',\n",
    "    train = False,\n",
    "    transform = ToTensor(),\n",
    "    download=True,\n",
    ")"
   ]
  },
  {
   "cell_type": "code",
   "execution_count": 3,
   "id": "1b0aba3c-f500-4802-a32c-e6aee62185da",
   "metadata": {},
   "outputs": [
    {
     "data": {
      "text/plain": [
       "(Dataset MNIST\n",
       "     Number of datapoints: 60000\n",
       "     Root location: data\n",
       "     Split: Train\n",
       "     StandardTransform\n",
       " Transform: ToTensor(),\n",
       " Dataset MNIST\n",
       "     Number of datapoints: 10000\n",
       "     Root location: data\n",
       "     Split: Test\n",
       "     StandardTransform\n",
       " Transform: ToTensor())"
      ]
     },
     "execution_count": 3,
     "metadata": {},
     "output_type": "execute_result"
    }
   ],
   "source": [
    "train_data,test_data"
   ]
  },
  {
   "cell_type": "markdown",
   "id": "01af4570-ebfe-474d-bfd9-2d6372b48936",
   "metadata": {},
   "source": [
    "# 1. Input and Output shapes of Computer vision model"
   ]
  },
  {
   "cell_type": "code",
   "execution_count": 4,
   "id": "2aed5006-f77f-4547-974c-6d114ea50e9a",
   "metadata": {},
   "outputs": [
    {
     "data": {
      "text/plain": [
       "(tensor([[[0.0000, 0.0000, 0.0000, 0.0000, 0.0000, 0.0000, 0.0000, 0.0000,\n",
       "           0.0000, 0.0000, 0.0000, 0.0000, 0.0000, 0.0000, 0.0000, 0.0000,\n",
       "           0.0000, 0.0000, 0.0000, 0.0000, 0.0000, 0.0000, 0.0000, 0.0000,\n",
       "           0.0000, 0.0000, 0.0000, 0.0000],\n",
       "          [0.0000, 0.0000, 0.0000, 0.0000, 0.0000, 0.0000, 0.0000, 0.0000,\n",
       "           0.0000, 0.0000, 0.0000, 0.0000, 0.0000, 0.0000, 0.0000, 0.0000,\n",
       "           0.0000, 0.0000, 0.0000, 0.0000, 0.0000, 0.0000, 0.0000, 0.0000,\n",
       "           0.0000, 0.0000, 0.0000, 0.0000],\n",
       "          [0.0000, 0.0000, 0.0000, 0.0000, 0.0000, 0.0000, 0.0000, 0.0000,\n",
       "           0.0000, 0.0000, 0.0000, 0.0000, 0.0000, 0.0000, 0.0000, 0.0000,\n",
       "           0.0000, 0.0000, 0.0000, 0.0000, 0.0000, 0.0000, 0.0000, 0.0000,\n",
       "           0.0000, 0.0000, 0.0000, 0.0000],\n",
       "          [0.0000, 0.0000, 0.0000, 0.0000, 0.0000, 0.0000, 0.0000, 0.0000,\n",
       "           0.0000, 0.0000, 0.0000, 0.0000, 0.0000, 0.0000, 0.0000, 0.0000,\n",
       "           0.0000, 0.0000, 0.0000, 0.0000, 0.0000, 0.0000, 0.0000, 0.0000,\n",
       "           0.0000, 0.0000, 0.0000, 0.0000],\n",
       "          [0.0000, 0.0000, 0.0000, 0.0000, 0.0000, 0.0000, 0.0000, 0.0000,\n",
       "           0.0000, 0.0000, 0.0000, 0.0000, 0.0000, 0.0000, 0.0000, 0.0000,\n",
       "           0.0000, 0.0000, 0.0000, 0.0000, 0.0000, 0.0000, 0.0000, 0.0000,\n",
       "           0.0000, 0.0000, 0.0000, 0.0000],\n",
       "          [0.0000, 0.0000, 0.0000, 0.0000, 0.0000, 0.0000, 0.0000, 0.0000,\n",
       "           0.0000, 0.0000, 0.0000, 0.0000, 0.0118, 0.0706, 0.0706, 0.0706,\n",
       "           0.4941, 0.5333, 0.6863, 0.1020, 0.6510, 1.0000, 0.9686, 0.4980,\n",
       "           0.0000, 0.0000, 0.0000, 0.0000],\n",
       "          [0.0000, 0.0000, 0.0000, 0.0000, 0.0000, 0.0000, 0.0000, 0.0000,\n",
       "           0.1176, 0.1412, 0.3686, 0.6039, 0.6667, 0.9922, 0.9922, 0.9922,\n",
       "           0.9922, 0.9922, 0.8824, 0.6745, 0.9922, 0.9490, 0.7647, 0.2510,\n",
       "           0.0000, 0.0000, 0.0000, 0.0000],\n",
       "          [0.0000, 0.0000, 0.0000, 0.0000, 0.0000, 0.0000, 0.0000, 0.1922,\n",
       "           0.9333, 0.9922, 0.9922, 0.9922, 0.9922, 0.9922, 0.9922, 0.9922,\n",
       "           0.9922, 0.9843, 0.3647, 0.3216, 0.3216, 0.2196, 0.1529, 0.0000,\n",
       "           0.0000, 0.0000, 0.0000, 0.0000],\n",
       "          [0.0000, 0.0000, 0.0000, 0.0000, 0.0000, 0.0000, 0.0000, 0.0706,\n",
       "           0.8588, 0.9922, 0.9922, 0.9922, 0.9922, 0.9922, 0.7765, 0.7137,\n",
       "           0.9686, 0.9451, 0.0000, 0.0000, 0.0000, 0.0000, 0.0000, 0.0000,\n",
       "           0.0000, 0.0000, 0.0000, 0.0000],\n",
       "          [0.0000, 0.0000, 0.0000, 0.0000, 0.0000, 0.0000, 0.0000, 0.0000,\n",
       "           0.3137, 0.6118, 0.4196, 0.9922, 0.9922, 0.8039, 0.0431, 0.0000,\n",
       "           0.1686, 0.6039, 0.0000, 0.0000, 0.0000, 0.0000, 0.0000, 0.0000,\n",
       "           0.0000, 0.0000, 0.0000, 0.0000],\n",
       "          [0.0000, 0.0000, 0.0000, 0.0000, 0.0000, 0.0000, 0.0000, 0.0000,\n",
       "           0.0000, 0.0549, 0.0039, 0.6039, 0.9922, 0.3529, 0.0000, 0.0000,\n",
       "           0.0000, 0.0000, 0.0000, 0.0000, 0.0000, 0.0000, 0.0000, 0.0000,\n",
       "           0.0000, 0.0000, 0.0000, 0.0000],\n",
       "          [0.0000, 0.0000, 0.0000, 0.0000, 0.0000, 0.0000, 0.0000, 0.0000,\n",
       "           0.0000, 0.0000, 0.0000, 0.5451, 0.9922, 0.7451, 0.0078, 0.0000,\n",
       "           0.0000, 0.0000, 0.0000, 0.0000, 0.0000, 0.0000, 0.0000, 0.0000,\n",
       "           0.0000, 0.0000, 0.0000, 0.0000],\n",
       "          [0.0000, 0.0000, 0.0000, 0.0000, 0.0000, 0.0000, 0.0000, 0.0000,\n",
       "           0.0000, 0.0000, 0.0000, 0.0431, 0.7451, 0.9922, 0.2745, 0.0000,\n",
       "           0.0000, 0.0000, 0.0000, 0.0000, 0.0000, 0.0000, 0.0000, 0.0000,\n",
       "           0.0000, 0.0000, 0.0000, 0.0000],\n",
       "          [0.0000, 0.0000, 0.0000, 0.0000, 0.0000, 0.0000, 0.0000, 0.0000,\n",
       "           0.0000, 0.0000, 0.0000, 0.0000, 0.1373, 0.9451, 0.8824, 0.6275,\n",
       "           0.4235, 0.0039, 0.0000, 0.0000, 0.0000, 0.0000, 0.0000, 0.0000,\n",
       "           0.0000, 0.0000, 0.0000, 0.0000],\n",
       "          [0.0000, 0.0000, 0.0000, 0.0000, 0.0000, 0.0000, 0.0000, 0.0000,\n",
       "           0.0000, 0.0000, 0.0000, 0.0000, 0.0000, 0.3176, 0.9412, 0.9922,\n",
       "           0.9922, 0.4667, 0.0980, 0.0000, 0.0000, 0.0000, 0.0000, 0.0000,\n",
       "           0.0000, 0.0000, 0.0000, 0.0000],\n",
       "          [0.0000, 0.0000, 0.0000, 0.0000, 0.0000, 0.0000, 0.0000, 0.0000,\n",
       "           0.0000, 0.0000, 0.0000, 0.0000, 0.0000, 0.0000, 0.1765, 0.7294,\n",
       "           0.9922, 0.9922, 0.5882, 0.1059, 0.0000, 0.0000, 0.0000, 0.0000,\n",
       "           0.0000, 0.0000, 0.0000, 0.0000],\n",
       "          [0.0000, 0.0000, 0.0000, 0.0000, 0.0000, 0.0000, 0.0000, 0.0000,\n",
       "           0.0000, 0.0000, 0.0000, 0.0000, 0.0000, 0.0000, 0.0000, 0.0627,\n",
       "           0.3647, 0.9882, 0.9922, 0.7333, 0.0000, 0.0000, 0.0000, 0.0000,\n",
       "           0.0000, 0.0000, 0.0000, 0.0000],\n",
       "          [0.0000, 0.0000, 0.0000, 0.0000, 0.0000, 0.0000, 0.0000, 0.0000,\n",
       "           0.0000, 0.0000, 0.0000, 0.0000, 0.0000, 0.0000, 0.0000, 0.0000,\n",
       "           0.0000, 0.9765, 0.9922, 0.9765, 0.2510, 0.0000, 0.0000, 0.0000,\n",
       "           0.0000, 0.0000, 0.0000, 0.0000],\n",
       "          [0.0000, 0.0000, 0.0000, 0.0000, 0.0000, 0.0000, 0.0000, 0.0000,\n",
       "           0.0000, 0.0000, 0.0000, 0.0000, 0.0000, 0.0000, 0.1804, 0.5098,\n",
       "           0.7176, 0.9922, 0.9922, 0.8118, 0.0078, 0.0000, 0.0000, 0.0000,\n",
       "           0.0000, 0.0000, 0.0000, 0.0000],\n",
       "          [0.0000, 0.0000, 0.0000, 0.0000, 0.0000, 0.0000, 0.0000, 0.0000,\n",
       "           0.0000, 0.0000, 0.0000, 0.0000, 0.1529, 0.5804, 0.8980, 0.9922,\n",
       "           0.9922, 0.9922, 0.9804, 0.7137, 0.0000, 0.0000, 0.0000, 0.0000,\n",
       "           0.0000, 0.0000, 0.0000, 0.0000],\n",
       "          [0.0000, 0.0000, 0.0000, 0.0000, 0.0000, 0.0000, 0.0000, 0.0000,\n",
       "           0.0000, 0.0000, 0.0941, 0.4471, 0.8667, 0.9922, 0.9922, 0.9922,\n",
       "           0.9922, 0.7882, 0.3059, 0.0000, 0.0000, 0.0000, 0.0000, 0.0000,\n",
       "           0.0000, 0.0000, 0.0000, 0.0000],\n",
       "          [0.0000, 0.0000, 0.0000, 0.0000, 0.0000, 0.0000, 0.0000, 0.0000,\n",
       "           0.0902, 0.2588, 0.8353, 0.9922, 0.9922, 0.9922, 0.9922, 0.7765,\n",
       "           0.3176, 0.0078, 0.0000, 0.0000, 0.0000, 0.0000, 0.0000, 0.0000,\n",
       "           0.0000, 0.0000, 0.0000, 0.0000],\n",
       "          [0.0000, 0.0000, 0.0000, 0.0000, 0.0000, 0.0000, 0.0706, 0.6706,\n",
       "           0.8588, 0.9922, 0.9922, 0.9922, 0.9922, 0.7647, 0.3137, 0.0353,\n",
       "           0.0000, 0.0000, 0.0000, 0.0000, 0.0000, 0.0000, 0.0000, 0.0000,\n",
       "           0.0000, 0.0000, 0.0000, 0.0000],\n",
       "          [0.0000, 0.0000, 0.0000, 0.0000, 0.2157, 0.6745, 0.8863, 0.9922,\n",
       "           0.9922, 0.9922, 0.9922, 0.9569, 0.5216, 0.0431, 0.0000, 0.0000,\n",
       "           0.0000, 0.0000, 0.0000, 0.0000, 0.0000, 0.0000, 0.0000, 0.0000,\n",
       "           0.0000, 0.0000, 0.0000, 0.0000],\n",
       "          [0.0000, 0.0000, 0.0000, 0.0000, 0.5333, 0.9922, 0.9922, 0.9922,\n",
       "           0.8314, 0.5294, 0.5176, 0.0627, 0.0000, 0.0000, 0.0000, 0.0000,\n",
       "           0.0000, 0.0000, 0.0000, 0.0000, 0.0000, 0.0000, 0.0000, 0.0000,\n",
       "           0.0000, 0.0000, 0.0000, 0.0000],\n",
       "          [0.0000, 0.0000, 0.0000, 0.0000, 0.0000, 0.0000, 0.0000, 0.0000,\n",
       "           0.0000, 0.0000, 0.0000, 0.0000, 0.0000, 0.0000, 0.0000, 0.0000,\n",
       "           0.0000, 0.0000, 0.0000, 0.0000, 0.0000, 0.0000, 0.0000, 0.0000,\n",
       "           0.0000, 0.0000, 0.0000, 0.0000],\n",
       "          [0.0000, 0.0000, 0.0000, 0.0000, 0.0000, 0.0000, 0.0000, 0.0000,\n",
       "           0.0000, 0.0000, 0.0000, 0.0000, 0.0000, 0.0000, 0.0000, 0.0000,\n",
       "           0.0000, 0.0000, 0.0000, 0.0000, 0.0000, 0.0000, 0.0000, 0.0000,\n",
       "           0.0000, 0.0000, 0.0000, 0.0000],\n",
       "          [0.0000, 0.0000, 0.0000, 0.0000, 0.0000, 0.0000, 0.0000, 0.0000,\n",
       "           0.0000, 0.0000, 0.0000, 0.0000, 0.0000, 0.0000, 0.0000, 0.0000,\n",
       "           0.0000, 0.0000, 0.0000, 0.0000, 0.0000, 0.0000, 0.0000, 0.0000,\n",
       "           0.0000, 0.0000, 0.0000, 0.0000]]]),\n",
       " 5)"
      ]
     },
     "execution_count": 4,
     "metadata": {},
     "output_type": "execute_result"
    }
   ],
   "source": [
    "img,label = train_data[0]\n",
    "img,label"
   ]
  },
  {
   "cell_type": "code",
   "execution_count": 5,
   "id": "71110b48-3547-4b43-b073-782e210673e6",
   "metadata": {},
   "outputs": [
    {
     "name": "stdout",
     "output_type": "stream",
     "text": [
      "Shapes of input image: torch.Size([1, 28, 28]) and Label: 5\n",
      "Number of samples in train data: 60000\n",
      "Number of samples in test data: 10000\n"
     ]
    }
   ],
   "source": [
    "# Shapes of input \n",
    "print(f\"Shapes of input image: {img.shape} and Label: {label}\")\n",
    "\n",
    "# Number of Samples\n",
    "print(f\"Number of samples in train data: {len(train_data)}\")\n",
    "print(f\"Number of samples in test data: {len(test_data)}\")"
   ]
  },
  {
   "cell_type": "code",
   "execution_count": 6,
   "id": "67bb226e-f655-461d-afbe-713d067b36c7",
   "metadata": {
    "scrolled": true
   },
   "outputs": [
    {
     "data": {
      "text/plain": [
       "{'0 - zero': 0,\n",
       " '1 - one': 1,\n",
       " '2 - two': 2,\n",
       " '3 - three': 3,\n",
       " '4 - four': 4,\n",
       " '5 - five': 5,\n",
       " '6 - six': 6,\n",
       " '7 - seven': 7,\n",
       " '8 - eight': 8,\n",
       " '9 - nine': 9}"
      ]
     },
     "execution_count": 6,
     "metadata": {},
     "output_type": "execute_result"
    }
   ],
   "source": [
    "train_data.class_to_idx"
   ]
  },
  {
   "cell_type": "code",
   "execution_count": 7,
   "id": "2bbe5b43-b4ea-4196-b6fc-61a20e37e7f6",
   "metadata": {},
   "outputs": [
    {
     "data": {
      "text/plain": [
       "['0 - zero',\n",
       " '1 - one',\n",
       " '2 - two',\n",
       " '3 - three',\n",
       " '4 - four',\n",
       " '5 - five',\n",
       " '6 - six',\n",
       " '7 - seven',\n",
       " '8 - eight',\n",
       " '9 - nine']"
      ]
     },
     "execution_count": 7,
     "metadata": {},
     "output_type": "execute_result"
    }
   ],
   "source": [
    "class_names = train_data.classes\n",
    "class_names"
   ]
  },
  {
   "cell_type": "markdown",
   "id": "1f456968-3913-422c-97d4-024b437f9ae2",
   "metadata": {},
   "source": [
    "## Visualize the Data"
   ]
  },
  {
   "cell_type": "code",
   "execution_count": 8,
   "id": "ff24626d-338c-49c5-8ba5-f0872bb433b0",
   "metadata": {},
   "outputs": [
    {
     "data": {
      "text/plain": [
       "(-0.5, 27.5, 27.5, -0.5)"
      ]
     },
     "execution_count": 8,
     "metadata": {},
     "output_type": "execute_result"
    },
    {
     "data": {
      "image/png": "[encoded data removed]",
      "text/plain": [
       "<Figure size 640x480 with 1 Axes>"
      ]
     },
     "metadata": {},
     "output_type": "display_data"
    }
   ],
   "source": [
    "plt.imshow(img.squeeze())\n",
    "plt.title(class_names[label])\n",
    "plt.axis(False)"
   ]
  },
  {
   "cell_type": "code",
   "execution_count": 9,
   "id": "300859af-d4a8-489f-a7a9-d52765ab6435",
   "metadata": {},
   "outputs": [
    {
     "data": {
      "image/png": "[encoded data removed]",
      "text/plain": [
       "<Figure size 900x900 with 16 Axes>"
      ]
     },
     "metadata": {},
     "output_type": "display_data"
    }
   ],
   "source": [
    "# Randomly visualize some of the training data\n",
    "# First of all I need randomly initiate index\n",
    "\n",
    "import random\n",
    "plt.figure(figsize = (9,9))\n",
    "rows,cols = 4,4\n",
    "random_idx = np.random.randint(0,len(train_data),16)\n",
    "for idx,i in enumerate(random_idx):\n",
    "    plt.subplot(4,4,idx+1)\n",
    "    img,label = train_data[i]\n",
    "    plt.imshow(img.squeeze())\n",
    "    plt.title(class_names[label])\n",
    "    plt.axis(False)\n",
    "        \n"
   ]
  },
  {
   "cell_type": "markdown",
   "id": "460c409e-fe0d-4b4f-8232-1c840233b8bc",
   "metadata": {},
   "source": [
    "# 2. DataLoader (Prepare train and test Data)\n"
   ]
  },
  {
   "cell_type": "code",
   "execution_count": 10,
   "id": "474cbad9-971c-4ecf-b4ed-db52f0f9503e",
   "metadata": {},
   "outputs": [],
   "source": [
    "from torch.utils.data.dataloader import DataLoader\n",
    "\n",
    "# batch size\n",
    "Batch_size = 32\n",
    "\n",
    "# Turn datasets into iterable (batches)\n",
    "train_dataloader = DataLoader(dataset = train_data,\n",
    "                             batch_size = Batch_size,\n",
    "                             shuffle=True)\n",
    "\n",
    "test_dataloader = DataLoader(dataset = test_data,\n",
    "                            batch_size=Batch_size,\n",
    "                            shuffle = True)"
   ]
  },
  {
   "cell_type": "code",
   "execution_count": 11,
   "id": "2fbbf8b2-894b-4866-aec8-8fb07433b040",
   "metadata": {},
   "outputs": [
    {
     "data": {
      "text/plain": [
       "(<torch.utils.data.dataloader.DataLoader at 0x1695e4ed0>,\n",
       " <torch.utils.data.dataloader.DataLoader at 0x169793c10>)"
      ]
     },
     "execution_count": 11,
     "metadata": {},
     "output_type": "execute_result"
    }
   ],
   "source": [
    "train_dataloader,test_dataloader"
   ]
  },
  {
   "cell_type": "code",
   "execution_count": 12,
   "id": "ccac8cd2-aa7f-4939-b81e-71051317b10d",
   "metadata": {},
   "outputs": [
    {
     "data": {
      "text/plain": [
       "(Dataset MNIST\n",
       "     Number of datapoints: 60000\n",
       "     Root location: data\n",
       "     Split: Train\n",
       "     StandardTransform\n",
       " Transform: ToTensor(),\n",
       " Dataset MNIST\n",
       "     Number of datapoints: 10000\n",
       "     Root location: data\n",
       "     Split: Test\n",
       "     StandardTransform\n",
       " Transform: ToTensor())"
      ]
     },
     "execution_count": 12,
     "metadata": {},
     "output_type": "execute_result"
    }
   ],
   "source": [
    "train_dataloader.dataset,test_dataloader.dataset"
   ]
  },
  {
   "cell_type": "code",
   "execution_count": 13,
   "id": "1e336555-b677-4026-b435-061ee7fe43e6",
   "metadata": {},
   "outputs": [
    {
     "name": "stdout",
     "output_type": "stream",
     "text": [
      " Length of train data: 1875 batches of 32\n",
      " Length of test data: 313 batches of 32\n"
     ]
    }
   ],
   "source": [
    "print(f\" Length of train data: {len(train_dataloader)} batches of 32\")\n",
    "print(f\" Length of test data: {len(test_dataloader)} batches of 32\")"
   ]
  },
  {
   "cell_type": "code",
   "execution_count": 14,
   "id": "ac7f7b9c-b00d-4217-8e47-35e24c7c6799",
   "metadata": {},
   "outputs": [
    {
     "name": "stdout",
     "output_type": "stream",
     "text": [
      "torch.Size([32, 1, 28, 28])\n",
      "torch.Size([32])\n"
     ]
    }
   ],
   "source": [
    "train_features_batch,train_features_label =next(iter(train_dataloader))\n",
    "print(train_features_batch.shape)\n",
    "print(train_features_label.shape)"
   ]
  },
  {
   "cell_type": "markdown",
   "id": "8a4074d5-39cc-49c2-a0ea-d4c7165b9914",
   "metadata": {},
   "source": [
    "# 3. Create a Baseline model"
   ]
  },
  {
   "cell_type": "code",
   "execution_count": 15,
   "id": "dc472403-6296-4397-8bf2-8f1d2ecb13af",
   "metadata": {},
   "outputs": [],
   "source": [
    "from torch import nn\n",
    "\n",
    "class MNISTModelV0(nn.Module):\n",
    "    def __init__(self,\n",
    "                input_image_shape:int,\n",
    "                hidden_unit_shape:int,\n",
    "                output_unit_shape:int):\n",
    "        super().__init__()\n",
    "\n",
    "\n",
    "        self.stack_model = nn.Sequential(\n",
    "            nn.Flatten(),\n",
    "            nn.Linear(in_features = input_image_shape,\n",
    "                     out_features=hidden_unit_shape),\n",
    "            nn.Linear(in_features = hidden_unit_shape,\n",
    "                     out_features = output_unit_shape)\n",
    "        )\n",
    "\n",
    "\n",
    "    def forward(self,x):\n",
    "        return self.stack_model(x)"
   ]
  },
  {
   "cell_type": "code",
   "execution_count": 16,
   "id": "68005ddc-1977-40b2-a48b-36ee1da7343a",
   "metadata": {},
   "outputs": [
    {
     "data": {
      "text/plain": [
       "'mps'"
      ]
     },
     "execution_count": 16,
     "metadata": {},
     "output_type": "execute_result"
    }
   ],
   "source": [
    "## Device Agnostic Code\n",
    "device = 'mps' if torch.backends.mps.is_available() else 'cpu'\n",
    "device"
   ]
  },
  {
   "cell_type": "code",
   "execution_count": 17,
   "id": "d5bb3c17-3f10-4934-b0dc-eb5e99126108",
   "metadata": {},
   "outputs": [],
   "source": [
    "# Create a instance of the model and pass it to the device\n",
    "torch.manual_seed(42)\n",
    "torch.mps.manual_seed(42)\n",
    "model_0 = MNISTModelV0(input_image_shape=784,\n",
    "                       hidden_unit_shape=10,\n",
    "                       output_unit_shape=len(class_names)).to(device)"
   ]
  },
  {
   "cell_type": "code",
   "execution_count": 18,
   "id": "bfcf0344-eca7-45ff-b007-c8153ccc1a1b",
   "metadata": {},
   "outputs": [
    {
     "data": {
      "text/plain": [
       "MNISTModelV0(\n",
       "  (stack_model): Sequential(\n",
       "    (0): Flatten(start_dim=1, end_dim=-1)\n",
       "    (1): Linear(in_features=784, out_features=10, bias=True)\n",
       "    (2): Linear(in_features=10, out_features=10, bias=True)\n",
       "  )\n",
       ")"
      ]
     },
     "execution_count": 18,
     "metadata": {},
     "output_type": "execute_result"
    }
   ],
   "source": [
    "model_0"
   ]
  },
  {
   "cell_type": "code",
   "execution_count": 19,
   "id": "80b59832-1903-4d77-a706-c9513df83970",
   "metadata": {},
   "outputs": [],
   "source": [
    "## Loss and Optimizer\n",
    "loss_fn = nn.CrossEntropyLoss() # as it is a classification model\n",
    "\n",
    "optimizer = torch.optim.Adam(model_0.parameters(),\n",
    "                            lr = 0.001)\n"
   ]
  },
  {
   "cell_type": "code",
   "execution_count": 20,
   "id": "faf345f0-ee61-4d62-9218-84ec5f99a8e6",
   "metadata": {},
   "outputs": [
    {
     "name": "stdout",
     "output_type": "stream",
     "text": [
      "Helper Functions already available, Skip downloading.....\n"
     ]
    }
   ],
   "source": [
    "# Accuracy Function\n",
    "from pathlib import Path\n",
    "import requests\n",
    "\n",
    "if Path(\"helper_functions.py\").is_file():\n",
    "    print(\"Helper Functions already available, Skip downloading.....\")\n",
    "else:\n",
    "    request = requests.get(\"https://raw.githubusercontent.com/mrdbourke/pytorch-deep-learning/main/helper_functions.py\")\n",
    "    with open(\"helper_functions.py\",\"wb\") as f:\n",
    "        f.write(request.content)\n",
    "        print(\"Download Complete\")\n"
   ]
  },
  {
   "cell_type": "code",
   "execution_count": 21,
   "id": "98302a96-50cd-48c2-9345-84d99c19f6b3",
   "metadata": {},
   "outputs": [],
   "source": [
    "from helper_functions import accuracy_fn"
   ]
  },
  {
   "cell_type": "markdown",
   "id": "b40bf471-f1fc-4b7b-aac8-8b148654c5f7",
   "metadata": {},
   "source": [
    "## Train and Test Loop Function"
   ]
  },
  {
   "cell_type": "code",
   "execution_count": 22,
   "id": "48d7de5e-0874-4901-ae06-d3c05ea725f5",
   "metadata": {},
   "outputs": [],
   "source": [
    "def train_loop(model: torch.nn.Module,\n",
    "              data: torch.utils.data.DataLoader,\n",
    "              loss_fn: torch.nn.Module,optimizer:torch.optim.Optimizer,\n",
    "              accuracy_fn,\n",
    "              device):\n",
    "    model.to(device)\n",
    "    train_loss,accuracy = 0,0\n",
    "\n",
    "    model.train()\n",
    "\n",
    "    for X_train_batch,y_label in data:\n",
    "        X_train_batch,y_label = X_train_batch.to(device),y_label.to(device)\n",
    "\n",
    "        # 1. Forward Pass\n",
    "        y_logit = model(X_train_batch)\n",
    "        \n",
    "        # Turn logit into pred_probs\n",
    "        y_pred_label = torch.softmax(input = y_logit,\n",
    "                              dim = 1).argmax(dim=1)\n",
    "        \n",
    "        # 2. Loss & Accuracy Calculation\n",
    "        loss = loss_fn(y_logit,y_label) #y_logit is the loss of a whole batch --> basically loss of 32 images\n",
    "        train_loss +=loss #accumulate the whole loss of the dataset\n",
    "        acc = accuracy_fn(y_true = y_label,\n",
    "                         y_pred=y_pred_label)\n",
    "        accuracy +=acc\n",
    "\n",
    "        # 3. Optimizer gradient zero\n",
    "        optimizer.zero_grad()\n",
    "\n",
    "        # 4. Backward Propagation\n",
    "        loss.backward()\n",
    "\n",
    "        # 5. gradient step\n",
    "        optimizer.step()\n",
    "\n",
    "\n",
    "    # Calculate the average loss and accuracy of the whole dataset and manifest them\n",
    "    average_train_loss = train_loss/len(data)\n",
    "    average_accuracy = accuracy / len(data)\n",
    "\n",
    "    print(f\"Total Train Loss: {average_train_loss:.3f} | Train Accuracy: {average_accuracy:.3f}\")"
   ]
  },
  {
   "cell_type": "code",
   "execution_count": 23,
   "id": "1edf072a-8405-4747-b35e-ac49a520c6f2",
   "metadata": {},
   "outputs": [],
   "source": [
    "def test_loop(model: torch.nn.Module,\n",
    "             data: torch.utils.data.DataLoader,\n",
    "             loss_fn: torch.nn.Module,\n",
    "             accuracy_fn,\n",
    "             device):\n",
    "    model.to(device)\n",
    "    test_loss,test_acc = 0,0\n",
    "\n",
    "    model.eval()\n",
    "    with torch.inference_mode():\n",
    "        for X_test_batch,y_batch_label in data:\n",
    "            X_test_batch,y_batch_label =X_test_batch.to(device),y_batch_label.to(device)\n",
    "    \n",
    "    \n",
    "            # 1. Forward Pass\n",
    "            y_test_logit = model(X_test_batch)\n",
    "    \n",
    "            # Turn logit into prediction probabilities\n",
    "            y_pred_prob = torch.softmax(input = y_test_logit,\n",
    "                                       dim =1).argmax(dim =1)\n",
    "    \n",
    "            # 2. Loss Calculation\n",
    "            loss = loss_fn(y_test_logit,\n",
    "                          y_batch_label)\n",
    "            test_loss +=loss\n",
    "            accuracy = accuracy_fn(y_true = y_batch_label,\n",
    "                                  y_pred = y_pred_prob)\n",
    "            test_acc +=accuracy\n",
    "    \n",
    "        avg_test_loss = test_loss/len(data)\n",
    "        avg_accuracy = test_acc/len(data)\n",
    "\n",
    "        print(f\"Test Loss: {avg_test_loss} | Accuracy: {avg_accuracy}\")\n",
    "            \n",
    "            "
   ]
  },
  {
   "cell_type": "markdown",
   "id": "fdf57821-2760-49fe-a1bd-15cb77cf68bc",
   "metadata": {},
   "source": [
    "## Evaluation Mode"
   ]
  },
  {
   "cell_type": "code",
   "execution_count": 24,
   "id": "b9c04e2a-4c0b-4fda-a18a-b02936cc45ce",
   "metadata": {},
   "outputs": [],
   "source": [
    "## Track the timer\n",
    "from timeit import default_timer as timer\n",
    "def time_tracking(start_time:float,\n",
    "                 end_time: float,\n",
    "                 device):\n",
    "\n",
    "    duration = end_time - start_time\n",
    "    print(f\"Train time on device {device}: {duration} seconds\")"
   ]
  },
  {
   "cell_type": "code",
   "execution_count": 25,
   "id": "98278222-9d05-41b0-ab8b-f47e36a0c7fc",
   "metadata": {},
   "outputs": [],
   "source": [
    "def eval_mode(model: torch.nn.Module,\n",
    "             data: torch.utils.data.DataLoader,\n",
    "             loss_fn: torch.nn.Module,\n",
    "             accuracy_fn,\n",
    "             device):\n",
    "    \n",
    "    model.to(device)\n",
    "    loss,acc = 0,0\n",
    "    with torch.inference_mode():\n",
    "        for X,y in data:\n",
    "            X,y=X.to(device),y.to(device)\n",
    "            \n",
    "            # forward pass\n",
    "            y_pred = model(X)\n",
    "            \n",
    "            \n",
    "            pred_probs = torch.softmax(y_pred,dim=1).argmax(dim=1)\n",
    "\n",
    "            # Loss calculation\n",
    "            test_loss= loss_fn(y_pred,y)\n",
    "            loss += test_loss\n",
    "\n",
    "            accuracy = accuracy_fn(y_true = y,\n",
    "                                   y_pred = pred_probs)\n",
    "            acc +=accuracy\n",
    "\n",
    "        loss /=len(data)\n",
    "        acc /=len(data)\n",
    "        \n",
    "    return {\"model\":model.__class__.__name__,\n",
    "            \"model loss\":loss.item(),\n",
    "            \"model accuracy\":acc}\n",
    "            "
   ]
  },
  {
   "cell_type": "markdown",
   "id": "f587666d-c6a1-47fa-936a-38045e37295f",
   "metadata": {},
   "source": [
    "## Model_0's Performance on per Epoch"
   ]
  },
  {
   "cell_type": "code",
   "execution_count": 26,
   "id": "b7bced24-9842-40f7-8044-16c7ccbb39aa",
   "metadata": {},
   "outputs": [
    {
     "data": {
      "application/vnd.jupyter.widget-view+json": {
       "model_id": "a27cdfb5d5e04feabd6f0648951c352e",
       "version_major": 2,
       "version_minor": 0
      },
      "text/plain": [
       "  0%|          | 0/5 [00:00<?, ?it/s]"
      ]
     },
     "metadata": {},
     "output_type": "display_data"
    },
    {
     "name": "stdout",
     "output_type": "stream",
     "text": [
      "Epoch: 0......\n",
      "Total Train Loss: 0.474 | Train Accuracy: 87.093\n",
      "Test Loss: 0.3033526837825775 | Accuracy: 91.20407348242811\n",
      "Epoch: 1......\n",
      "Total Train Loss: 0.298 | Train Accuracy: 91.637\n",
      "Test Loss: 0.28001609444618225 | Accuracy: 92.24241214057508\n",
      "Epoch: 2......\n",
      "Total Train Loss: 0.279 | Train Accuracy: 92.242\n",
      "Test Loss: 0.27684852480888367 | Accuracy: 92.35223642172524\n",
      "Epoch: 3......\n",
      "Total Train Loss: 0.270 | Train Accuracy: 92.458\n",
      "Test Loss: 0.26425379514694214 | Accuracy: 92.52196485623003\n",
      "Epoch: 4......\n",
      "Total Train Loss: 0.264 | Train Accuracy: 92.623\n",
      "Test Loss: 0.2704828083515167 | Accuracy: 92.44209265175719\n",
      "Train time on device mps: 47.18469224998262 seconds\n"
     ]
    }
   ],
   "source": [
    "# Create the model instance\n",
    "torch.manual_seed(42)\n",
    "from tqdm.auto import tqdm\n",
    "start_time = timer()\n",
    "epochs = 5\n",
    "for epoch in tqdm(range(epochs)):\n",
    "    print(f\"Epoch: {epoch}......\")\n",
    "    train = train_loop(model=model_0,\n",
    "                      data = train_dataloader,\n",
    "                       loss_fn=loss_fn,\n",
    "                       optimizer = optimizer,\n",
    "                       accuracy_fn =accuracy_fn,\n",
    "                      device = device)\n",
    "    test= test_loop(model = model_0,\n",
    "                   data = test_dataloader,\n",
    "                   loss_fn = loss_fn,\n",
    "                   accuracy_fn = accuracy_fn,\n",
    "                   device = device)\n",
    "end_time = timer()\n",
    "\n",
    "total_time = time_tracking(start_time=start_time,\n",
    "                          end_time=end_time,\n",
    "                          device = device)\n",
    "    "
   ]
  },
  {
   "cell_type": "markdown",
   "id": "ae5d1f73-81f6-4a68-9dbb-197fdc680cfb",
   "metadata": {},
   "source": [
    "## Get the result of model_0"
   ]
  },
  {
   "cell_type": "code",
   "execution_count": 27,
   "id": "d61a68c4-50ff-4ef6-ae21-918a0cec9aec",
   "metadata": {},
   "outputs": [],
   "source": [
    "evaluation_model_0 = eval_mode(model=model_0,\n",
    "                              data= test_dataloader,loss_fn = loss_fn,\n",
    "                              accuracy_fn = accuracy_fn,\n",
    "                              device = device)"
   ]
  },
  {
   "cell_type": "code",
   "execution_count": 28,
   "id": "34c3aa88-6964-4f91-8e39-1496fe30649d",
   "metadata": {},
   "outputs": [
    {
     "data": {
      "text/plain": [
       "{'model': 'MNISTModelV0',\n",
       " 'model loss': 0.2704583406448364,\n",
       " 'model accuracy': 92.44209265175719}"
      ]
     },
     "execution_count": 28,
     "metadata": {},
     "output_type": "execute_result"
    }
   ],
   "source": [
    "evaluation_model_0"
   ]
  },
  {
   "cell_type": "markdown",
   "id": "d5b16552-eaea-4f1e-8e18-7ca6510fd2ef",
   "metadata": {},
   "source": [
    "## Model 1 (Non Linearity)"
   ]
  },
  {
   "cell_type": "code",
   "execution_count": 29,
   "id": "56ff81bb-7aca-4ff0-a743-8c4ed7105723",
   "metadata": {},
   "outputs": [],
   "source": [
    "class MNISTModelV1(nn.Module):\n",
    "    def __init__(self,\n",
    "                input_image_shape:int,\n",
    "                hidden_unit_shape:int,\n",
    "                output_unit_shape:int):\n",
    "        super().__init__()\n",
    "\n",
    "\n",
    "        self.stack_model = nn.Sequential(\n",
    "            nn.Flatten(),\n",
    "            nn.Linear(in_features = input_image_shape,\n",
    "                     out_features=hidden_unit_shape),\n",
    "            nn.ReLU(),\n",
    "            nn.Linear(in_features = hidden_unit_shape,\n",
    "                     out_features = output_unit_shape)\n",
    "        )\n",
    "\n",
    "\n",
    "    def forward(self,x):\n",
    "        return self.stack_model(x)"
   ]
  },
  {
   "cell_type": "code",
   "execution_count": 30,
   "id": "7ec0d9a8-7b82-435d-b3f3-1e7d464d71ff",
   "metadata": {},
   "outputs": [],
   "source": [
    "# Create an instance\n",
    "model_1 = MNISTModelV1(input_image_shape=784,\n",
    "                       hidden_unit_shape=10,\n",
    "                       output_unit_shape=len(class_names)).to(device)\n",
    "\n",
    "# Loss and Optimizer functions\n",
    "loss = nn.CrossEntropyLoss()\n",
    "\n",
    "optimizer = torch.optim.Adam(model_1.parameters(),\n",
    "                            lr = 0.001)\n",
    "\n"
   ]
  },
  {
   "cell_type": "markdown",
   "id": "8f035d7d-2f29-456b-a803-f345e6f4857b",
   "metadata": {},
   "source": [
    "## Model_1's Performance on per Epoch"
   ]
  },
  {
   "cell_type": "code",
   "execution_count": 31,
   "id": "26ab0178-5623-4e02-881c-29ca9bb76cc7",
   "metadata": {},
   "outputs": [
    {
     "data": {
      "application/vnd.jupyter.widget-view+json": {
       "model_id": "0861c8c8c73748f98311b8bb65054956",
       "version_major": 2,
       "version_minor": 0
      },
      "text/plain": [
       "  0%|          | 0/5 [00:00<?, ?it/s]"
      ]
     },
     "metadata": {},
     "output_type": "display_data"
    },
    {
     "name": "stdout",
     "output_type": "stream",
     "text": [
      "Epoch: 0......\n",
      "Total Train Loss: 0.526 | Train Accuracy: 85.533\n",
      "Test Loss: 0.3079526424407959 | Accuracy: 90.94448881789137\n",
      "Epoch: 1......\n",
      "Total Train Loss: 0.298 | Train Accuracy: 91.615\n",
      "Test Loss: 0.2795475125312805 | Accuracy: 92.17252396166134\n",
      "Epoch: 2......\n",
      "Total Train Loss: 0.275 | Train Accuracy: 92.312\n",
      "Test Loss: 0.2715158760547638 | Accuracy: 92.68170926517571\n",
      "Epoch: 3......\n",
      "Total Train Loss: 0.263 | Train Accuracy: 92.587\n",
      "Test Loss: 0.2591401934623718 | Accuracy: 92.71166134185303\n",
      "Epoch: 4......\n",
      "Total Train Loss: 0.255 | Train Accuracy: 92.922\n",
      "Test Loss: 0.2618230879306793 | Accuracy: 92.68170926517571\n",
      "Train time on device mps: 52.12400645800517 seconds\n"
     ]
    }
   ],
   "source": [
    "# Create the model instance\n",
    "torch.manual_seed(42)\n",
    "from tqdm.auto import tqdm\n",
    "start_time = timer()\n",
    "epochs = 5\n",
    "for epoch in tqdm(range(epochs)):\n",
    "    print(f\"Epoch: {epoch}......\")\n",
    "    train = train_loop(model=model_1,\n",
    "                      data = train_dataloader,\n",
    "                       loss_fn=loss,\n",
    "                       optimizer = optimizer,\n",
    "                       accuracy_fn =accuracy_fn,\n",
    "                      device = device)\n",
    "    test= test_loop(model = model_1,\n",
    "                   data = test_dataloader,\n",
    "                   loss_fn = loss,\n",
    "                   accuracy_fn = accuracy_fn,\n",
    "                   device = device)\n",
    "end_time = timer()\n",
    "\n",
    "total_time = time_tracking(start_time=start_time,\n",
    "                          end_time=end_time,\n",
    "                          device = device)\n",
    "    "
   ]
  },
  {
   "cell_type": "markdown",
   "id": "a762db43-df66-4c90-bf50-1249abc40e08",
   "metadata": {},
   "source": [
    "## Get the result of Model_1"
   ]
  },
  {
   "cell_type": "code",
   "execution_count": 32,
   "id": "7622a90f-f7c8-42bc-a97b-873b3e851579",
   "metadata": {},
   "outputs": [],
   "source": [
    "evaluation_model_1 = eval_mode(model=model_1,\n",
    "                              data= test_dataloader,loss_fn = loss,\n",
    "                              accuracy_fn = accuracy_fn,\n",
    "                              device = device)"
   ]
  },
  {
   "cell_type": "code",
   "execution_count": 33,
   "id": "b41e3644-c359-4eaa-bfc6-1c167cdd9fcd",
   "metadata": {},
   "outputs": [
    {
     "data": {
      "text/plain": [
       "{'model': 'MNISTModelV1',\n",
       " 'model loss': 0.2618447244167328,\n",
       " 'model accuracy': 92.67172523961662}"
      ]
     },
     "execution_count": 33,
     "metadata": {},
     "output_type": "execute_result"
    }
   ],
   "source": [
    "evaluation_model_1"
   ]
  },
  {
   "cell_type": "markdown",
   "id": "92f2937a-de34-4059-b910-b61549e10227",
   "metadata": {},
   "source": [
    "# Model 2(`CNN`)"
   ]
  },
  {
   "cell_type": "code",
   "execution_count": 34,
   "id": "62708e8d-5dc1-4c6d-a267-c8febeffdcb2",
   "metadata": {},
   "outputs": [],
   "source": [
    "# Build the CNN Model\n",
    "class MNISTModelV2(nn.Module):\n",
    "    def __init__(self,\n",
    "                input_shape:int,\n",
    "                hidden_unit:int,\n",
    "                output_shape:int):\n",
    "        super().__init__()\n",
    "\n",
    "\n",
    "        self.conv_block_1 = nn.Sequential(\n",
    "            nn.Conv2d(in_channels=input_shape,\n",
    "                     out_channels=hidden_unit,\n",
    "                     kernel_size=3,\n",
    "                     stride =1,\n",
    "                     padding = 1\n",
    "                     ),\n",
    "            nn.ReLU(),\n",
    "            nn.Conv2d(in_channels=hidden_unit,\n",
    "                     out_channels=hidden_unit,\n",
    "                     kernel_size=3,\n",
    "                     stride =1,\n",
    "                     padding = 1),\n",
    "            nn.ReLU(),\n",
    "            nn.MaxPool2d(kernel_size=2)\n",
    "        )\n",
    "\n",
    "        self.conv_block_2 = nn.Sequential(\n",
    "            nn.Conv2d(in_channels=hidden_unit,\n",
    "                     out_channels=hidden_unit,\n",
    "                     kernel_size=3,\n",
    "                     stride =1,\n",
    "                     padding = 1\n",
    "                     ),\n",
    "            nn.ReLU(),\n",
    "            nn.Conv2d(in_channels=hidden_unit,\n",
    "                     out_channels=hidden_unit,\n",
    "                     kernel_size=3,\n",
    "                     stride =1,\n",
    "                     padding = 1),\n",
    "            nn.ReLU(),\n",
    "            nn.MaxPool2d(kernel_size=2)\n",
    "        )\n",
    "\n",
    "        self.classifier = nn.Sequential(\n",
    "            nn.Flatten(),\n",
    "            nn.Linear(in_features=hidden_unit*49,\n",
    "                      out_features=output_shape)\n",
    "        )\n",
    "\n",
    "\n",
    "    def forward(self,x):\n",
    "        x = self.conv_block_1(x)\n",
    "        \n",
    "        \n",
    "        x = self.conv_block_2(x)\n",
    "        \n",
    "\n",
    "        x = self.classifier(x)\n",
    "\n",
    "        return x"
   ]
  },
  {
   "cell_type": "code",
   "execution_count": 35,
   "id": "91f68a29-9227-4ebf-87a3-42a6f99ef12c",
   "metadata": {},
   "outputs": [],
   "source": [
    "torch.manual_seed(42)\n",
    "torch.mps.manual_seed(42)\n",
    "model_2 = MNISTModelV2(input_shape=1,\n",
    "                      hidden_unit=10,\n",
    "                      output_shape=len(class_names)).to(device)"
   ]
  },
  {
   "cell_type": "code",
   "execution_count": 36,
   "id": "39502745-3b5b-4aa8-8134-61e5ffabc168",
   "metadata": {},
   "outputs": [
    {
     "data": {
      "text/plain": [
       "MNISTModelV2(\n",
       "  (conv_block_1): Sequential(\n",
       "    (0): Conv2d(1, 10, kernel_size=(3, 3), stride=(1, 1), padding=(1, 1))\n",
       "    (1): ReLU()\n",
       "    (2): Conv2d(10, 10, kernel_size=(3, 3), stride=(1, 1), padding=(1, 1))\n",
       "    (3): ReLU()\n",
       "    (4): MaxPool2d(kernel_size=2, stride=2, padding=0, dilation=1, ceil_mode=False)\n",
       "  )\n",
       "  (conv_block_2): Sequential(\n",
       "    (0): Conv2d(10, 10, kernel_size=(3, 3), stride=(1, 1), padding=(1, 1))\n",
       "    (1): ReLU()\n",
       "    (2): Conv2d(10, 10, kernel_size=(3, 3), stride=(1, 1), padding=(1, 1))\n",
       "    (3): ReLU()\n",
       "    (4): MaxPool2d(kernel_size=2, stride=2, padding=0, dilation=1, ceil_mode=False)\n",
       "  )\n",
       "  (classifier): Sequential(\n",
       "    (0): Flatten(start_dim=1, end_dim=-1)\n",
       "    (1): Linear(in_features=490, out_features=10, bias=True)\n",
       "  )\n",
       ")"
      ]
     },
     "execution_count": 36,
     "metadata": {},
     "output_type": "execute_result"
    }
   ],
   "source": [
    "model_2"
   ]
  },
  {
   "cell_type": "code",
   "execution_count": 37,
   "id": "8f971a4b-a123-4bc5-90be-ef82bd37b303",
   "metadata": {},
   "outputs": [],
   "source": [
    "# Loss and Optimizer FUnction\n",
    "loss = nn.CrossEntropyLoss()\n",
    "\n",
    "optimizer = torch.optim.Adam(model_2.parameters(),\n",
    "                            lr = 0.001)\n"
   ]
  },
  {
   "cell_type": "code",
   "execution_count": 38,
   "id": "d99285b3-1c4e-41db-a85d-32c9849417fa",
   "metadata": {},
   "outputs": [
    {
     "data": {
      "application/vnd.jupyter.widget-view+json": {
       "model_id": "067d749d191f4285bd074a81ba0056a3",
       "version_major": 2,
       "version_minor": 0
      },
      "text/plain": [
       "  0%|          | 0/5 [00:00<?, ?it/s]"
      ]
     },
     "metadata": {},
     "output_type": "display_data"
    },
    {
     "name": "stdout",
     "output_type": "stream",
     "text": [
      "Epoch: 0......\n",
      "Total Train Loss: 0.221 | Train Accuracy: 93.092\n",
      "Test Loss: 0.07667534798383713 | Accuracy: 97.64376996805112\n",
      "Epoch: 1......\n",
      "Total Train Loss: 0.072 | Train Accuracy: 97.773\n",
      "Test Loss: 0.05109165608882904 | Accuracy: 98.27276357827476\n",
      "Epoch: 2......\n",
      "Total Train Loss: 0.053 | Train Accuracy: 98.322\n",
      "Test Loss: 0.04715040326118469 | Accuracy: 98.38258785942492\n",
      "Epoch: 3......\n",
      "Total Train Loss: 0.044 | Train Accuracy: 98.618\n",
      "Test Loss: 0.03669925034046173 | Accuracy: 98.72204472843451\n",
      "Epoch: 4......\n",
      "Total Train Loss: 0.038 | Train Accuracy: 98.818\n",
      "Test Loss: 0.03457595407962799 | Accuracy: 98.81190095846645\n",
      "Train time on device mps: 68.82668483399902 seconds\n"
     ]
    }
   ],
   "source": [
    "# Create the model instance\n",
    "torch.manual_seed(42)\n",
    "from tqdm.auto import tqdm\n",
    "start_time = timer()\n",
    "epochs = 5\n",
    "for epoch in tqdm(range(epochs)):\n",
    "    print(f\"Epoch: {epoch}......\")\n",
    "    train = train_loop(model=model_2,\n",
    "                      data = train_dataloader,\n",
    "                       loss_fn=loss,\n",
    "                       optimizer = optimizer,\n",
    "                       accuracy_fn =accuracy_fn,\n",
    "                      device = device)\n",
    "    test= test_loop(model = model_2,\n",
    "                   data = test_dataloader,\n",
    "                   loss_fn = loss,\n",
    "                   accuracy_fn = accuracy_fn,\n",
    "                   device = device)\n",
    "end_time = timer()\n",
    "\n",
    "total_time = time_tracking(start_time=start_time,\n",
    "                          end_time=end_time,\n",
    "                          device = device)\n",
    "    "
   ]
  },
  {
   "cell_type": "code",
   "execution_count": 39,
   "id": "8ce7b8d2-0a61-44ea-9584-c1649f752ff6",
   "metadata": {},
   "outputs": [],
   "source": [
    "evaluation_model_2 = eval_mode(model=model_2,\n",
    "                              data= test_dataloader,loss_fn = loss,\n",
    "                              accuracy_fn = accuracy_fn,\n",
    "                              device = device)"
   ]
  },
  {
   "cell_type": "code",
   "execution_count": 40,
   "id": "46de7ffc-fd67-4f9a-ae3d-b98c5d5e9b38",
   "metadata": {},
   "outputs": [
    {
     "data": {
      "text/plain": [
       "{'model': 'MNISTModelV2',\n",
       " 'model loss': 0.034571245312690735,\n",
       " 'model accuracy': 98.81190095846645}"
      ]
     },
     "execution_count": 40,
     "metadata": {},
     "output_type": "execute_result"
    }
   ],
   "source": [
    "evaluation_model_2"
   ]
  },
  {
   "cell_type": "code",
   "execution_count": 41,
   "id": "62e2717c-7347-466c-af94-1a11e2da5c56",
   "metadata": {},
   "outputs": [
    {
     "data": {
      "text/html": [
       "<div>\n",
       "<style scoped>\n",
       "    .dataframe tbody tr th:only-of-type {\n",
       "        vertical-align: middle;\n",
       "    }\n",
       "\n",
       "    .dataframe tbody tr th {\n",
       "        vertical-align: top;\n",
       "    }\n",
       "\n",
       "    .dataframe thead th {\n",
       "        text-align: right;\n",
       "    }\n",
       "</style>\n",
       "<table border=\"1\" class=\"dataframe\">\n",
       "  <thead>\n",
       "    <tr style=\"text-align: right;\">\n",
       "      <th></th>\n",
       "      <th>model</th>\n",
       "      <th>model loss</th>\n",
       "      <th>model accuracy</th>\n",
       "    </tr>\n",
       "  </thead>\n",
       "  <tbody>\n",
       "    <tr>\n",
       "      <th>0</th>\n",
       "      <td>MNISTModelV0</td>\n",
       "      <td>0.270458</td>\n",
       "      <td>92.442093</td>\n",
       "    </tr>\n",
       "    <tr>\n",
       "      <th>1</th>\n",
       "      <td>MNISTModelV1</td>\n",
       "      <td>0.261845</td>\n",
       "      <td>92.671725</td>\n",
       "    </tr>\n",
       "    <tr>\n",
       "      <th>2</th>\n",
       "      <td>MNISTModelV2</td>\n",
       "      <td>0.034571</td>\n",
       "      <td>98.811901</td>\n",
       "    </tr>\n",
       "  </tbody>\n",
       "</table>\n",
       "</div>"
      ],
      "text/plain": [
       "          model  model loss  model accuracy\n",
       "0  MNISTModelV0    0.270458       92.442093\n",
       "1  MNISTModelV1    0.261845       92.671725\n",
       "2  MNISTModelV2    0.034571       98.811901"
      ]
     },
     "execution_count": 41,
     "metadata": {},
     "output_type": "execute_result"
    }
   ],
   "source": [
    "## Compare results among different models\n",
    "compare_results=  pd.DataFrame([evaluation_model_0,\n",
    "                               evaluation_model_1,\n",
    "                               evaluation_model_2])\n",
    "\n",
    "compare_results"
   ]
  },
  {
   "cell_type": "code",
   "execution_count": 42,
   "id": "c741fa14-2631-4236-a714-641c2c834846",
   "metadata": {},
   "outputs": [
    {
     "data": {
      "text/plain": [
       "Text(0, 0.5, 'model')"
      ]
     },
     "execution_count": 42,
     "metadata": {},
     "output_type": "execute_result"
    },
    {
     "data": {
      "image/png": "[encoded data removed]",
      "text/plain": [
       "<Figure size 640x480 with 1 Axes>"
      ]
     },
     "metadata": {},
     "output_type": "display_data"
    }
   ],
   "source": [
    "compare_results.set_index(\"model\")[\"model accuracy\"].plot(kind = 'barh')\n",
    "plt.xlabel(\"Accuracy(%)\")\n",
    "plt.ylabel(\"model\")"
   ]
  },
  {
   "cell_type": "markdown",
   "id": "ef4b8e4f-ea2c-469f-a3a3-7f8d55070ebd",
   "metadata": {},
   "source": [
    "## Taking random data and make predictions on them"
   ]
  },
  {
   "cell_type": "code",
   "execution_count": 88,
   "id": "e7eeb3e0-dbde-426a-9f4d-235ae495bfdf",
   "metadata": {},
   "outputs": [],
   "source": [
    "def prediction(model: torch.nn.Module,\n",
    "              data: list, # takes the image as list\n",
    "              device):\n",
    "\n",
    "    model.to(device)\n",
    "    label_list = []\n",
    "    model.eval()\n",
    "\n",
    "    with torch.inference_mode():\n",
    "        for sample in data:\n",
    "\n",
    "            # Sample is a single image, Whlie passing it through the model, it expects the shape of the image to be like\n",
    "            # (batch_size,color_channel,height,weight), as a single image doesn't have batch size, unsqueeze operation should be done\n",
    "            sample = sample.unsqueeze(dim = 0).to(device) # Pass to the target device\n",
    "            \n",
    "            y_predict = model(sample)\n",
    "    \n",
    "            predict_label = torch.softmax(y_predict,dim=1).argmax(dim=1)\n",
    "\n",
    "            \n",
    "            label_list.append(predict_label.cpu()) # Get predict label off the gpu for further calculation\n",
    "            \n",
    "    \n",
    "    return torch.stack(label_list)\n",
    "    \n",
    "        "
   ]
  },
  {
   "cell_type": "code",
   "execution_count": 89,
   "id": "57aa9d71-c6c6-49b8-858a-1956be538ed7",
   "metadata": {},
   "outputs": [],
   "source": [
    "# Creating random data\n",
    "import random\n",
    "random.seed(420)\n",
    "\n",
    "\n",
    "test_samples = []\n",
    "test_labels = []\n",
    "\n",
    "for sample,label in random.sample(list(test_data),k=9):\n",
    "    test_samples.append(sample)\n",
    "    test_labels.append(label)\n",
    "    \n"
   ]
  },
  {
   "cell_type": "code",
   "execution_count": 90,
   "id": "9c51364a-aee7-4d3d-bf7b-2681882483e2",
   "metadata": {},
   "outputs": [
    {
     "data": {
      "text/plain": [
       "(list, 9)"
      ]
     },
     "execution_count": 90,
     "metadata": {},
     "output_type": "execute_result"
    }
   ],
   "source": [
    "type(test_samples),len(test_samples)"
   ]
  },
  {
   "cell_type": "code",
   "execution_count": 91,
   "id": "ff99ae1f-00be-426b-bbba-c9eafc560806",
   "metadata": {},
   "outputs": [
    {
     "data": {
      "text/plain": [
       "(-0.5, 27.5, 27.5, -0.5)"
      ]
     },
     "execution_count": 91,
     "metadata": {},
     "output_type": "execute_result"
    },
    {
     "data": {
      "image/png": "[encoded data removed]",
      "text/plain": [
       "<Figure size 640x480 with 1 Axes>"
      ]
     },
     "metadata": {},
     "output_type": "display_data"
    }
   ],
   "source": [
    "# Plotting the first example of test sample\n",
    "plt.imshow(test_samples[0].squeeze(),cmap = 'gray')\n",
    "plt.title(class_names[test_labels[0]])\n",
    "plt.axis(False)"
   ]
  },
  {
   "cell_type": "code",
   "execution_count": 92,
   "id": "7b577c23-ef9d-4d74-b420-b973e1e05c3f",
   "metadata": {},
   "outputs": [
    {
     "data": {
      "text/plain": [
       "torch.Size([1, 1, 28, 28])"
      ]
     },
     "execution_count": 92,
     "metadata": {},
     "output_type": "execute_result"
    }
   ],
   "source": [
    "test_samples[0].unsqueeze(dim=0).shape"
   ]
  },
  {
   "cell_type": "code",
   "execution_count": 93,
   "id": "71d0d27f-8374-4a49-9162-3684eafc9842",
   "metadata": {},
   "outputs": [],
   "source": [
    "prediction_sample_data = prediction(model = model_2,\n",
    "                                   data = test_samples,\n",
    "                                   device = device)"
   ]
  },
  {
   "cell_type": "code",
   "execution_count": 70,
   "id": "24c68d32-f392-4e35-8ad9-68ae4a30c4ac",
   "metadata": {},
   "outputs": [
    {
     "data": {
      "text/plain": [
       "torch.Size([9])"
      ]
     },
     "execution_count": 70,
     "metadata": {},
     "output_type": "execute_result"
    }
   ],
   "source": [
    "prediction_sample_data.squeeze().shape"
   ]
  },
  {
   "cell_type": "code",
   "execution_count": 94,
   "id": "3be154ff-bc0a-4673-ad17-43163125faf3",
   "metadata": {},
   "outputs": [
    {
     "data": {
      "text/plain": [
       "'9 - nine'"
      ]
     },
     "execution_count": 94,
     "metadata": {},
     "output_type": "execute_result"
    }
   ],
   "source": [
    "class_names[prediction_sample_data[8].item()]"
   ]
  },
  {
   "cell_type": "code",
   "execution_count": 96,
   "id": "cc1154f8-6df9-4091-9ee6-fe223045eac9",
   "metadata": {},
   "outputs": [
    {
     "data": {
      "image/png": "[encoded data removed]",
      "text/plain": [
       "<Figure size 900x900 with 9 Axes>"
      ]
     },
     "metadata": {},
     "output_type": "display_data"
    }
   ],
   "source": [
    "# Visualization the model performance\n",
    "plt.figure(figsize = (9,9))\n",
    "\n",
    "rows, cols = 3,3\n",
    "\n",
    "# create subplot (1 to 9)\n",
    "# iterate through test_sample\n",
    "# Create the title of the test_sample by passing that through the model\n",
    "\n",
    "for idx,sample in enumerate(test_samples):\n",
    "\n",
    "    # Create Subplot\n",
    "    plt.subplot(rows,cols,idx+1)\n",
    "\n",
    "    # Show the image\n",
    "    plt.imshow(sample.squeeze(),cmap = 'gray')\n",
    "\n",
    "\n",
    "    # Show the prediction by the model\n",
    "    pred_label=class_names[prediction_sample_data.squeeze()[idx]]\n",
    "\n",
    "    # Truth label\n",
    "    truth_label = class_names[test_labels[idx]]\n",
    "\n",
    "    # plot title\n",
    "    title_text = f\"{pred_label} | {truth_label}\"\n",
    "\n",
    "    if pred_label == truth_label:\n",
    "        plt.title(title_text, fontsize = 10, c = 'g')\n",
    "    else:\n",
    "        plt.title(title_text, fontsize = 10, c = 'r')\n",
    "    plt.axis(False)\n"
   ]
  },
  {
   "cell_type": "markdown",
   "id": "f6518201-8905-49de-b459-194efa6a2efe",
   "metadata": {},
   "source": [
    "## Making a Confusion Matrix for further evaluation"
   ]
  },
  {
   "cell_type": "markdown",
   "id": "39e54e7e-d45c-4e19-99dd-b8ab8fcb6fa7",
   "metadata": {},
   "source": [
    "* Using torch.ConfusionMatrix \n",
    "* Plot the confusion matrix by mlextend.plotting.plot_confusion_matrix()"
   ]
  },
  {
   "cell_type": "code",
   "execution_count": 98,
   "id": "aa6f8372-1a8d-4048-9ac8-7dd942e8be97",
   "metadata": {},
   "outputs": [
    {
     "data": {
      "application/vnd.jupyter.widget-view+json": {
       "model_id": "0320c811ffd04556b3412b60aa234212",
       "version_major": 2,
       "version_minor": 0
      },
      "text/plain": [
       "making predicions.....:   0%|          | 0/313 [00:00<?, ?it/s]"
      ]
     },
     "metadata": {},
     "output_type": "display_data"
    }
   ],
   "source": [
    "from tqdm.auto import tqdm\n",
    "\n",
    "# Store the predictions in a list\n",
    "pred_list = []\n",
    "\n",
    "model_2.eval()\n",
    "\n",
    "with torch.inference_mode():\n",
    "    for X,y in tqdm(test_dataloader, desc = \"making predicions.....\"):\n",
    "\n",
    "        X,y = X.to(device),y.to(device)\n",
    "\n",
    "\n",
    "        # Forward Pass\n",
    "        y_logit = model_2(X)\n",
    "\n",
    "        # Turn predictions --> prediction probabilities --> probabilities into labels\n",
    "\n",
    "        y_pred = torch.softmax(y_logit,dim=1).argmax(dim=1)\n",
    "        # y_pred contains batch prediction\n",
    "\n",
    "\n",
    "        # Put predictions on CPU for evaluation\n",
    "        pred_list.append(y_pred.cpu())\n",
    "\n",
    "    # concatenate all the batch predictions stored in pred_list into a single flattened tensor\n",
    "    y_pred_tensor = torch.cat(pred_list)\n",
    "    \n",
    "        "
   ]
  },
  {
   "cell_type": "code",
   "execution_count": 101,
   "id": "1b543ed7-081a-4174-aff0-35bd3452a62e",
   "metadata": {},
   "outputs": [
    {
     "data": {
      "image/png": "[encoded data removed]",
      "text/plain": [
       "<Figure size 1000x700 with 1 Axes>"
      ]
     },
     "metadata": {},
     "output_type": "display_data"
    }
   ],
   "source": [
    "from torchmetrics import ConfusionMatrix\n",
    "from mlxtend.plotting import plot_confusion_matrix\n",
    "\n",
    "# Setup confusion matrics instance, and compare prediction with targets\n",
    "confmat = ConfusionMatrix(task = 'multiclass',\n",
    "                          num_classes = len(class_names))\n",
    "\n",
    "confmat_tensor = confmat(preds = y_pred_tensor,\n",
    "                        target = test_data.targets)\n",
    "\n",
    "# Confusion Matrix\n",
    "fig, ax = plot_confusion_matrix(\n",
    "    conf_mat = confmat_tensor.numpy(),\n",
    "\n",
    "    class_names = class_names,\n",
    "    figsize = (10,7)\n",
    ")\n"
   ]
  },
  {
   "cell_type": "markdown",
   "id": "ae6ecdf5-7884-48d8-9c35-b59cab3b80bc",
   "metadata": {},
   "source": [
    "## Again Practice"
   ]
  },
  {
   "cell_type": "code",
   "execution_count": 71,
   "id": "c7557c81-6e36-496e-bebb-096f184a7146",
   "metadata": {},
   "outputs": [],
   "source": [
    "# predicting on random variable\n",
    "def practice_predict(model: torch.nn.Module,\n",
    "                    data: list,\n",
    "                    device):\n",
    "\n",
    "    pred_label = []\n",
    "\n",
    "    model.to(device)\n",
    "\n",
    "    model.eval()\n",
    "\n",
    "\n",
    "    with torch.inference_mode():\n",
    "        \n",
    "        for sample in data:\n",
    "\n",
    "            # model takes the data with the batch size\n",
    "\n",
    "            sample = sample.unsqueeze(dim =0)\n",
    "\n",
    "            y_pred = model(sample)\n",
    "\n",
    "            pred_label_single = torch.softmax(y_pred,dim = 1).argmax(dim = 1)\n",
    "\n",
    "            pred_label.append(pred_label_single.cpu())\n",
    "\n",
    "    return torch.stack(pred_label)\n",
    "\n",
    "            \n",
    "\n",
    "        # Sample represents a single image"
   ]
  },
  {
   "cell_type": "code",
   "execution_count": null,
   "id": "16701c4c-0ac0-4bfc-8a48-f5bafaab4dfa",
   "metadata": {},
   "outputs": [],
   "source": []
  }
 ],
 "metadata": {
  "kernelspec": {
   "display_name": "Python 3 (ipykernel)",
   "language": "python",
   "name": "python3"
  },
  "language_info": {
   "codemirror_mode": {
    "name": "ipython",
    "version": 3
   },
   "file_extension": ".py",
   "mimetype": "text/x-python",
   "name": "python",
   "nbconvert_exporter": "python",
   "pygments_lexer": "ipython3",
   "version": "3.11.5"
  }
 },
 "nbformat": 4,
 "nbformat_minor": 5
}

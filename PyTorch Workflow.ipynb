{
 "cells": [
  {
   "cell_type": "code",
   "execution_count": 1,
   "id": "148b819e-4873-4c2f-84f9-30f806b4b2fd",
   "metadata": {},
   "outputs": [],
   "source": [
    "import torch\n",
    "import numpy as np\n",
    "import matplotlib.pyplot as plt\n",
    "import torch.nn as nn"
   ]
  },
  {
   "cell_type": "code",
   "execution_count": 2,
   "id": "fe239863-db6e-4026-987e-a8dd181c90b9",
   "metadata": {},
   "outputs": [],
   "source": [
    "#device agnostic code\n",
    "device = 'mps' if torch.backends.mps.is_available() else 'cpu'"
   ]
  },
  {
   "cell_type": "code",
   "execution_count": 3,
   "id": "17cc3881-96a2-4653-ae45-f0e4c768a8f4",
   "metadata": {},
   "outputs": [
    {
     "data": {
      "text/plain": [
       "'mps'"
      ]
     },
     "execution_count": 3,
     "metadata": {},
     "output_type": "execute_result"
    }
   ],
   "source": [
    "device"
   ]
  },
  {
   "cell_type": "code",
   "execution_count": 4,
   "id": "65d0d5d2-f1dd-44c9-b1fd-08e484d49451",
   "metadata": {},
   "outputs": [],
   "source": [
    "weight = 0.3\n",
    "bias = 0.9\n",
    "n_samples = 100\n",
    "splitting_ratio = .8\n",
    "X = torch.arange(0,1,0.01).unsqueeze(dim = 1)\n",
    "y = weight*X + bias\n"
   ]
  },
  {
   "cell_type": "code",
   "execution_count": 5,
   "id": "f7c4a1f6-27f4-4fbf-a193-80489617ae2f",
   "metadata": {},
   "outputs": [
    {
     "data": {
      "text/plain": [
       "torch.Size([100, 1])"
      ]
     },
     "execution_count": 5,
     "metadata": {},
     "output_type": "execute_result"
    }
   ],
   "source": [
    "X.shape"
   ]
  },
  {
   "cell_type": "code",
   "execution_count": 6,
   "id": "71e0688d-5bc2-4840-845e-4a1d79ae312b",
   "metadata": {},
   "outputs": [
    {
     "data": {
      "text/plain": [
       "torch.Size([100, 1])"
      ]
     },
     "execution_count": 6,
     "metadata": {},
     "output_type": "execute_result"
    }
   ],
   "source": [
    "y.shape"
   ]
  },
  {
   "cell_type": "code",
   "execution_count": 7,
   "id": "7556aed8-d99a-4932-a07b-0a81f4e912a0",
   "metadata": {},
   "outputs": [
    {
     "name": "stdout",
     "output_type": "stream",
     "text": [
      "First 10 X & y samples:\n",
      "X: tensor([[0.0000],\n",
      "        [0.0100],\n",
      "        [0.0200],\n",
      "        [0.0300],\n",
      "        [0.0400],\n",
      "        [0.0500],\n",
      "        [0.0600],\n",
      "        [0.0700],\n",
      "        [0.0800],\n",
      "        [0.0900]])\n",
      "y: tensor([[0.9000],\n",
      "        [0.9030],\n",
      "        [0.9060],\n",
      "        [0.9090],\n",
      "        [0.9120],\n",
      "        [0.9150],\n",
      "        [0.9180],\n",
      "        [0.9210],\n",
      "        [0.9240],\n",
      "        [0.9270]])\n"
     ]
    }
   ],
   "source": [
    "print(f\"First 10 X & y samples:\\nX: {X[:10]}\\ny: {y[:10]}\")"
   ]
  },
  {
   "cell_type": "code",
   "execution_count": 8,
   "id": "b4e5b986-12bc-4ee9-8d9b-4edd6657c4f0",
   "metadata": {},
   "outputs": [],
   "source": [
    "#spliting the data into train_test\n",
    "split_value = int(len(X)*splitting_ratio)\n",
    "X_train, X_test = X[:split_value],X[split_value:]\n",
    "y_train, y_test = y[:split_value],y[split_value:]"
   ]
  },
  {
   "cell_type": "code",
   "execution_count": 9,
   "id": "8ddd1533-611b-4a23-b7ef-a81f49854efa",
   "metadata": {},
   "outputs": [
    {
     "data": {
      "text/plain": [
       "(torch.Size([80, 1]), torch.Size([80, 1]))"
      ]
     },
     "execution_count": 9,
     "metadata": {},
     "output_type": "execute_result"
    }
   ],
   "source": [
    "X_train.shape, y_train.shape"
   ]
  },
  {
   "cell_type": "code",
   "execution_count": 10,
   "id": "f1e004df-7829-4f9e-8d5b-03b698b66925",
   "metadata": {},
   "outputs": [],
   "source": [
    "#visualization\n",
    "def plotting(X_train, X_test, y_train, y_test, prediction = None):\n",
    "    plt.figure(figsize = (12,7))\n",
    "    plt.scatter(X_train, y_train, s=40, c = 'g',marker = 'x')\n",
    "    plt.scatter(X_test, y_test, s=40, c = 'r',marker = 'x')\n",
    "\n",
    "    if prediction is not None:\n",
    "        plt.scatter(X_test, prediction, s=40, c = 'b',marker = 'x')\n"
   ]
  },
  {
   "cell_type": "code",
   "execution_count": 11,
   "id": "09e39d99-ee31-4c66-a48c-0e2c560c5998",
   "metadata": {},
   "outputs": [
    {
     "data": {
      "image/png": "[encoded data removed]",
      "text/plain": [
       "<Figure size 1200x700 with 1 Axes>"
      ]
     },
     "metadata": {},
     "output_type": "display_data"
    }
   ],
   "source": [
    "plot = plotting(X_train,X_test, y_train, y_test)"
   ]
  },
  {
   "cell_type": "markdown",
   "id": "7ac89b2e-163b-44cf-b74f-5fd89bb8880f",
   "metadata": {},
   "source": [
    "## Model Creation"
   ]
  },
  {
   "cell_type": "code",
   "execution_count": 12,
   "id": "2d719d14-cbf2-470c-af31-c8ed2f9024c6",
   "metadata": {},
   "outputs": [],
   "source": [
    "class LinearRegressionModel(nn.Module):\n",
    "    def __init__(self):\n",
    "        super().__init__()\n",
    "        self.l1 = nn.Linear(in_features=1,\n",
    "                            out_features = 5)\n",
    "        self.l2 = nn.Linear(in_features = 5,\n",
    "                            out_features = 1)\n",
    "    def forward(self, x):\n",
    "        return self.l2(self.l1(x))\n",
    "        "
   ]
  },
  {
   "cell_type": "code",
   "execution_count": 13,
   "id": "f95fe9fc-19e1-4c05-aa6b-e34295a70073",
   "metadata": {},
   "outputs": [],
   "source": [
    "torch.manual_seed(42)\n",
    "model_1  = LinearRegressionModel().to(device)"
   ]
  },
  {
   "cell_type": "code",
   "execution_count": 14,
   "id": "755d77f8-dc21-4172-966d-df62ea17a8a9",
   "metadata": {},
   "outputs": [
    {
     "data": {
      "text/plain": [
       "OrderedDict([('l1.weight',\n",
       "              tensor([[ 0.7645],\n",
       "                      [ 0.8300],\n",
       "                      [-0.2343],\n",
       "                      [ 0.9186],\n",
       "                      [-0.2191]], device='mps:0')),\n",
       "             ('l1.bias',\n",
       "              tensor([ 0.2018, -0.4869,  0.5873,  0.8815, -0.7336], device='mps:0')),\n",
       "             ('l2.weight',\n",
       "              tensor([[0.3887, 0.0837, 0.3304, 0.0606, 0.2156]], device='mps:0')),\n",
       "             ('l2.bias', tensor([-0.0631], device='mps:0'))])"
      ]
     },
     "execution_count": 14,
     "metadata": {},
     "output_type": "execute_result"
    }
   ],
   "source": [
    "model_1.state_dict()"
   ]
  },
  {
   "cell_type": "code",
   "execution_count": 15,
   "id": "a846e4bc-765c-4944-b528-cc581df3f307",
   "metadata": {},
   "outputs": [],
   "source": [
    "#initial prediction\n",
    "y_init  = model_1(X_test.to(device))"
   ]
  },
  {
   "cell_type": "code",
   "execution_count": 16,
   "id": "20d794d9-7adc-4fbf-bd31-637b2d2b9541",
   "metadata": {},
   "outputs": [
    {
     "data": {
      "image/png": "[encoded data removed]",
      "text/plain": [
       "<Figure size 1200x700 with 1 Axes>"
      ]
     },
     "metadata": {},
     "output_type": "display_data"
    }
   ],
   "source": [
    "plot_2 = plotting(X_train,X_test, y_train, y_test,prediction = y_init.cpu().detach().numpy())"
   ]
  },
  {
   "cell_type": "markdown",
   "id": "2601782c-3610-4e28-a801-81776134802a",
   "metadata": {},
   "source": [
    "## Loss and Optimizer"
   ]
  },
  {
   "cell_type": "code",
   "execution_count": 17,
   "id": "7193acb4-4d66-465d-ba42-98c32ec5190b",
   "metadata": {},
   "outputs": [],
   "source": [
    "#loss function \n",
    "loss_fn = nn.L1Loss()\n",
    "\n",
    "\n",
    "#optimizer \n",
    "optimizer = torch.optim.Adam(model_1.parameters(),\n",
    "                            lr = 0.01)\n"
   ]
  },
  {
   "cell_type": "code",
   "execution_count": 22,
   "id": "658a4902-51c9-4b58-bdf1-e48e4c2ef674",
   "metadata": {},
   "outputs": [
    {
     "name": "stdout",
     "output_type": "stream",
     "text": [
      " Epoch: 0 | Train_loss: 0.009 | Test_loss: 0.012\n",
      " Epoch: 20 | Train_loss: 0.005 | Test_loss: 0.009\n",
      " Epoch: 40 | Train_loss: 0.004 | Test_loss: 0.017\n",
      " Epoch: 60 | Train_loss: 0.012 | Test_loss: 0.011\n",
      " Epoch: 80 | Train_loss: 0.001 | Test_loss: 0.005\n",
      " Epoch: 100 | Train_loss: 0.009 | Test_loss: 0.013\n",
      " Epoch: 120 | Train_loss: 0.004 | Test_loss: 0.004\n",
      " Epoch: 140 | Train_loss: 0.005 | Test_loss: 0.002\n",
      " Epoch: 160 | Train_loss: 0.004 | Test_loss: 0.002\n",
      " Epoch: 180 | Train_loss: 0.003 | Test_loss: 0.001\n",
      " Epoch: 200 | Train_loss: 0.004 | Test_loss: 0.001\n",
      " Epoch: 220 | Train_loss: 0.003 | Test_loss: 0.003\n",
      " Epoch: 240 | Train_loss: 0.003 | Test_loss: 0.002\n",
      " Epoch: 260 | Train_loss: 0.004 | Test_loss: 0.001\n",
      " Epoch: 280 | Train_loss: 0.003 | Test_loss: 0.001\n",
      " Epoch: 300 | Train_loss: 0.002 | Test_loss: 0.010\n",
      " Epoch: 320 | Train_loss: 0.011 | Test_loss: 0.005\n",
      " Epoch: 340 | Train_loss: 0.004 | Test_loss: 0.009\n",
      " Epoch: 360 | Train_loss: 0.003 | Test_loss: 0.004\n",
      " Epoch: 380 | Train_loss: 0.008 | Test_loss: 0.011\n",
      " Epoch: 400 | Train_loss: 0.002 | Test_loss: 0.004\n",
      " Epoch: 420 | Train_loss: 0.004 | Test_loss: 0.001\n",
      " Epoch: 440 | Train_loss: 0.005 | Test_loss: 0.001\n",
      " Epoch: 460 | Train_loss: 0.005 | Test_loss: 0.001\n",
      " Epoch: 480 | Train_loss: 0.006 | Test_loss: 0.001\n",
      " Epoch: 500 | Train_loss: 0.004 | Test_loss: 0.002\n",
      " Epoch: 520 | Train_loss: 0.010 | Test_loss: 0.018\n",
      " Epoch: 540 | Train_loss: 0.001 | Test_loss: 0.002\n",
      " Epoch: 560 | Train_loss: 0.002 | Test_loss: 0.002\n",
      " Epoch: 580 | Train_loss: 0.002 | Test_loss: 0.007\n"
     ]
    }
   ],
   "source": [
    "#now the train and test loop\n",
    "#train loop \n",
    "torch.manual_seed(42)\n",
    "X_train , X_test = X_train.to(device),X_test.to(device)\n",
    "y_train, y_test = y_train.to(device),y_test.to(device)\n",
    "\n",
    "epochs = 600\n",
    "for epoch in range(epochs):\n",
    "    model_1.train()\n",
    "    train_pred = model_1(X_train)\n",
    "    #calculate the loss\n",
    "    train_loss = loss_fn(train_pred,y_train)\n",
    "    \n",
    "    optimizer.zero_grad()\n",
    "    train_loss.backward()\n",
    "    optimizer.step()\n",
    "\n",
    "\n",
    "    ## perform testing every 20 epochs\n",
    "    if epoch%20==0:\n",
    "        with torch.no_grad():\n",
    "            model_1.eval()\n",
    "        \n",
    "            test_pred = model_1(X_test)\n",
    "            test_loss = loss_fn(test_pred,y_test)\n",
    "            \n",
    "            \n",
    "        print(f\" Epoch: {epoch} | Train_loss: {train_loss:.3f} | Test_loss: {test_loss:.3f}\")\n",
    "            \n",
    "        \n",
    "            \n"
   ]
  },
  {
   "cell_type": "code",
   "execution_count": 23,
   "id": "d423d40d-838b-4cd3-b6f5-a04c308b71cf",
   "metadata": {},
   "outputs": [],
   "source": [
    "with torch.no_grad():\n",
    "    final_pred = model_1(X_test)\n"
   ]
  },
  {
   "cell_type": "code",
   "execution_count": 24,
   "id": "a37e6bd6-bf65-4b04-81ba-1cd0666ece91",
   "metadata": {},
   "outputs": [
    {
     "data": {
      "image/png": "[encoded data removed]",
      "text/plain": [
       "<Figure size 1200x700 with 1 Axes>"
      ]
     },
     "metadata": {},
     "output_type": "display_data"
    }
   ],
   "source": [
    "final_plot = plotting(X_train.cpu(),X_test.cpu(), y_train.cpu(), y_test.cpu(),prediction = final_pred.cpu())"
   ]
  },
  {
   "cell_type": "code",
   "execution_count": 21,
   "id": "f88bce9e-87da-40ce-8858-c6b0c8a747c1",
   "metadata": {},
   "outputs": [
    {
     "data": {
      "text/plain": [
       "device(type='mps', index=0)"
      ]
     },
     "execution_count": 21,
     "metadata": {},
     "output_type": "execute_result"
    }
   ],
   "source": [
    "X_train.device"
   ]
  },
  {
   "cell_type": "code",
   "execution_count": 25,
   "id": "15602de6-6c8c-47b6-b27c-789f63e985ff",
   "metadata": {},
   "outputs": [],
   "source": [
    "#save the model\n",
    "from pathlib import Path\n",
    "\n",
    "#create models directory\n",
    "model_path = Path('Models')\n",
    "model_path.mkdir(parents = True, \n",
    "                 exist_ok = True)\n",
    "\n",
    "#create model save path\n",
    "model_name  = '01_PyTorch_model'\n",
    "model_save_path = model_path/model_name\n",
    "\n",
    "#save the dict\n",
    "torch.save(obj = model_1.state_dict,\n",
    "           f = model_save_path)"
   ]
  },
  {
   "cell_type": "code",
   "execution_count": null,
   "id": "9a1fe034-dc43-4ec1-9a12-b4d98d6ae982",
   "metadata": {},
   "outputs": [],
   "source": []
  }
 ],
 "metadata": {
  "kernelspec": {
   "display_name": "Python 3 (ipykernel)",
   "language": "python",
   "name": "python3"
  },
  "language_info": {
   "codemirror_mode": {
    "name": "ipython",
    "version": 3
   },
   "file_extension": ".py",
   "mimetype": "text/x-python",
   "name": "python",
   "nbconvert_exporter": "python",
   "pygments_lexer": "ipython3",
   "version": "3.11.5"
  }
 },
 "nbformat": 4,
 "nbformat_minor": 5
}

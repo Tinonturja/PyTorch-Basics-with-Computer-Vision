{
 "cells": [
  {
   "cell_type": "markdown",
   "id": "0e4ba140-92f9-4d86-932c-3c7dacaeba33",
   "metadata": {},
   "source": [
    "## What are we going to cover\n",
    "* get  a vision dataset from torchvision.datasets\n",
    "* architecture of a CNN with PyTorch\n",
    "* An end to end multi-class image classification problem\n",
    "* steps in modelling with CNNs in pytorch\n",
    "    * Creating a CNN model with PyTorch\n",
    "    * Picking a Loss and optimizer\n",
    "    * Training a model a model\n",
    "    * Evaluating a model"
   ]
  },
  {
   "cell_type": "markdown",
   "id": "fe8ec8cb-3cf5-4b51-a0c7-297bc44078bb",
   "metadata": {},
   "source": [
    "## Computer Vision Libraries\n",
    "* `torchvision` -base domain library for  computer vision\n",
    "* `torchvision.datasets` - get datasets and data loading function for computer vision\n",
    "* `torchvision.models` - get pretrained computer vision models that you can leverage for your own problems\n",
    "* `torchvision.transforms` - functions for manipulating your vision data(images)  to be suitable for use with an ML model\n",
    "* `torch.utils.data.Dataset` - Base dataset class for PyTorch (creates custom data with your own datasets)\n",
    "* `torch.utils.data.DataLoader` - Creates a Python iterable over a dataset"
   ]
  },
  {
   "cell_type": "code",
   "execution_count": 1,
   "id": "c9feb3c9-4e12-4e78-b4d8-3cab9ff4b8ac",
   "metadata": {},
   "outputs": [
    {
     "name": "stdout",
     "output_type": "stream",
     "text": [
      "2.5.1\n",
      "0.20.1\n"
     ]
    }
   ],
   "source": [
    "#import libraries\n",
    "import torch\n",
    "from torch import nn\n",
    "\n",
    "\n",
    "#import torchvision\n",
    "import torchvision\n",
    "from torchvision import datasets\n",
    "from torchvision import transforms\n",
    "from torchvision.transforms import ToTensor # `ToTensor` --> Convert a PIL image or numpy.ndarray to tensor\n",
    "\n",
    "\n",
    "#import matplotlib\n",
    "import matplotlib.pyplot as plt\n",
    "\n",
    "\n",
    "#Check versions\n",
    "print(torch.__version__)\n",
    "print(torchvision.__version__)"
   ]
  },
  {
   "cell_type": "markdown",
   "id": "1a43f1d9-0c15-425f-8ee3-6ef37e7a27c2",
   "metadata": {},
   "source": [
    "## Getting a Dataset\n",
    "The dataset we are going to use is -- **`FashionMNIST`** from torchvison.datasets-\n"
   ]
  },
  {
   "cell_type": "code",
   "execution_count": 2,
   "id": "e4ccb582-9833-4cec-a3c3-6bcf9c1c5a9d",
   "metadata": {},
   "outputs": [],
   "source": [
    "from torchvision import datasets\n",
    "train_data = datasets.FashionMNIST(\n",
    "    root = \"data\", #where to download data to\n",
    "    train = True, # do we want the training dataset? if train = False it will upload the test dataset\n",
    "    download = True, #do we want to download the data? (Yes/No)\n",
    "    transform = ToTensor(), #how do we want to transform the data\n",
    "    # `transform` convert the pil image or np.ndarray into pytorch, it converts the image (H*W*C) in the range [0,255] to \n",
    "    # a torch.FloatTensor of shape (C*W*H) in the range [0.0,1]\n",
    "    target_transform =None # how do we want to transform the labels/targets?\n",
    ")\n",
    "\n",
    "test_data = datasets.FashionMNIST(\n",
    "    root = 'data',\n",
    "    train = False,\n",
    "    download = True,\n",
    "    transform = ToTensor(),\n",
    "    target_transform = None\n",
    ")"
   ]
  },
  {
   "cell_type": "code",
   "execution_count": 3,
   "id": "f0af2757-8f9d-401d-81b3-1829f75c22fd",
   "metadata": {},
   "outputs": [
    {
     "data": {
      "text/plain": [
       "(60000, 10000)"
      ]
     },
     "execution_count": 3,
     "metadata": {},
     "output_type": "execute_result"
    }
   ],
   "source": [
    "len(train_data),len(test_data)"
   ]
  },
  {
   "cell_type": "code",
   "execution_count": 4,
   "id": "d3d410d6-9a28-4779-9e66-403d6312bb2f",
   "metadata": {},
   "outputs": [
    {
     "data": {
      "text/plain": [
       "(tensor([[[0.0000, 0.0000, 0.0000, 0.0000, 0.0000, 0.0000, 0.0000, 0.0000,\n",
       "           0.0000, 0.0000, 0.0000, 0.0000, 0.0000, 0.0000, 0.0000, 0.0000,\n",
       "           0.0000, 0.0000, 0.0000, 0.0000, 0.0000, 0.0000, 0.0000, 0.0000,\n",
       "           0.0000, 0.0000, 0.0000, 0.0000],\n",
       "          [0.0000, 0.0000, 0.0000, 0.0000, 0.0000, 0.0000, 0.0000, 0.0000,\n",
       "           0.0000, 0.0000, 0.0000, 0.0000, 0.0000, 0.0000, 0.0000, 0.0000,\n",
       "           0.0000, 0.0000, 0.0000, 0.0000, 0.0000, 0.0000, 0.0000, 0.0000,\n",
       "           0.0000, 0.0000, 0.0000, 0.0000],\n",
       "          [0.0000, 0.0000, 0.0000, 0.0000, 0.0000, 0.0000, 0.0000, 0.0000,\n",
       "           0.0000, 0.0000, 0.0000, 0.0000, 0.0000, 0.0000, 0.0000, 0.0000,\n",
       "           0.0000, 0.0000, 0.0000, 0.0000, 0.0000, 0.0000, 0.0000, 0.0000,\n",
       "           0.0000, 0.0000, 0.0000, 0.0000],\n",
       "          [0.0000, 0.0000, 0.0000, 0.0000, 0.0000, 0.0000, 0.0000, 0.0000,\n",
       "           0.0000, 0.0000, 0.0000, 0.0000, 0.0039, 0.0000, 0.0000, 0.0510,\n",
       "           0.2863, 0.0000, 0.0000, 0.0039, 0.0157, 0.0000, 0.0000, 0.0000,\n",
       "           0.0000, 0.0039, 0.0039, 0.0000],\n",
       "          [0.0000, 0.0000, 0.0000, 0.0000, 0.0000, 0.0000, 0.0000, 0.0000,\n",
       "           0.0000, 0.0000, 0.0000, 0.0000, 0.0118, 0.0000, 0.1412, 0.5333,\n",
       "           0.4980, 0.2431, 0.2118, 0.0000, 0.0000, 0.0000, 0.0039, 0.0118,\n",
       "           0.0157, 0.0000, 0.0000, 0.0118],\n",
       "          [0.0000, 0.0000, 0.0000, 0.0000, 0.0000, 0.0000, 0.0000, 0.0000,\n",
       "           0.0000, 0.0000, 0.0000, 0.0000, 0.0235, 0.0000, 0.4000, 0.8000,\n",
       "           0.6902, 0.5255, 0.5647, 0.4824, 0.0902, 0.0000, 0.0000, 0.0000,\n",
       "           0.0000, 0.0471, 0.0392, 0.0000],\n",
       "          [0.0000, 0.0000, 0.0000, 0.0000, 0.0000, 0.0000, 0.0000, 0.0000,\n",
       "           0.0000, 0.0000, 0.0000, 0.0000, 0.0000, 0.0000, 0.6078, 0.9255,\n",
       "           0.8118, 0.6980, 0.4196, 0.6118, 0.6314, 0.4275, 0.2510, 0.0902,\n",
       "           0.3020, 0.5098, 0.2824, 0.0588],\n",
       "          [0.0000, 0.0000, 0.0000, 0.0000, 0.0000, 0.0000, 0.0000, 0.0000,\n",
       "           0.0000, 0.0000, 0.0000, 0.0039, 0.0000, 0.2706, 0.8118, 0.8745,\n",
       "           0.8549, 0.8471, 0.8471, 0.6392, 0.4980, 0.4745, 0.4784, 0.5725,\n",
       "           0.5529, 0.3451, 0.6745, 0.2588],\n",
       "          [0.0000, 0.0000, 0.0000, 0.0000, 0.0000, 0.0000, 0.0000, 0.0000,\n",
       "           0.0000, 0.0039, 0.0039, 0.0039, 0.0000, 0.7843, 0.9098, 0.9098,\n",
       "           0.9137, 0.8980, 0.8745, 0.8745, 0.8431, 0.8353, 0.6431, 0.4980,\n",
       "           0.4824, 0.7686, 0.8980, 0.0000],\n",
       "          [0.0000, 0.0000, 0.0000, 0.0000, 0.0000, 0.0000, 0.0000, 0.0000,\n",
       "           0.0000, 0.0000, 0.0000, 0.0000, 0.0000, 0.7176, 0.8824, 0.8471,\n",
       "           0.8745, 0.8941, 0.9216, 0.8902, 0.8784, 0.8706, 0.8784, 0.8667,\n",
       "           0.8745, 0.9608, 0.6784, 0.0000],\n",
       "          [0.0000, 0.0000, 0.0000, 0.0000, 0.0000, 0.0000, 0.0000, 0.0000,\n",
       "           0.0000, 0.0000, 0.0000, 0.0000, 0.0000, 0.7569, 0.8941, 0.8549,\n",
       "           0.8353, 0.7765, 0.7059, 0.8314, 0.8235, 0.8275, 0.8353, 0.8745,\n",
       "           0.8627, 0.9529, 0.7922, 0.0000],\n",
       "          [0.0000, 0.0000, 0.0000, 0.0000, 0.0000, 0.0000, 0.0000, 0.0000,\n",
       "           0.0000, 0.0039, 0.0118, 0.0000, 0.0471, 0.8588, 0.8627, 0.8314,\n",
       "           0.8549, 0.7529, 0.6627, 0.8902, 0.8157, 0.8549, 0.8784, 0.8314,\n",
       "           0.8863, 0.7725, 0.8196, 0.2039],\n",
       "          [0.0000, 0.0000, 0.0000, 0.0000, 0.0000, 0.0000, 0.0000, 0.0000,\n",
       "           0.0000, 0.0000, 0.0235, 0.0000, 0.3882, 0.9569, 0.8706, 0.8627,\n",
       "           0.8549, 0.7961, 0.7765, 0.8667, 0.8431, 0.8353, 0.8706, 0.8627,\n",
       "           0.9608, 0.4667, 0.6549, 0.2196],\n",
       "          [0.0000, 0.0000, 0.0000, 0.0000, 0.0000, 0.0000, 0.0000, 0.0000,\n",
       "           0.0000, 0.0157, 0.0000, 0.0000, 0.2157, 0.9255, 0.8941, 0.9020,\n",
       "           0.8941, 0.9412, 0.9098, 0.8353, 0.8549, 0.8745, 0.9176, 0.8510,\n",
       "           0.8510, 0.8196, 0.3608, 0.0000],\n",
       "          [0.0000, 0.0000, 0.0039, 0.0157, 0.0235, 0.0275, 0.0078, 0.0000,\n",
       "           0.0000, 0.0000, 0.0000, 0.0000, 0.9294, 0.8863, 0.8510, 0.8745,\n",
       "           0.8706, 0.8588, 0.8706, 0.8667, 0.8471, 0.8745, 0.8980, 0.8431,\n",
       "           0.8549, 1.0000, 0.3020, 0.0000],\n",
       "          [0.0000, 0.0118, 0.0000, 0.0000, 0.0000, 0.0000, 0.0000, 0.0000,\n",
       "           0.0000, 0.2431, 0.5686, 0.8000, 0.8941, 0.8118, 0.8353, 0.8667,\n",
       "           0.8549, 0.8157, 0.8275, 0.8549, 0.8784, 0.8745, 0.8588, 0.8431,\n",
       "           0.8784, 0.9569, 0.6235, 0.0000],\n",
       "          [0.0000, 0.0000, 0.0000, 0.0000, 0.0706, 0.1725, 0.3216, 0.4196,\n",
       "           0.7412, 0.8941, 0.8627, 0.8706, 0.8510, 0.8863, 0.7843, 0.8039,\n",
       "           0.8275, 0.9020, 0.8784, 0.9176, 0.6902, 0.7373, 0.9804, 0.9725,\n",
       "           0.9137, 0.9333, 0.8431, 0.0000],\n",
       "          [0.0000, 0.2235, 0.7333, 0.8157, 0.8784, 0.8667, 0.8784, 0.8157,\n",
       "           0.8000, 0.8392, 0.8157, 0.8196, 0.7843, 0.6235, 0.9608, 0.7569,\n",
       "           0.8078, 0.8745, 1.0000, 1.0000, 0.8667, 0.9176, 0.8667, 0.8275,\n",
       "           0.8627, 0.9098, 0.9647, 0.0000],\n",
       "          [0.0118, 0.7922, 0.8941, 0.8784, 0.8667, 0.8275, 0.8275, 0.8392,\n",
       "           0.8039, 0.8039, 0.8039, 0.8627, 0.9412, 0.3137, 0.5882, 1.0000,\n",
       "           0.8980, 0.8667, 0.7373, 0.6039, 0.7490, 0.8235, 0.8000, 0.8196,\n",
       "           0.8706, 0.8941, 0.8824, 0.0000],\n",
       "          [0.3843, 0.9137, 0.7765, 0.8235, 0.8706, 0.8980, 0.8980, 0.9176,\n",
       "           0.9765, 0.8627, 0.7608, 0.8431, 0.8510, 0.9451, 0.2549, 0.2863,\n",
       "           0.4157, 0.4588, 0.6588, 0.8588, 0.8667, 0.8431, 0.8510, 0.8745,\n",
       "           0.8745, 0.8784, 0.8980, 0.1137],\n",
       "          [0.2941, 0.8000, 0.8314, 0.8000, 0.7569, 0.8039, 0.8275, 0.8824,\n",
       "           0.8471, 0.7255, 0.7725, 0.8078, 0.7765, 0.8353, 0.9412, 0.7647,\n",
       "           0.8902, 0.9608, 0.9373, 0.8745, 0.8549, 0.8314, 0.8196, 0.8706,\n",
       "           0.8627, 0.8667, 0.9020, 0.2627],\n",
       "          [0.1882, 0.7961, 0.7176, 0.7608, 0.8353, 0.7725, 0.7255, 0.7451,\n",
       "           0.7608, 0.7529, 0.7922, 0.8392, 0.8588, 0.8667, 0.8627, 0.9255,\n",
       "           0.8824, 0.8471, 0.7804, 0.8078, 0.7294, 0.7098, 0.6941, 0.6745,\n",
       "           0.7098, 0.8039, 0.8078, 0.4510],\n",
       "          [0.0000, 0.4784, 0.8588, 0.7569, 0.7020, 0.6706, 0.7176, 0.7686,\n",
       "           0.8000, 0.8235, 0.8353, 0.8118, 0.8275, 0.8235, 0.7843, 0.7686,\n",
       "           0.7608, 0.7490, 0.7647, 0.7490, 0.7765, 0.7529, 0.6902, 0.6118,\n",
       "           0.6549, 0.6941, 0.8235, 0.3608],\n",
       "          [0.0000, 0.0000, 0.2902, 0.7412, 0.8314, 0.7490, 0.6863, 0.6745,\n",
       "           0.6863, 0.7098, 0.7255, 0.7373, 0.7412, 0.7373, 0.7569, 0.7765,\n",
       "           0.8000, 0.8196, 0.8235, 0.8235, 0.8275, 0.7373, 0.7373, 0.7608,\n",
       "           0.7529, 0.8471, 0.6667, 0.0000],\n",
       "          [0.0078, 0.0000, 0.0000, 0.0000, 0.2588, 0.7843, 0.8706, 0.9294,\n",
       "           0.9373, 0.9490, 0.9647, 0.9529, 0.9569, 0.8667, 0.8627, 0.7569,\n",
       "           0.7490, 0.7020, 0.7137, 0.7137, 0.7098, 0.6902, 0.6510, 0.6588,\n",
       "           0.3882, 0.2275, 0.0000, 0.0000],\n",
       "          [0.0000, 0.0000, 0.0000, 0.0000, 0.0000, 0.0000, 0.0000, 0.1569,\n",
       "           0.2392, 0.1725, 0.2824, 0.1608, 0.1373, 0.0000, 0.0000, 0.0000,\n",
       "           0.0000, 0.0000, 0.0000, 0.0000, 0.0000, 0.0000, 0.0000, 0.0000,\n",
       "           0.0000, 0.0000, 0.0000, 0.0000],\n",
       "          [0.0000, 0.0000, 0.0000, 0.0000, 0.0000, 0.0000, 0.0000, 0.0000,\n",
       "           0.0000, 0.0000, 0.0000, 0.0000, 0.0000, 0.0000, 0.0000, 0.0000,\n",
       "           0.0000, 0.0000, 0.0000, 0.0000, 0.0000, 0.0000, 0.0000, 0.0000,\n",
       "           0.0000, 0.0000, 0.0000, 0.0000],\n",
       "          [0.0000, 0.0000, 0.0000, 0.0000, 0.0000, 0.0000, 0.0000, 0.0000,\n",
       "           0.0000, 0.0000, 0.0000, 0.0000, 0.0000, 0.0000, 0.0000, 0.0000,\n",
       "           0.0000, 0.0000, 0.0000, 0.0000, 0.0000, 0.0000, 0.0000, 0.0000,\n",
       "           0.0000, 0.0000, 0.0000, 0.0000]]]),\n",
       " 9)"
      ]
     },
     "execution_count": 4,
     "metadata": {},
     "output_type": "execute_result"
    }
   ],
   "source": [
    "#see the first training example:\n",
    "image, label = train_data[0]\n",
    "image, label"
   ]
  },
  {
   "cell_type": "code",
   "execution_count": 5,
   "id": "8cf534ba-f95f-4812-9cc6-342e88534c12",
   "metadata": {},
   "outputs": [
    {
     "data": {
      "text/plain": [
       "torch.Tensor"
      ]
     },
     "execution_count": 5,
     "metadata": {},
     "output_type": "execute_result"
    }
   ],
   "source": [
    "type(image)"
   ]
  },
  {
   "cell_type": "code",
   "execution_count": 6,
   "id": "0d55ae75-447f-4777-ba42-9501008b6574",
   "metadata": {},
   "outputs": [
    {
     "data": {
      "text/plain": [
       "torch.float32"
      ]
     },
     "execution_count": 6,
     "metadata": {},
     "output_type": "execute_result"
    }
   ],
   "source": [
    "image.dtype"
   ]
  },
  {
   "cell_type": "code",
   "execution_count": 7,
   "id": "3ac7f2f8-f423-45e5-a8f8-3438fca6078f",
   "metadata": {},
   "outputs": [
    {
     "data": {
      "text/plain": [
       "['T-shirt/top',\n",
       " 'Trouser',\n",
       " 'Pullover',\n",
       " 'Dress',\n",
       " 'Coat',\n",
       " 'Sandal',\n",
       " 'Shirt',\n",
       " 'Sneaker',\n",
       " 'Bag',\n",
       " 'Ankle boot']"
      ]
     },
     "execution_count": 7,
     "metadata": {},
     "output_type": "execute_result"
    }
   ],
   "source": [
    "# Different types of images that contains in the dataset\n",
    "class_names = train_data.classes\n",
    "class_names"
   ]
  },
  {
   "cell_type": "code",
   "execution_count": 8,
   "id": "d7c5007d-eb5c-4775-a7fe-51ab1de7d073",
   "metadata": {},
   "outputs": [
    {
     "data": {
      "text/plain": [
       "{'T-shirt/top': 0,\n",
       " 'Trouser': 1,\n",
       " 'Pullover': 2,\n",
       " 'Dress': 3,\n",
       " 'Coat': 4,\n",
       " 'Sandal': 5,\n",
       " 'Shirt': 6,\n",
       " 'Sneaker': 7,\n",
       " 'Bag': 8,\n",
       " 'Ankle boot': 9}"
      ]
     },
     "execution_count": 8,
     "metadata": {},
     "output_type": "execute_result"
    }
   ],
   "source": [
    "class_to_idx = train_data.class_to_idx\n",
    "class_to_idx"
   ]
  },
  {
   "cell_type": "code",
   "execution_count": 9,
   "id": "811e88f2-bf8c-4440-91ed-1039d2be80ca",
   "metadata": {},
   "outputs": [
    {
     "data": {
      "text/plain": [
       "tensor([0, 1, 2, 3, 4, 5, 6, 7, 8, 9])"
      ]
     },
     "execution_count": 9,
     "metadata": {},
     "output_type": "execute_result"
    }
   ],
   "source": [
    "train_data.targets.unique()"
   ]
  },
  {
   "cell_type": "code",
   "execution_count": 10,
   "id": "838637ce-6515-4ddb-961e-0e259a299412",
   "metadata": {},
   "outputs": [
    {
     "name": "stdout",
     "output_type": "stream",
     "text": [
      "The shape of our image: torch.Size([1, 28, 28])-->[color channels, height, width]\n",
      " Image label: Ankle boot\n"
     ]
    }
   ],
   "source": [
    "#check the shape of our image\n",
    "print(f\"The shape of our image: {image.shape}-->[color channels, height, width]\")\n",
    "print(f\" Image label: {class_names[label]}\")"
   ]
  },
  {
   "cell_type": "markdown",
   "id": "0e2f6ee7-2e68-4dc8-a20a-ffd444daff83",
   "metadata": {},
   "source": [
    "## Visualizing our data"
   ]
  },
  {
   "cell_type": "code",
   "execution_count": 11,
   "id": "1361ac24-2c7d-402c-b432-6e69cac60da8",
   "metadata": {},
   "outputs": [
    {
     "name": "stdout",
     "output_type": "stream",
     "text": [
      "Image shape: torch.Size([1, 28, 28])\n"
     ]
    },
    {
     "data": {
      "text/plain": [
       "<matplotlib.image.AxesImage at 0x141985b50>"
      ]
     },
     "execution_count": 11,
     "metadata": {},
     "output_type": "execute_result"
    },
    {
     "data": {
      "image/png": "[encoded data removed]",
      "text/plain": [
       "<Figure size 640x480 with 1 Axes>"
      ]
     },
     "metadata": {},
     "output_type": "display_data"
    }
   ],
   "source": [
    "import matplotlib.pyplot as plt\n",
    "image, label = train_data[0]\n",
    "print(f\"Image shape: {image.shape}\")\n",
    "plt.title(class_names[label])\n",
    "plt.imshow(image.squeeze())"
   ]
  },
  {
   "cell_type": "code",
   "execution_count": 12,
   "id": "6a24af6f-2be4-472e-bf8b-eb546a9d6081",
   "metadata": {},
   "outputs": [
    {
     "data": {
      "text/plain": [
       "(-0.5, 27.5, 27.5, -0.5)"
      ]
     },
     "execution_count": 12,
     "metadata": {},
     "output_type": "execute_result"
    },
    {
     "data": {
      "image/png": "[encoded data removed]",
      "text/plain": [
       "<Figure size 640x480 with 1 Axes>"
      ]
     },
     "metadata": {},
     "output_type": "display_data"
    }
   ],
   "source": [
    "#gray mapping images\n",
    "plt.imshow(image.squeeze(),cmap = 'gray')\n",
    "plt.title(class_names[label])\n",
    "plt.axis(\"off\")"
   ]
  },
  {
   "cell_type": "code",
   "execution_count": 13,
   "id": "6ebf3955-9c25-41e6-9225-9fddcb4a6df8",
   "metadata": {},
   "outputs": [
    {
     "name": "stdout",
     "output_type": "stream",
     "text": [
      "1\n",
      "2\n",
      "3\n",
      "4\n",
      "5\n",
      "6\n",
      "7\n",
      "8\n",
      "9\n",
      "10\n",
      "11\n",
      "12\n",
      "13\n",
      "14\n",
      "15\n",
      "16\n"
     ]
    },
    {
     "data": {
      "text/plain": [
       "<Figure size 900x900 with 0 Axes>"
      ]
     },
     "metadata": {},
     "output_type": "display_data"
    }
   ],
   "source": [
    "#plot more images\n",
    "torch.manual_seed(42)\n",
    "\n",
    "fig = plt.figure(figsize = (9,9))\n",
    "rows, cols = 4,4\n",
    "for i in range(1,rows*cols+1):\n",
    "    print(i)"
   ]
  },
  {
   "cell_type": "code",
   "execution_count": 22,
   "id": "2869fb1c-9d82-45d6-952a-381b37a2e1ca",
   "metadata": {},
   "outputs": [
    {
     "data": {
      "image/png": "[encoded data removed]",
      "text/plain": [
       "<Figure size 900x900 with 16 Axes>"
      ]
     },
     "metadata": {},
     "output_type": "display_data"
    }
   ],
   "source": [
    "#torch.manual_seed(42)\n",
    "\n",
    "fig = plt.figure(figsize = (9,9))\n",
    "rows ,cols = 4,4\n",
    "for i in range(1, rows*cols +1):\n",
    "    random_idx = torch.randint(0,len(train_data), size = [1]).item()\n",
    "    img, label = train_data[random_idx]\n",
    "    fig.add_subplot(rows, cols, i)\n",
    "    plt.imshow(img.squeeze(),cmap = 'gray')\n",
    "    plt.title(class_names[label])\n",
    "    plt.axis(False);\n",
    "    \n",
    "    "
   ]
  },
  {
   "cell_type": "code",
   "execution_count": 23,
   "id": "025c392e-2e12-4254-8a01-0744e6e59956",
   "metadata": {},
   "outputs": [
    {
     "data": {
      "text/plain": [
       "(Dataset FashionMNIST\n",
       "     Number of datapoints: 60000\n",
       "     Root location: data\n",
       "     Split: Train\n",
       "     StandardTransform\n",
       " Transform: ToTensor(),\n",
       " Dataset FashionMNIST\n",
       "     Number of datapoints: 10000\n",
       "     Root location: data\n",
       "     Split: Test\n",
       "     StandardTransform\n",
       " Transform: ToTensor())"
      ]
     },
     "execution_count": 23,
     "metadata": {},
     "output_type": "execute_result"
    }
   ],
   "source": [
    "train_data, test_data"
   ]
  },
  {
   "cell_type": "markdown",
   "id": "2054f00c-1bf4-4f01-b4c2-410b8b8628ce",
   "metadata": {},
   "source": [
    "## Prepare DataLoader\n",
    "\n",
    "Right now, our data is in the from of PyTorch Datasets\n",
    "\n",
    "DataLoader turns our dataset into a PyTorch iterable\n",
    "\n",
    "More specifically, we want to turn our data into batches(mini batches)\n",
    "\n"
   ]
  },
  {
   "cell_type": "code",
   "execution_count": 25,
   "id": "8439c153-c8a4-41da-b094-52b78f1f5620",
   "metadata": {},
   "outputs": [
    {
     "data": {
      "text/plain": [
       "(<torch.utils.data.dataloader.DataLoader at 0x144ead9d0>,\n",
       " <torch.utils.data.dataloader.DataLoader at 0x1450ac610>)"
      ]
     },
     "execution_count": 25,
     "metadata": {},
     "output_type": "execute_result"
    }
   ],
   "source": [
    "from torch.utils.data.dataloader import DataLoader\n",
    "\n",
    "#batch size\n",
    "BATCH_SIZE = 32\n",
    "\n",
    "#turn datasets into iterable(batches)\n",
    "train_dataloader = DataLoader(dataset = train_data,\n",
    "                        batch_size = BATCH_SIZE,\n",
    "                        shuffle = True)\n",
    "\n",
    "test_dataloader = DataLoader(dataset = test_data,\n",
    "                        batch_size = BATCH_SIZE,\n",
    "                        shuffle = False)\n",
    "\n",
    "train_dataloader,test_dataloader"
   ]
  },
  {
   "cell_type": "code",
   "execution_count": 27,
   "id": "0c6a766a-30ab-4c74-ac0b-689fe36fd591",
   "metadata": {},
   "outputs": [
    {
     "name": "stdout",
     "output_type": "stream",
     "text": [
      " DataLoaders: (<torch.utils.data.dataloader.DataLoader object at 0x144ead9d0>, <torch.utils.data.dataloader.DataLoader object at 0x1450ac610>)\n",
      " Length of train dataloader : 1875 batches of 32\n",
      " Length of test dataloader : 313 batches of 32\n"
     ]
    }
   ],
   "source": [
    "#check out the status \n",
    "\n",
    "print(f\" DataLoaders: {train_dataloader,test_dataloader}\")\n",
    "print(f\" Length of train dataloader : {len(train_dataloader)} batches of {BATCH_SIZE}\")\n",
    "print(f\" Length of test dataloader : {len(test_dataloader)} batches of {BATCH_SIZE}\")"
   ]
  },
  {
   "cell_type": "code",
   "execution_count": 29,
   "id": "ea1cb2e8-799b-446d-9a1f-a20859a22651",
   "metadata": {},
   "outputs": [
    {
     "data": {
      "text/plain": [
       "<torch.utils.data.sampler.BatchSampler at 0x144eae2d0>"
      ]
     },
     "execution_count": 29,
     "metadata": {},
     "output_type": "execute_result"
    }
   ],
   "source": [
    "#check out what's inside of the train_DataLoader\n",
    "train_dataloader.batch_sampler"
   ]
  },
  {
   "cell_type": "code",
   "execution_count": 39,
   "id": "50979903-542f-4653-a82b-0bd11ff5508e",
   "metadata": {},
   "outputs": [
    {
     "data": {
      "text/plain": [
       "(torch.Size([32, 1, 28, 28]), torch.Size([32]))"
      ]
     },
     "execution_count": 39,
     "metadata": {},
     "output_type": "execute_result"
    }
   ],
   "source": [
    "#check out what's inside the train dataloader\n",
    "train_features_batch, train_labels_batch = next(iter(train_dataloader))\n",
    "train_features_batch.shape, train_labels_batch.shape #train_labels_batch represents the associted number of target values inside of a batch"
   ]
  },
  {
   "cell_type": "code",
   "execution_count": 43,
   "id": "22c08d48-6b27-48d6-bbd4-c56dd1f81ca8",
   "metadata": {},
   "outputs": [
    {
     "data": {
      "text/plain": [
       "tensor([0, 1, 2, 3, 4, 5, 6, 7, 8, 9])"
      ]
     },
     "execution_count": 43,
     "metadata": {},
     "output_type": "execute_result"
    }
   ],
   "source": [
    "train_labels_batch.unique()\n"
   ]
  },
  {
   "cell_type": "code",
   "execution_count": 44,
   "id": "3d9bee31-2531-43ab-85df-6c7b5b6db720",
   "metadata": {},
   "outputs": [
    {
     "data": {
      "text/plain": [
       "torch.utils.data.dataloader.DataLoader"
      ]
     },
     "execution_count": 44,
     "metadata": {},
     "output_type": "execute_result"
    }
   ],
   "source": [
    "type(train_dataloader)"
   ]
  },
  {
   "cell_type": "code",
   "execution_count": 45,
   "id": "1b95155d-2912-4530-b1d3-21c16f011323",
   "metadata": {},
   "outputs": [
    {
     "data": {
      "text/plain": [
       "torch.Tensor"
      ]
     },
     "execution_count": 45,
     "metadata": {},
     "output_type": "execute_result"
    }
   ],
   "source": [
    "type(train_features_batch)"
   ]
  },
  {
   "cell_type": "code",
   "execution_count": 46,
   "id": "d3e88fb3-a769-4873-b720-d4464e7c2d87",
   "metadata": {},
   "outputs": [
    {
     "name": "stdout",
     "output_type": "stream",
     "text": [
      "tensor([[[0.0000, 0.0000, 0.0000,  ..., 0.0000, 0.0000, 0.0000],\n",
      "         [0.0000, 0.0000, 0.0000,  ..., 0.0000, 0.0000, 0.0000],\n",
      "         [0.0000, 0.0000, 0.0000,  ..., 0.0000, 0.0000, 0.0000],\n",
      "         ...,\n",
      "         [0.0000, 0.0000, 0.0000,  ..., 0.0000, 0.0000, 0.0000],\n",
      "         [0.0000, 0.0000, 0.0000,  ..., 0.0000, 0.0000, 0.0000],\n",
      "         [0.0000, 0.0000, 0.0000,  ..., 0.0000, 0.0000, 0.0000]],\n",
      "\n",
      "        [[0.0000, 0.0000, 0.0000,  ..., 0.0000, 0.0000, 0.0000],\n",
      "         [0.0000, 0.0000, 0.0000,  ..., 0.0000, 0.0000, 0.0000],\n",
      "         [0.0000, 0.0000, 0.0000,  ..., 0.0000, 0.0000, 0.0000],\n",
      "         ...,\n",
      "         [0.0000, 0.0000, 0.0000,  ..., 0.0000, 0.0000, 0.0000],\n",
      "         [0.0000, 0.0000, 0.0000,  ..., 0.0000, 0.0000, 0.0000],\n",
      "         [0.0000, 0.0000, 0.0000,  ..., 0.0000, 0.0000, 0.0000]],\n",
      "\n",
      "        [[0.0000, 0.0000, 0.0000,  ..., 0.0000, 0.0000, 0.0000],\n",
      "         [0.0000, 0.0000, 0.0000,  ..., 0.0000, 0.0000, 0.0000],\n",
      "         [0.0000, 0.0000, 0.0000,  ..., 0.0000, 0.0000, 0.0000],\n",
      "         ...,\n",
      "         [0.0000, 0.0000, 0.0000,  ..., 0.0000, 0.0000, 0.0000],\n",
      "         [0.0000, 0.0000, 0.0000,  ..., 0.0000, 0.0000, 0.0000],\n",
      "         [0.0000, 0.0000, 0.0000,  ..., 0.0000, 0.0000, 0.0000]],\n",
      "\n",
      "        ...,\n",
      "\n",
      "        [[0.0000, 0.0000, 0.0000,  ..., 0.0000, 0.0000, 0.0000],\n",
      "         [0.0000, 0.0000, 0.0000,  ..., 0.0000, 0.0000, 0.0000],\n",
      "         [0.0000, 0.0000, 0.0000,  ..., 0.0000, 0.0000, 0.0000],\n",
      "         ...,\n",
      "         [0.0000, 0.0000, 0.0000,  ..., 0.0000, 0.0000, 0.0000],\n",
      "         [0.0000, 0.0000, 0.0000,  ..., 0.0000, 0.0000, 0.0000],\n",
      "         [0.0000, 0.0000, 0.0000,  ..., 0.0000, 0.0000, 0.0000]],\n",
      "\n",
      "        [[0.0000, 0.0000, 0.0000,  ..., 0.0000, 0.0000, 0.0000],\n",
      "         [0.0000, 0.0000, 0.0000,  ..., 0.0000, 0.0000, 0.0000],\n",
      "         [0.0000, 0.0000, 0.0078,  ..., 0.0000, 0.0000, 0.0000],\n",
      "         ...,\n",
      "         [0.0000, 0.0000, 0.0588,  ..., 0.1608, 0.0000, 0.0000],\n",
      "         [0.0000, 0.0000, 0.0000,  ..., 0.0000, 0.0000, 0.0000],\n",
      "         [0.0000, 0.0000, 0.0000,  ..., 0.0000, 0.0000, 0.0000]],\n",
      "\n",
      "        [[0.0000, 0.0000, 0.0000,  ..., 0.0000, 0.0000, 0.0000],\n",
      "         [0.0000, 0.0000, 0.0000,  ..., 0.0000, 0.0000, 0.0000],\n",
      "         [0.0000, 0.0000, 0.0000,  ..., 0.0000, 0.0000, 0.0000],\n",
      "         ...,\n",
      "         [0.0000, 0.0000, 0.0000,  ..., 0.0000, 0.0000, 0.0000],\n",
      "         [0.0000, 0.0000, 0.0000,  ..., 0.0000, 0.0000, 0.0000],\n",
      "         [0.0000, 0.0000, 0.0000,  ..., 0.0000, 0.0000, 0.0000]]])\n"
     ]
    }
   ],
   "source": [
    "print(train_features_batch.squeeze())"
   ]
  },
  {
   "cell_type": "code",
   "execution_count": 53,
   "id": "9758fa7d-1451-4e0d-9759-0b3b1298eef5",
   "metadata": {},
   "outputs": [
    {
     "data": {
      "text/plain": [
       "32"
      ]
     },
     "execution_count": 53,
     "metadata": {},
     "output_type": "execute_result"
    }
   ],
   "source": [
    "len(train_features_batch)"
   ]
  },
  {
   "cell_type": "code",
   "execution_count": 57,
   "id": "939f1bfc-b8b4-4864-a5f7-b1f1bc514d9a",
   "metadata": {},
   "outputs": [
    {
     "name": "stdout",
     "output_type": "stream",
     "text": [
      "The representation of 13th image \n"
     ]
    },
    {
     "data": {
      "text/plain": [
       "(-0.5, 27.5, 27.5, -0.5)"
      ]
     },
     "execution_count": 57,
     "metadata": {},
     "output_type": "execute_result"
    },
    {
     "data": {
      "image/png": "[encoded data removed]",
      "text/plain": [
       "<Figure size 640x480 with 1 Axes>"
      ]
     },
     "metadata": {},
     "output_type": "display_data"
    }
   ],
   "source": [
    "#show a sample of a particular batch\n",
    "\n",
    "random_idx = torch.randint(0,len(train_features_batch),size =[1]).item()\n",
    "image, label = train_features_batch[random_idx],train_labels_batch[random_idx]\n",
    "\n",
    "#got the image and the associated label\n",
    "print(f\"The representation of {random_idx}th image \")\n",
    "plt.imshow(image.squeeze(),cmap = 'gray')\n",
    "plt.title(class_names[label])\n",
    "plt.axis(False)\n"
   ]
  },
  {
   "cell_type": "markdown",
   "id": "1f0c4e4f-0614-447f-ba8f-d6d1668bf45f",
   "metadata": {},
   "source": [
    "## Baseline Model with two Linear Layers\n",
    "\n",
    "when starting to build a series of ML modelling experiments, it's best practice to start with a baseline model. \n",
    "\n",
    "A baseline model is a simple model you willl try and improve upon with subsequent models/experiments. \n",
    "\n",
    "In other words: Start simply and add complexity when necessary"
   ]
  },
  {
   "cell_type": "code",
   "execution_count": 58,
   "id": "16d94b18-0caf-4463-a1fd-c5c0734cba3f",
   "metadata": {},
   "outputs": [
    {
     "name": "stdout",
     "output_type": "stream",
     "text": [
      "Shape before flattening: torch.Size([1, 28, 28])\n",
      "Shape after flattening: torch.Size([1, 784])\n"
     ]
    }
   ],
   "source": [
    "# Create a flatten layer\n",
    "flatten_model = nn.Flatten()\n",
    "\n",
    "#get a single sample\n",
    "x = train_features_batch[0]\n",
    "\n",
    "#flatten the sample\n",
    "output = flatten_model(x) # performs the forward pass\n",
    "\n",
    "#print out what happened\n",
    "print(f\"Shape before flattening: {x.shape}\")\n",
    "print(f\"Shape after flattening: {output.shape}\")"
   ]
  },
  {
   "cell_type": "code",
   "execution_count": 60,
   "id": "bf930466-fd49-4ff9-8a32-5f187a19f4ff",
   "metadata": {},
   "outputs": [
    {
     "data": {
      "text/plain": [
       "(tensor([[0.0000, 0.0000, 0.0000, 0.0000, 0.0000, 0.0000, 0.0000, 0.0000, 0.0000,\n",
       "          0.0000, 0.0000, 0.0000, 0.0000, 0.0000, 0.0000, 0.0000, 0.0000, 0.0000,\n",
       "          0.0000, 0.0000, 0.0000, 0.0000, 0.0000, 0.0000, 0.0000, 0.0000, 0.0000,\n",
       "          0.0000],\n",
       "         [0.0000, 0.0000, 0.0000, 0.0000, 0.0000, 0.0000, 0.0000, 0.0000, 0.0000,\n",
       "          0.0000, 0.0000, 0.0000, 0.0000, 0.0000, 0.0000, 0.0000, 0.0000, 0.0000,\n",
       "          0.0000, 0.0000, 0.0000, 0.0000, 0.0000, 0.0000, 0.0000, 0.0000, 0.0000,\n",
       "          0.0000],\n",
       "         [0.0000, 0.0000, 0.0000, 0.0000, 0.0000, 0.0000, 0.0000, 0.0000, 0.0000,\n",
       "          0.0000, 0.0000, 0.0000, 0.0000, 0.0000, 0.0000, 0.0000, 0.0000, 0.0000,\n",
       "          0.0000, 0.0000, 0.0000, 0.0000, 0.0000, 0.0000, 0.0000, 0.0000, 0.0000,\n",
       "          0.0000],\n",
       "         [0.0000, 0.0000, 0.0000, 0.0000, 0.0000, 0.0000, 0.0000, 0.0000, 0.0000,\n",
       "          0.0118, 0.0000, 0.0000, 0.1961, 0.5843, 0.0000, 0.0000, 0.0000, 0.0000,\n",
       "          0.0000, 0.0000, 0.0000, 0.0000, 0.0000, 0.0000, 0.0000, 0.0000, 0.0000,\n",
       "          0.0000],\n",
       "         [0.0000, 0.0000, 0.0000, 0.0000, 0.0000, 0.0000, 0.0000, 0.0000, 0.0000,\n",
       "          0.0196, 0.0000, 0.5216, 0.7373, 0.5490, 0.8510, 0.2902, 0.0000, 0.0471,\n",
       "          0.0000, 0.0000, 0.0000, 0.0000, 0.0000, 0.0000, 0.0000, 0.0000, 0.0000,\n",
       "          0.0000],\n",
       "         [0.0000, 0.0000, 0.0000, 0.0000, 0.0000, 0.0000, 0.0000, 0.0000, 0.0235,\n",
       "          0.0000, 0.1137, 0.8706, 0.0000, 0.0000, 0.5882, 0.9333, 0.0000, 0.0000,\n",
       "          0.0039, 0.0000, 0.0000, 0.0000, 0.0000, 0.0000, 0.0000, 0.0000, 0.0000,\n",
       "          0.0000],\n",
       "         [0.0000, 0.0000, 0.0000, 0.0000, 0.0000, 0.0000, 0.0000, 0.0000, 0.0000,\n",
       "          0.0000, 0.6706, 0.6784, 0.0000, 0.0000, 0.0000, 0.8039, 0.7294, 0.0000,\n",
       "          0.0000, 0.0000, 0.0000, 0.0000, 0.0000, 0.0000, 0.0000, 0.0000, 0.0000,\n",
       "          0.0000],\n",
       "         [0.0000, 0.0000, 0.0000, 0.0000, 0.0000, 0.0118, 0.0000, 0.0078, 0.0000,\n",
       "          0.1843, 0.9333, 0.5647, 0.0000, 0.0078, 0.0000, 0.3882, 1.0000, 0.4510,\n",
       "          0.0000, 0.0000, 0.0000, 0.0000, 0.0000, 0.0000, 0.0000, 0.0000, 0.0000,\n",
       "          0.0000],\n",
       "         [0.0000, 0.0000, 0.0000, 0.0000, 0.0000, 0.0196, 0.0118, 0.0000, 0.0000,\n",
       "          0.7412, 0.9686, 0.3412, 0.0000, 0.0235, 0.0000, 0.0471, 0.8902, 0.8902,\n",
       "          0.3294, 0.0000, 0.0000, 0.0000, 0.0000, 0.0000, 0.0000, 0.0000, 0.0000,\n",
       "          0.0000],\n",
       "         [0.0000, 0.0000, 0.0000, 0.0000, 0.0000, 0.0078, 0.0000, 0.0000, 0.5255,\n",
       "          0.9098, 0.8118, 0.0000, 0.0000, 0.0000, 0.0000, 0.0000, 0.6314, 0.9098,\n",
       "          0.7961, 0.0431, 0.0000, 0.0039, 0.0078, 0.0118, 0.0039, 0.0000, 0.0039,\n",
       "          0.0000],\n",
       "         [0.0000, 0.0196, 0.0118, 0.0078, 0.0000, 0.0000, 0.0000, 0.1490, 0.8353,\n",
       "          0.9451, 0.3765, 0.0000, 0.0157, 0.0000, 0.0000, 0.0000, 0.0000, 0.8471,\n",
       "          0.9098, 0.7922, 0.0000, 0.0000, 0.0000, 0.0000, 0.0000, 0.0000, 0.0000,\n",
       "          0.0000],\n",
       "         [0.0000, 0.0000, 0.0000, 0.0000, 0.0000, 0.0000, 0.0000, 0.7569, 0.8941,\n",
       "          0.7647, 0.0000, 0.0000, 0.0000, 0.0000, 0.0000, 0.0000, 0.0000, 0.0510,\n",
       "          0.7569, 0.8980, 0.4980, 0.0000, 0.0000, 0.0000, 0.0000, 0.0000, 0.0000,\n",
       "          0.0000],\n",
       "         [0.0000, 0.4118, 0.6157, 0.4000, 0.5373, 0.8941, 0.9686, 0.8392, 0.8627,\n",
       "          0.8588, 0.8196, 0.7882, 0.6078, 0.8863, 0.8902, 0.9569, 0.9843, 0.9176,\n",
       "          0.8745, 0.8353, 0.9020, 0.8314, 1.0000, 0.8667, 0.6824, 0.6745, 0.5176,\n",
       "          0.0000],\n",
       "         [0.0000, 0.8549, 0.9961, 0.9216, 0.9647, 0.8471, 0.7255, 0.8627, 0.9255,\n",
       "          0.8549, 0.8745, 0.9686, 0.8863, 0.8510, 0.8314, 0.8392, 0.7882, 0.7569,\n",
       "          0.8549, 0.8078, 0.7569, 0.8745, 0.8863, 0.8431, 0.8667, 1.0000, 0.8431,\n",
       "          0.0000],\n",
       "         [0.0314, 0.8588, 0.8588, 0.8824, 0.8784, 0.8941, 0.9882, 0.9373, 0.7961,\n",
       "          0.8000, 0.8235, 0.8235, 0.8235, 0.8000, 0.7961, 0.7647, 0.7333, 0.7804,\n",
       "          0.8706, 0.9686, 0.9647, 0.9882, 0.8706, 0.8314, 0.7961, 0.7529, 0.9647,\n",
       "          0.0588],\n",
       "         [0.0549, 1.0000, 0.8157, 0.8745, 0.8706, 0.8431, 0.8353, 0.8510, 0.8510,\n",
       "          0.8000, 0.8235, 0.8118, 0.7529, 0.7529, 0.7294, 0.7765, 0.8235, 0.8510,\n",
       "          0.8549, 0.8392, 0.6235, 0.6824, 0.6980, 0.6314, 0.6000, 0.6392, 0.9176,\n",
       "          0.4784],\n",
       "         [0.0588, 1.0000, 0.8314, 0.8549, 0.8157, 0.7059, 0.7451, 0.8667, 0.9490,\n",
       "          0.8549, 0.7216, 0.7216, 0.8078, 0.9020, 0.8588, 0.8353, 0.8784, 0.8784,\n",
       "          0.7529, 0.6784, 0.6902, 0.6745, 0.6549, 0.7686, 0.7608, 0.7333, 0.8784,\n",
       "          0.7529],\n",
       "         [0.0667, 1.0000, 0.8353, 0.8510, 0.8784, 0.7569, 0.7804, 0.7490, 0.9059,\n",
       "          0.8980, 0.8588, 0.9255, 0.8902, 0.8039, 0.9922, 1.0000, 0.8588, 0.7373,\n",
       "          0.6902, 0.7490, 0.8392, 0.8941, 0.8353, 0.6902, 0.6510, 0.7490, 0.8902,\n",
       "          0.7686],\n",
       "         [0.0549, 1.0000, 0.8471, 0.8392, 0.8588, 0.8549, 0.8235, 0.8392, 0.7843,\n",
       "          0.8588, 0.9216, 0.9098, 0.8980, 0.6078, 0.6902, 0.6549, 0.8314, 1.0000,\n",
       "          1.0000, 0.9765, 0.6902, 0.3412, 0.2863, 0.5059, 0.7333, 0.7765, 0.8706,\n",
       "          0.7412],\n",
       "         [0.0196, 1.0000, 0.8627, 0.7804, 0.8667, 0.8471, 0.8471, 0.8706, 0.9451,\n",
       "          0.9137, 0.9098, 0.8627, 0.8784, 0.9373, 0.9843, 0.0000, 0.4353, 0.6431,\n",
       "          0.2039, 0.0000, 0.0667, 0.5686, 0.9020, 0.9333, 0.8627, 0.7765, 0.8902,\n",
       "          0.7020],\n",
       "         [0.0000, 0.8471, 0.9137, 0.9255, 0.8588, 0.8745, 0.9020, 0.9490, 0.9176,\n",
       "          0.8784, 0.8314, 0.8706, 0.8588, 0.9255, 0.9020, 0.0000, 0.0000, 0.0000,\n",
       "          0.2706, 0.8235, 1.0000, 0.9804, 0.8667, 0.8275, 0.8235, 0.7882, 0.9059,\n",
       "          0.6353],\n",
       "         [0.0000, 0.8196, 0.8863, 0.2667, 0.9608, 0.8353, 0.9725, 0.8941, 0.8235,\n",
       "          0.8588, 0.8667, 0.8941, 0.9333, 0.8471, 0.9529, 0.9608, 0.9059, 1.0000,\n",
       "          1.0000, 0.9059, 0.8000, 0.8196, 0.8588, 0.8510, 0.8510, 0.7961, 0.9922,\n",
       "          0.5255],\n",
       "         [0.0000, 0.8667, 0.4431, 0.0000, 0.7922, 0.9804, 0.7725, 0.8745, 0.8353,\n",
       "          0.9098, 0.8706, 0.8588, 0.7922, 0.8078, 0.8392, 0.8275, 0.8627, 0.8196,\n",
       "          0.8078, 0.8196, 0.8314, 0.8196, 0.8118, 0.8039, 0.8314, 0.8118, 0.9059,\n",
       "          0.4431],\n",
       "         [0.0000, 0.8353, 0.9569, 0.2431, 0.9255, 1.0000, 0.5059, 0.8078, 1.0000,\n",
       "          0.6471, 0.5804, 1.0000, 1.0000, 1.0000, 1.0000, 1.0000, 1.0000, 1.0000,\n",
       "          1.0000, 1.0000, 1.0000, 1.0000, 1.0000, 1.0000, 1.0000, 0.9373, 1.0000,\n",
       "          0.1843],\n",
       "         [0.0000, 0.0000, 0.2196, 0.1490, 0.2196, 0.4431, 1.0000, 0.7176, 0.2980,\n",
       "          0.0118, 0.1961, 0.3961, 0.3216, 0.3686, 0.3647, 0.3765, 0.3804, 0.4078,\n",
       "          0.3765, 0.3294, 0.2902, 0.2863, 0.2627, 0.2471, 0.2353, 0.2392, 0.2745,\n",
       "          0.0000],\n",
       "         [0.0000, 0.0000, 0.0000, 0.0000, 0.0000, 0.0000, 0.0000, 0.0000, 0.0000,\n",
       "          0.0000, 0.0000, 0.0000, 0.0000, 0.0000, 0.0000, 0.0000, 0.0000, 0.0000,\n",
       "          0.0000, 0.0000, 0.0000, 0.0000, 0.0000, 0.0000, 0.0000, 0.0000, 0.0000,\n",
       "          0.0000],\n",
       "         [0.0000, 0.0000, 0.0000, 0.0000, 0.0000, 0.0000, 0.0000, 0.0000, 0.0000,\n",
       "          0.0000, 0.0000, 0.0000, 0.0000, 0.0000, 0.0000, 0.0000, 0.0000, 0.0000,\n",
       "          0.0000, 0.0000, 0.0000, 0.0000, 0.0000, 0.0000, 0.0000, 0.0000, 0.0000,\n",
       "          0.0000],\n",
       "         [0.0000, 0.0000, 0.0000, 0.0000, 0.0000, 0.0000, 0.0000, 0.0000, 0.0000,\n",
       "          0.0000, 0.0000, 0.0000, 0.0000, 0.0000, 0.0000, 0.0000, 0.0000, 0.0000,\n",
       "          0.0000, 0.0000, 0.0000, 0.0000, 0.0000, 0.0000, 0.0000, 0.0000, 0.0000,\n",
       "          0.0000]]),\n",
       " tensor([0.0000, 0.0000, 0.0000, 0.0000, 0.0000, 0.0000, 0.0000, 0.0000, 0.0000,\n",
       "         0.0000, 0.0000, 0.0000, 0.0000, 0.0000, 0.0000, 0.0000, 0.0000, 0.0000,\n",
       "         0.0000, 0.0000, 0.0000, 0.0000, 0.0000, 0.0000, 0.0000, 0.0000, 0.0000,\n",
       "         0.0000, 0.0000, 0.0000, 0.0000, 0.0000, 0.0000, 0.0000, 0.0000, 0.0000,\n",
       "         0.0000, 0.0000, 0.0000, 0.0000, 0.0000, 0.0000, 0.0000, 0.0000, 0.0000,\n",
       "         0.0000, 0.0000, 0.0000, 0.0000, 0.0000, 0.0000, 0.0000, 0.0000, 0.0000,\n",
       "         0.0000, 0.0000, 0.0000, 0.0000, 0.0000, 0.0000, 0.0000, 0.0000, 0.0000,\n",
       "         0.0000, 0.0000, 0.0000, 0.0000, 0.0000, 0.0000, 0.0000, 0.0000, 0.0000,\n",
       "         0.0000, 0.0000, 0.0000, 0.0000, 0.0000, 0.0000, 0.0000, 0.0000, 0.0000,\n",
       "         0.0000, 0.0000, 0.0000, 0.0000, 0.0000, 0.0000, 0.0000, 0.0000, 0.0000,\n",
       "         0.0000, 0.0000, 0.0000, 0.0118, 0.0000, 0.0000, 0.1961, 0.5843, 0.0000,\n",
       "         0.0000, 0.0000, 0.0000, 0.0000, 0.0000, 0.0000, 0.0000, 0.0000, 0.0000,\n",
       "         0.0000, 0.0000, 0.0000, 0.0000, 0.0000, 0.0000, 0.0000, 0.0000, 0.0000,\n",
       "         0.0000, 0.0000, 0.0000, 0.0000, 0.0196, 0.0000, 0.5216, 0.7373, 0.5490,\n",
       "         0.8510, 0.2902, 0.0000, 0.0471, 0.0000, 0.0000, 0.0000, 0.0000, 0.0000,\n",
       "         0.0000, 0.0000, 0.0000, 0.0000, 0.0000, 0.0000, 0.0000, 0.0000, 0.0000,\n",
       "         0.0000, 0.0000, 0.0000, 0.0000, 0.0235, 0.0000, 0.1137, 0.8706, 0.0000,\n",
       "         0.0000, 0.5882, 0.9333, 0.0000, 0.0000, 0.0039, 0.0000, 0.0000, 0.0000,\n",
       "         0.0000, 0.0000, 0.0000, 0.0000, 0.0000, 0.0000, 0.0000, 0.0000, 0.0000,\n",
       "         0.0000, 0.0000, 0.0000, 0.0000, 0.0000, 0.0000, 0.0000, 0.6706, 0.6784,\n",
       "         0.0000, 0.0000, 0.0000, 0.8039, 0.7294, 0.0000, 0.0000, 0.0000, 0.0000,\n",
       "         0.0000, 0.0000, 0.0000, 0.0000, 0.0000, 0.0000, 0.0000, 0.0000, 0.0000,\n",
       "         0.0000, 0.0000, 0.0000, 0.0118, 0.0000, 0.0078, 0.0000, 0.1843, 0.9333,\n",
       "         0.5647, 0.0000, 0.0078, 0.0000, 0.3882, 1.0000, 0.4510, 0.0000, 0.0000,\n",
       "         0.0000, 0.0000, 0.0000, 0.0000, 0.0000, 0.0000, 0.0000, 0.0000, 0.0000,\n",
       "         0.0000, 0.0000, 0.0000, 0.0000, 0.0196, 0.0118, 0.0000, 0.0000, 0.7412,\n",
       "         0.9686, 0.3412, 0.0000, 0.0235, 0.0000, 0.0471, 0.8902, 0.8902, 0.3294,\n",
       "         0.0000, 0.0000, 0.0000, 0.0000, 0.0000, 0.0000, 0.0000, 0.0000, 0.0000,\n",
       "         0.0000, 0.0000, 0.0000, 0.0000, 0.0000, 0.0078, 0.0000, 0.0000, 0.5255,\n",
       "         0.9098, 0.8118, 0.0000, 0.0000, 0.0000, 0.0000, 0.0000, 0.6314, 0.9098,\n",
       "         0.7961, 0.0431, 0.0000, 0.0039, 0.0078, 0.0118, 0.0039, 0.0000, 0.0039,\n",
       "         0.0000, 0.0000, 0.0196, 0.0118, 0.0078, 0.0000, 0.0000, 0.0000, 0.1490,\n",
       "         0.8353, 0.9451, 0.3765, 0.0000, 0.0157, 0.0000, 0.0000, 0.0000, 0.0000,\n",
       "         0.8471, 0.9098, 0.7922, 0.0000, 0.0000, 0.0000, 0.0000, 0.0000, 0.0000,\n",
       "         0.0000, 0.0000, 0.0000, 0.0000, 0.0000, 0.0000, 0.0000, 0.0000, 0.0000,\n",
       "         0.7569, 0.8941, 0.7647, 0.0000, 0.0000, 0.0000, 0.0000, 0.0000, 0.0000,\n",
       "         0.0000, 0.0510, 0.7569, 0.8980, 0.4980, 0.0000, 0.0000, 0.0000, 0.0000,\n",
       "         0.0000, 0.0000, 0.0000, 0.0000, 0.4118, 0.6157, 0.4000, 0.5373, 0.8941,\n",
       "         0.9686, 0.8392, 0.8627, 0.8588, 0.8196, 0.7882, 0.6078, 0.8863, 0.8902,\n",
       "         0.9569, 0.9843, 0.9176, 0.8745, 0.8353, 0.9020, 0.8314, 1.0000, 0.8667,\n",
       "         0.6824, 0.6745, 0.5176, 0.0000, 0.0000, 0.8549, 0.9961, 0.9216, 0.9647,\n",
       "         0.8471, 0.7255, 0.8627, 0.9255, 0.8549, 0.8745, 0.9686, 0.8863, 0.8510,\n",
       "         0.8314, 0.8392, 0.7882, 0.7569, 0.8549, 0.8078, 0.7569, 0.8745, 0.8863,\n",
       "         0.8431, 0.8667, 1.0000, 0.8431, 0.0000, 0.0314, 0.8588, 0.8588, 0.8824,\n",
       "         0.8784, 0.8941, 0.9882, 0.9373, 0.7961, 0.8000, 0.8235, 0.8235, 0.8235,\n",
       "         0.8000, 0.7961, 0.7647, 0.7333, 0.7804, 0.8706, 0.9686, 0.9647, 0.9882,\n",
       "         0.8706, 0.8314, 0.7961, 0.7529, 0.9647, 0.0588, 0.0549, 1.0000, 0.8157,\n",
       "         0.8745, 0.8706, 0.8431, 0.8353, 0.8510, 0.8510, 0.8000, 0.8235, 0.8118,\n",
       "         0.7529, 0.7529, 0.7294, 0.7765, 0.8235, 0.8510, 0.8549, 0.8392, 0.6235,\n",
       "         0.6824, 0.6980, 0.6314, 0.6000, 0.6392, 0.9176, 0.4784, 0.0588, 1.0000,\n",
       "         0.8314, 0.8549, 0.8157, 0.7059, 0.7451, 0.8667, 0.9490, 0.8549, 0.7216,\n",
       "         0.7216, 0.8078, 0.9020, 0.8588, 0.8353, 0.8784, 0.8784, 0.7529, 0.6784,\n",
       "         0.6902, 0.6745, 0.6549, 0.7686, 0.7608, 0.7333, 0.8784, 0.7529, 0.0667,\n",
       "         1.0000, 0.8353, 0.8510, 0.8784, 0.7569, 0.7804, 0.7490, 0.9059, 0.8980,\n",
       "         0.8588, 0.9255, 0.8902, 0.8039, 0.9922, 1.0000, 0.8588, 0.7373, 0.6902,\n",
       "         0.7490, 0.8392, 0.8941, 0.8353, 0.6902, 0.6510, 0.7490, 0.8902, 0.7686,\n",
       "         0.0549, 1.0000, 0.8471, 0.8392, 0.8588, 0.8549, 0.8235, 0.8392, 0.7843,\n",
       "         0.8588, 0.9216, 0.9098, 0.8980, 0.6078, 0.6902, 0.6549, 0.8314, 1.0000,\n",
       "         1.0000, 0.9765, 0.6902, 0.3412, 0.2863, 0.5059, 0.7333, 0.7765, 0.8706,\n",
       "         0.7412, 0.0196, 1.0000, 0.8627, 0.7804, 0.8667, 0.8471, 0.8471, 0.8706,\n",
       "         0.9451, 0.9137, 0.9098, 0.8627, 0.8784, 0.9373, 0.9843, 0.0000, 0.4353,\n",
       "         0.6431, 0.2039, 0.0000, 0.0667, 0.5686, 0.9020, 0.9333, 0.8627, 0.7765,\n",
       "         0.8902, 0.7020, 0.0000, 0.8471, 0.9137, 0.9255, 0.8588, 0.8745, 0.9020,\n",
       "         0.9490, 0.9176, 0.8784, 0.8314, 0.8706, 0.8588, 0.9255, 0.9020, 0.0000,\n",
       "         0.0000, 0.0000, 0.2706, 0.8235, 1.0000, 0.9804, 0.8667, 0.8275, 0.8235,\n",
       "         0.7882, 0.9059, 0.6353, 0.0000, 0.8196, 0.8863, 0.2667, 0.9608, 0.8353,\n",
       "         0.9725, 0.8941, 0.8235, 0.8588, 0.8667, 0.8941, 0.9333, 0.8471, 0.9529,\n",
       "         0.9608, 0.9059, 1.0000, 1.0000, 0.9059, 0.8000, 0.8196, 0.8588, 0.8510,\n",
       "         0.8510, 0.7961, 0.9922, 0.5255, 0.0000, 0.8667, 0.4431, 0.0000, 0.7922,\n",
       "         0.9804, 0.7725, 0.8745, 0.8353, 0.9098, 0.8706, 0.8588, 0.7922, 0.8078,\n",
       "         0.8392, 0.8275, 0.8627, 0.8196, 0.8078, 0.8196, 0.8314, 0.8196, 0.8118,\n",
       "         0.8039, 0.8314, 0.8118, 0.9059, 0.4431, 0.0000, 0.8353, 0.9569, 0.2431,\n",
       "         0.9255, 1.0000, 0.5059, 0.8078, 1.0000, 0.6471, 0.5804, 1.0000, 1.0000,\n",
       "         1.0000, 1.0000, 1.0000, 1.0000, 1.0000, 1.0000, 1.0000, 1.0000, 1.0000,\n",
       "         1.0000, 1.0000, 1.0000, 0.9373, 1.0000, 0.1843, 0.0000, 0.0000, 0.2196,\n",
       "         0.1490, 0.2196, 0.4431, 1.0000, 0.7176, 0.2980, 0.0118, 0.1961, 0.3961,\n",
       "         0.3216, 0.3686, 0.3647, 0.3765, 0.3804, 0.4078, 0.3765, 0.3294, 0.2902,\n",
       "         0.2863, 0.2627, 0.2471, 0.2353, 0.2392, 0.2745, 0.0000, 0.0000, 0.0000,\n",
       "         0.0000, 0.0000, 0.0000, 0.0000, 0.0000, 0.0000, 0.0000, 0.0000, 0.0000,\n",
       "         0.0000, 0.0000, 0.0000, 0.0000, 0.0000, 0.0000, 0.0000, 0.0000, 0.0000,\n",
       "         0.0000, 0.0000, 0.0000, 0.0000, 0.0000, 0.0000, 0.0000, 0.0000, 0.0000,\n",
       "         0.0000, 0.0000, 0.0000, 0.0000, 0.0000, 0.0000, 0.0000, 0.0000, 0.0000,\n",
       "         0.0000, 0.0000, 0.0000, 0.0000, 0.0000, 0.0000, 0.0000, 0.0000, 0.0000,\n",
       "         0.0000, 0.0000, 0.0000, 0.0000, 0.0000, 0.0000, 0.0000, 0.0000, 0.0000,\n",
       "         0.0000, 0.0000, 0.0000, 0.0000, 0.0000, 0.0000, 0.0000, 0.0000, 0.0000,\n",
       "         0.0000, 0.0000, 0.0000, 0.0000, 0.0000, 0.0000, 0.0000, 0.0000, 0.0000,\n",
       "         0.0000, 0.0000, 0.0000, 0.0000, 0.0000, 0.0000, 0.0000, 0.0000, 0.0000,\n",
       "         0.0000]))"
      ]
     },
     "execution_count": 60,
     "metadata": {},
     "output_type": "execute_result"
    }
   ],
   "source": [
    "x.squeeze(), output.squeeze()"
   ]
  },
  {
   "cell_type": "code",
   "execution_count": 65,
   "id": "948e1a54-95e5-4eef-8238-476ef2f9d049",
   "metadata": {},
   "outputs": [
    {
     "data": {
      "text/plain": [
       "(tensor([[[0.3139, 0.4654, 0.1612],\n",
       "          [0.1568, 0.2083, 0.3289],\n",
       "          [0.1054, 0.9192, 0.4008]],\n",
       " \n",
       "         [[0.9302, 0.6558, 0.0766],\n",
       "          [0.8460, 0.3624, 0.3083],\n",
       "          [0.0850, 0.0029, 0.6431]]]),\n",
       " torch.Size([2, 3, 3]))"
      ]
     },
     "execution_count": 65,
     "metadata": {},
     "output_type": "execute_result"
    }
   ],
   "source": [
    "a = torch.rand((2,3,3)) -->#height, length, width\n",
    "a,a.shape"
   ]
  },
  {
   "cell_type": "code",
   "execution_count": 66,
   "id": "d9ecc224-28d0-4d92-9185-5507d1801cb9",
   "metadata": {},
   "outputs": [
    {
     "data": {
      "text/plain": [
       "(tensor([[0.3139, 0.4654, 0.1612, 0.1568, 0.2083, 0.3289, 0.1054, 0.9192, 0.4008],\n",
       "         [0.9302, 0.6558, 0.0766, 0.8460, 0.3624, 0.3083, 0.0850, 0.0029, 0.6431]]),\n",
       " torch.Size([2, 9]))"
      ]
     },
     "execution_count": 66,
     "metadata": {},
     "output_type": "execute_result"
    }
   ],
   "source": [
    "flat_a = flatten_model(a) --> #height, length*width\n",
    "flat_a,flat_a.shape"
   ]
  },
  {
   "cell_type": "code",
   "execution_count": 67,
   "id": "d96b8b73-ded3-4e54-bc00-359d5954ecae",
   "metadata": {},
   "outputs": [],
   "source": [
    "from torch import nn\n",
    "class FashionMNISTModelV0(nn.Module):\n",
    "    def __init__(self,\n",
    "                input_shape: int,\n",
    "                hidden_units: int, \n",
    "                output_shape: int):\n",
    "        super().__init__()\n",
    "        self.layer_stack = nn.Sequential(\n",
    "            nn.Flatten(),\n",
    "            nn.Linear(in_features=input_shape,\n",
    "                     out_features= hidden_units),\n",
    "            nn.Linear(in_features = hidden_units,\n",
    "                     out_features = output_shape)\n",
    "        )\n",
    "\n",
    "\n",
    "    def forward(self, x):\n",
    "        return self.layer_stack(x)\n",
    "    "
   ]
  },
  {
   "cell_type": "code",
   "execution_count": 70,
   "id": "31896e3c-929a-49e2-857b-1cf60e436b7d",
   "metadata": {},
   "outputs": [
    {
     "data": {
      "text/plain": [
       "FashionMNISTModelV0(\n",
       "  (layer_stack): Sequential(\n",
       "    (0): Flatten(start_dim=1, end_dim=-1)\n",
       "    (1): Linear(in_features=784, out_features=10, bias=True)\n",
       "    (2): Linear(in_features=10, out_features=10, bias=True)\n",
       "  )\n",
       ")"
      ]
     },
     "execution_count": 70,
     "metadata": {},
     "output_type": "execute_result"
    }
   ],
   "source": [
    "torch.manual_seed(42)\n",
    "model_0 = FashionMNISTModelV0(\n",
    "    input_shape=784, # this is 28*28\n",
    "    hidden_units = 10, \n",
    "    output_shape = len(class_names)\n",
    ")\n",
    "\n",
    "model_0.to(device)"
   ]
  },
  {
   "cell_type": "code",
   "execution_count": 68,
   "id": "9592cf35-2b23-4c0d-9d31-30949daa9b08",
   "metadata": {},
   "outputs": [
    {
     "data": {
      "text/plain": [
       "'mps'"
      ]
     },
     "execution_count": 68,
     "metadata": {},
     "output_type": "execute_result"
    }
   ],
   "source": [
    "#device agnostic code\n",
    "device = 'mps' if torch.backends.mps.is_available() else 'cpu'\n",
    "device"
   ]
  },
  {
   "cell_type": "markdown",
   "id": "01cbad54-4638-4acd-b591-ca8a1f5adf19",
   "metadata": {},
   "source": [
    "# Loss Function and Optimizer\n",
    "* `Loss Function` - nn.CrossEntropyLoss()\n",
    "*  `optimizer` - torch.optim.SGD\n",
    "*  `Evaluation Matrix` - Accuracy"
   ]
  },
  {
   "cell_type": "code",
   "execution_count": 71,
   "id": "29d23781-b3cc-4750-ae55-e5e5475bdf1b",
   "metadata": {},
   "outputs": [
    {
     "data": {
      "text/plain": [
       "MulticlassAccuracy()"
      ]
     },
     "execution_count": 71,
     "metadata": {},
     "output_type": "execute_result"
    }
   ],
   "source": [
    "loss_fn = nn.CrossEntropyLoss()\n",
    "\n",
    "optimizer = torch.optim.SGD(model_0.parameters(),\n",
    "                           lr = 0.01)\n",
    "\n",
    "from torchmetrics import Accuracy\n",
    "acc_fn = Accuracy(task = 'Multiclass',\n",
    "                  num_classes = 10\n",
    "                 ).to(device)\n",
    "acc_fn"
   ]
  },
  {
   "cell_type": "code",
   "execution_count": 78,
   "id": "de1e6e4e-20a7-4437-a54f-8766206e9a1f",
   "metadata": {},
   "outputs": [
    {
     "name": "stdout",
     "output_type": "stream",
     "text": [
      "Downloading helper_functions.py\n",
      "download Complete\n"
     ]
    }
   ],
   "source": [
    "#download the py file\n",
    "import requests\n",
    "from pathlib import Path\n",
    "\n",
    "#Download helper functions from Learn PyTorch repo\n",
    "if Path(\"helper_functions.py\").is_file():\n",
    "    print(\"helper_functions.py already exists, skipping download ....\")\n",
    "else:\n",
    "    print(\"Downloading helper_functions.py\")\n",
    "    request = requests.get(\"https://raw.githubusercontent.com/mrdbourke/pytorch-deep-learning/main/helper_functions.py\")\n",
    "    with open(\"helper_functions.py\",\"wb\") as f:\n",
    "        f.write(request.content)\n",
    "        print(\"download Complete\")\n",
    "        "
   ]
  },
  {
   "cell_type": "code",
   "execution_count": 79,
   "id": "530c5360-0bbc-4d9a-aeed-9e7d96b42a0c",
   "metadata": {},
   "outputs": [],
   "source": [
    "from helper_functions import accuracy_fn"
   ]
  },
  {
   "cell_type": "code",
   "execution_count": 81,
   "id": "37ab8019-1f22-48cc-8fe3-6f04df4ef624",
   "metadata": {},
   "outputs": [
    {
     "data": {
      "text/plain": [
       "<function helper_functions.accuracy_fn(y_true, y_pred)>"
      ]
     },
     "execution_count": 81,
     "metadata": {},
     "output_type": "execute_result"
    }
   ],
   "source": [
    "accuracy_fn"
   ]
  },
  {
   "cell_type": "markdown",
   "id": "26d4bf4c-d5ea-4429-b42b-56c259bdfcfa",
   "metadata": {},
   "source": [
    "## Creating a funtion to time our experiments\n",
    "\n",
    "Machine learning is very experimental\n",
    "\n",
    "2 of the main things you'll often want to track are:\n",
    "1. Model's performance\n",
    "2. How fast it runs"
   ]
  },
  {
   "cell_type": "code",
   "execution_count": 84,
   "id": "06510d03-814c-4d43-88b5-e13ce0d529da",
   "metadata": {},
   "outputs": [],
   "source": [
    "from timeit import default_timer as timer\n",
    "def print_train_time(start: float,\n",
    "                    end: float,\n",
    "                    device: torch.device = None):\n",
    "\n",
    "    \"\"\"Prints difference between start and end time. \"\"\"\n",
    "    total_time = end-start\n",
    "    print(f\"Train time on {device}: {total_time} seconds\")\n",
    "    return total_time"
   ]
  },
  {
   "cell_type": "code",
   "execution_count": 90,
   "id": "9ce13c5b-8b6c-4f3d-9654-420883141410",
   "metadata": {},
   "outputs": [
    {
     "name": "stdout",
     "output_type": "stream",
     "text": [
      "Train time on mps: 5.1208997319918126e-05 seconds\n"
     ]
    }
   ],
   "source": [
    "start_time = timer()\n",
    "#some code\n",
    "end_time = timer()\n",
    "total_time = print_train_time(start_time,end_time,device = device)"
   ]
  },
  {
   "cell_type": "code",
   "execution_count": 91,
   "id": "9d0a9fbf-5ca5-499f-b90a-e78ee40a917f",
   "metadata": {},
   "outputs": [
    {
     "name": "stdout",
     "output_type": "stream",
     "text": [
      "Train time on cpu: 2.4791996111162007e-05 seconds\n"
     ]
    }
   ],
   "source": [
    "start_time = timer()\n",
    "#some code\n",
    "end_time = timer()\n",
    "total_time = print_train_time(start_time,end_time,device = \"cpu\")"
   ]
  },
  {
   "cell_type": "code",
   "execution_count": null,
   "id": "f5cf4479-997a-41ee-bea1-ae843179aa2d",
   "metadata": {},
   "outputs": [],
   "source": []
  },
  {
   "cell_type": "code",
   "execution_count": null,
   "id": "f2297623-052d-4d83-81f9-fb5b62dbcbae",
   "metadata": {},
   "outputs": [],
   "source": []
  },
  {
   "cell_type": "code",
   "execution_count": null,
   "id": "c796cabd-515c-4c7f-a2fb-f634a09ec591",
   "metadata": {},
   "outputs": [],
   "source": []
  },
  {
   "cell_type": "code",
   "execution_count": null,
   "id": "70686503-ba28-4a24-ad7e-d7446ea83a05",
   "metadata": {},
   "outputs": [],
   "source": []
  },
  {
   "cell_type": "code",
   "execution_count": null,
   "id": "a2306e09-9a32-4d5f-aab1-5c87fb519d0d",
   "metadata": {},
   "outputs": [],
   "source": []
  },
  {
   "cell_type": "code",
   "execution_count": null,
   "id": "7835ac33-d110-476c-8677-cdbf2309e5cf",
   "metadata": {},
   "outputs": [],
   "source": []
  },
  {
   "cell_type": "code",
   "execution_count": null,
   "id": "71991934-5ea9-4081-8f68-1c249bb92150",
   "metadata": {},
   "outputs": [],
   "source": []
  },
  {
   "cell_type": "code",
   "execution_count": null,
   "id": "389e620f-7e95-4b3b-be9c-41739150b4f6",
   "metadata": {},
   "outputs": [],
   "source": []
  },
  {
   "cell_type": "code",
   "execution_count": null,
   "id": "81a00ba5-d133-4782-bb9e-735eff1d7ca0",
   "metadata": {},
   "outputs": [],
   "source": []
  },
  {
   "cell_type": "code",
   "execution_count": 2,
   "id": "17729a8e-8a54-49c3-8a3a-020635cbde3a",
   "metadata": {},
   "outputs": [],
   "source": [
    "#create a person class\n",
    "class Person():\n",
    "    def __init__(self,name,age,height,occupation):\n",
    "        self.name = name\n",
    "        self.age = age\n",
    "        self.height = height\n",
    "        self.occupation = occupation\n",
    "    def bmi_calculation(self):\n",
    "        return self.height/self.age"
   ]
  },
  {
   "cell_type": "code",
   "execution_count": 3,
   "id": "d92a77ee-2557-4c1c-936d-036dc4038e72",
   "metadata": {},
   "outputs": [],
   "source": [
    "p1 = Person('tinon',26,168,'student')\n",
    "p2 = Person('tripto',20,148,'service holder')"
   ]
  },
  {
   "cell_type": "code",
   "execution_count": 4,
   "id": "56305a76-a889-404b-951e-5d99a90f4140",
   "metadata": {},
   "outputs": [
    {
     "data": {
      "text/plain": [
       "'tinon'"
      ]
     },
     "execution_count": 4,
     "metadata": {},
     "output_type": "execute_result"
    }
   ],
   "source": [
    "p1.name"
   ]
  },
  {
   "cell_type": "code",
   "execution_count": 5,
   "id": "86407d61-bd54-41e2-9879-e839c2346645",
   "metadata": {},
   "outputs": [
    {
     "data": {
      "text/plain": [
       "6.461538461538462"
      ]
     },
     "execution_count": 5,
     "metadata": {},
     "output_type": "execute_result"
    }
   ],
   "source": [
    "p1.bmi_calculation()"
   ]
  },
  {
   "cell_type": "code",
   "execution_count": 6,
   "id": "c5bb734e-5412-4768-b52f-25e16c6f7d75",
   "metadata": {},
   "outputs": [
    {
     "data": {
      "text/plain": [
       "7.4"
      ]
     },
     "execution_count": 6,
     "metadata": {},
     "output_type": "execute_result"
    }
   ],
   "source": [
    "p2.bmi_calculation()"
   ]
  },
  {
   "cell_type": "code",
   "execution_count": 7,
   "id": "a8159f76-9003-4e14-a29a-68eb3d19a01b",
   "metadata": {},
   "outputs": [
    {
     "data": {
      "text/plain": [
       "'service holder'"
      ]
     },
     "execution_count": 7,
     "metadata": {},
     "output_type": "execute_result"
    }
   ],
   "source": [
    "p2.occupation"
   ]
  },
  {
   "cell_type": "code",
   "execution_count": 18,
   "id": "faeaed58-6ab3-4f66-9e63-7c6a255eb684",
   "metadata": {},
   "outputs": [],
   "source": [
    "class Employee(Person):\n",
    "    def __init__(self,salary,job_description):\n",
    "        super().__init__('t',42,145,'service holder')\n",
    "        self.salary = salary\n",
    "        self.job_description = job_description\n",
    "    def retirement(self):\n",
    "        if self.age>60:\n",
    "            print('time to retirement')\n",
    "        else:\n",
    "            print('kaj kore kha')"
   ]
  },
  {
   "cell_type": "code",
   "execution_count": 20,
   "id": "dea58b33-42ce-43d2-b39e-723fc9aef7b9",
   "metadata": {},
   "outputs": [],
   "source": [
    "employee1 = Employee(70,'programmer')"
   ]
  },
  {
   "cell_type": "code",
   "execution_count": 21,
   "id": "345282db-0f0d-4766-81f6-c54568371686",
   "metadata": {},
   "outputs": [
    {
     "name": "stdout",
     "output_type": "stream",
     "text": [
      "kaj kore kha\n"
     ]
    }
   ],
   "source": [
    "employee1.retirement()"
   ]
  },
  {
   "cell_type": "code",
   "execution_count": 22,
   "id": "b7bd76d5-f435-405b-8648-9256cf131620",
   "metadata": {},
   "outputs": [
    {
     "name": "stdout",
     "output_type": "stream",
     "text": [
      "Help on class Employee in module __main__:\n",
      "\n",
      "class Employee(Person)\n",
      " |  Employee(salary, job_description)\n",
      " |  \n",
      " |  Method resolution order:\n",
      " |      Employee\n",
      " |      Person\n",
      " |      builtins.object\n",
      " |  \n",
      " |  Methods defined here:\n",
      " |  \n",
      " |  __init__(self, salary, job_description)\n",
      " |      Initialize self.  See help(type(self)) for accurate signature.\n",
      " |  \n",
      " |  retirement(self)\n",
      " |  \n",
      " |  ----------------------------------------------------------------------\n",
      " |  Methods inherited from Person:\n",
      " |  \n",
      " |  bmi_calculation(self)\n",
      " |  \n",
      " |  ----------------------------------------------------------------------\n",
      " |  Data descriptors inherited from Person:\n",
      " |  \n",
      " |  __dict__\n",
      " |      dictionary for instance variables (if defined)\n",
      " |  \n",
      " |  __weakref__\n",
      " |      list of weak references to the object (if defined)\n",
      "\n"
     ]
    }
   ],
   "source": [
    "help(Employee)"
   ]
  },
  {
   "cell_type": "code",
   "execution_count": null,
   "id": "ef12cb96-2a8c-42ba-a202-4cd3bc8a6ebf",
   "metadata": {},
   "outputs": [],
   "source": []
  }
 ],
 "metadata": {
  "kernelspec": {
   "display_name": "Python 3 (ipykernel)",
   "language": "python",
   "name": "python3"
  },
  "language_info": {
   "codemirror_mode": {
    "name": "ipython",
    "version": 3
   },
   "file_extension": ".py",
   "mimetype": "text/x-python",
   "name": "python",
   "nbconvert_exporter": "python",
   "pygments_lexer": "ipython3",
   "version": "3.11.5"
  }
 },
 "nbformat": 4,
 "nbformat_minor": 5
}

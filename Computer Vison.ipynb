{
 "cells": [
  {
   "cell_type": "markdown",
   "id": "0e4ba140-92f9-4d86-932c-3c7dacaeba33",
   "metadata": {},
   "source": [
    "## What are we going to cover\n",
    "* get  a vision dataset from torchvision.datasets\n",
    "* architecture of a CNN with PyTorch\n",
    "* An end to end multi-class image classification problem\n",
    "* steps in modelling with CNNs in pytorch\n",
    "    * Creating a CNN model with PyTorch\n",
    "    * Picking a Loss and optimizer\n",
    "    * Training a model a model\n",
    "    * Evaluating a model"
   ]
  },
  {
   "cell_type": "markdown",
   "id": "fe8ec8cb-3cf5-4b51-a0c7-297bc44078bb",
   "metadata": {},
   "source": [
    "## computer vision Libraries\n",
    "* `torchvision` -base domain library for  computer vision\n",
    "* `torchvision.datasets` - get datasets and data loading function for computer vision\n",
    "* `torchvision.models` - get pretrained computer vision models that you can leverage for your own problems\n",
    "* `torchvision.transforms` - functions for manipulating your vision data(images)  to be suitable for use with an ML model\n",
    "* `torch.utils.data.Dataset` - Base dataset class for PyTorch (creates custom data with your own datasets)\n",
    "* `torch.utils.data.DataLoader` - Creates a Python iterable over a dataset"
   ]
  },
  {
   "cell_type": "code",
   "execution_count": null,
   "id": "c9feb3c9-4e12-4e78-b4d8-3cab9ff4b8ac",
   "metadata": {},
   "outputs": [],
   "source": []
  }
 ],
 "metadata": {
  "kernelspec": {
   "display_name": "Python 3 (ipykernel)",
   "language": "python",
   "name": "python3"
  },
  "language_info": {
   "codemirror_mode": {
    "name": "ipython",
    "version": 3
   },
   "file_extension": ".py",
   "mimetype": "text/x-python",
   "name": "python",
   "nbconvert_exporter": "python",
   "pygments_lexer": "ipython3",
   "version": "3.11.5"
  }
 },
 "nbformat": 4,
 "nbformat_minor": 5
}

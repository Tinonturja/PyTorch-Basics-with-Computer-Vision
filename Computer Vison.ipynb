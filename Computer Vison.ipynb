{
 "cells": [
  {
   "cell_type": "markdown",
   "id": "0e4ba140-92f9-4d86-932c-3c7dacaeba33",
   "metadata": {},
   "source": [
    "## What are we going to cover\n",
    "* get  a vision dataset from torchvision.datasets\n",
    "* architecture of a CNN with PyTorch\n",
    "* An end to end multi-class image classification problem\n",
    "* steps in modelling with CNNs in pytorch\n",
    "    * Creating a CNN model with PyTorch\n",
    "    * Picking a Loss and optimizer\n",
    "    * Training a model a model\n",
    "    * Evaluating a model"
   ]
  },
  {
   "cell_type": "code",
   "execution_count": null,
   "id": "914e6254-caab-42f9-85e6-7c6abcb05800",
   "metadata": {},
   "outputs": [],
   "source": []
  }
 ],
 "metadata": {
  "kernelspec": {
   "display_name": "Python 3 (ipykernel)",
   "language": "python",
   "name": "python3"
  },
  "language_info": {
   "codemirror_mode": {
    "name": "ipython",
    "version": 3
   },
   "file_extension": ".py",
   "mimetype": "text/x-python",
   "name": "python",
   "nbconvert_exporter": "python",
   "pygments_lexer": "ipython3",
   "version": "3.11.5"
  }
 },
 "nbformat": 4,
 "nbformat_minor": 5
}

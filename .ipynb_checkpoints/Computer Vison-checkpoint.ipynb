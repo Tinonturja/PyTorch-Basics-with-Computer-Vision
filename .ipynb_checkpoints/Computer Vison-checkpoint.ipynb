{
 "cells": [
  {
   "cell_type": "markdown",
   "id": "0e4ba140-92f9-4d86-932c-3c7dacaeba33",
   "metadata": {},
   "source": [
    "## What are we going to cover\n",
    "* get  a vision dataset from torchvision.datasets\n",
    "* architecture of a CNN with PyTorch\n",
    "* An end to end multi-class image classification problem\n",
    "* steps in modelling with CNNs in pytorch\n",
    "    * Creating a CNN model with PyTorch\n",
    "    * Picking a Loss and optimizer\n",
    "    * Training a model a model\n",
    "    * Evaluating a model"
   ]
  },
  {
   "cell_type": "markdown",
   "id": "fe8ec8cb-3cf5-4b51-a0c7-297bc44078bb",
   "metadata": {},
   "source": [
    "## Computer Vision Libraries\n",
    "* `torchvision` -base domain library for  computer vision\n",
    "* `torchvision.datasets` - get datasets and data loading function for computer vision\n",
    "* `torchvision.models` - get pretrained computer vision models that you can leverage for your own problems\n",
    "* `torchvision.transforms` - functions for manipulating your vision data(images)  to be suitable for use with an ML model\n",
    "* `torch.utils.data.Dataset` - Base dataset class for PyTorch (creates custom data with your own datasets)\n",
    "* `torch.utils.data.DataLoader` - Creates a Python iterable over a dataset"
   ]
  },
  {
   "cell_type": "code",
   "execution_count": 1,
   "id": "c9feb3c9-4e12-4e78-b4d8-3cab9ff4b8ac",
   "metadata": {},
   "outputs": [
    {
     "name": "stdout",
     "output_type": "stream",
     "text": [
      "2.5.1\n",
      "0.20.1\n"
     ]
    }
   ],
   "source": [
    "#import libraries\n",
    "import torch\n",
    "from torch import nn\n",
    "\n",
    "\n",
    "#import torchvision\n",
    "import torchvision\n",
    "from torchvision import datasets\n",
    "from torchvision import transforms\n",
    "from torchvision.transforms import ToTensor # `ToTensor` --> Convert a PIL image or numpy.ndarray to tensor\n",
    "\n",
    "\n",
    "#import matplotlib\n",
    "import matplotlib.pyplot as plt\n",
    "\n",
    "\n",
    "#Check versions\n",
    "print(torch.__version__)\n",
    "print(torchvision.__version__)"
   ]
  },
  {
   "cell_type": "markdown",
   "id": "1a43f1d9-0c15-425f-8ee3-6ef37e7a27c2",
   "metadata": {},
   "source": [
    "## Getting a Dataset\n",
    "The dataset we are going to use is -- **`FashionMNIST`** from torchvison.datasets-\n"
   ]
  },
  {
   "cell_type": "code",
   "execution_count": 23,
   "id": "e4ccb582-9833-4cec-a3c3-6bcf9c1c5a9d",
   "metadata": {},
   "outputs": [
    {
     "name": "stdout",
     "output_type": "stream",
     "text": [
      "Downloading http://fashion-mnist.s3-website.eu-central-1.amazonaws.com/train-images-idx3-ubyte.gz\n",
      "Downloading http://fashion-mnist.s3-website.eu-central-1.amazonaws.com/train-images-idx3-ubyte.gz to data/FashionMNIST/raw/train-images-idx3-ubyte.gz\n"
     ]
    },
    {
     "name": "stderr",
     "output_type": "stream",
     "text": [
      "100%|██████████████████████████████████████████| 26.4M/26.4M [00:20<00:00, 1.31MB/s]\n"
     ]
    },
    {
     "name": "stdout",
     "output_type": "stream",
     "text": [
      "Extracting data/FashionMNIST/raw/train-images-idx3-ubyte.gz to data/FashionMNIST/raw\n",
      "\n",
      "Downloading http://fashion-mnist.s3-website.eu-central-1.amazonaws.com/train-labels-idx1-ubyte.gz\n",
      "Downloading http://fashion-mnist.s3-website.eu-central-1.amazonaws.com/train-labels-idx1-ubyte.gz to data/FashionMNIST/raw/train-labels-idx1-ubyte.gz\n"
     ]
    },
    {
     "name": "stderr",
     "output_type": "stream",
     "text": [
      "100%|███████████████████████████████████████████| 29.5k/29.5k [00:00<00:00, 161kB/s]\n"
     ]
    },
    {
     "name": "stdout",
     "output_type": "stream",
     "text": [
      "Extracting data/FashionMNIST/raw/train-labels-idx1-ubyte.gz to data/FashionMNIST/raw\n",
      "\n",
      "Downloading http://fashion-mnist.s3-website.eu-central-1.amazonaws.com/t10k-images-idx3-ubyte.gz\n",
      "Downloading http://fashion-mnist.s3-website.eu-central-1.amazonaws.com/t10k-images-idx3-ubyte.gz to data/FashionMNIST/raw/t10k-images-idx3-ubyte.gz\n"
     ]
    },
    {
     "name": "stderr",
     "output_type": "stream",
     "text": [
      "100%|██████████████████████████████████████████| 4.42M/4.42M [00:04<00:00, 1.01MB/s]\n"
     ]
    },
    {
     "name": "stdout",
     "output_type": "stream",
     "text": [
      "Extracting data/FashionMNIST/raw/t10k-images-idx3-ubyte.gz to data/FashionMNIST/raw\n",
      "\n",
      "Downloading http://fashion-mnist.s3-website.eu-central-1.amazonaws.com/t10k-labels-idx1-ubyte.gz\n",
      "Downloading http://fashion-mnist.s3-website.eu-central-1.amazonaws.com/t10k-labels-idx1-ubyte.gz to data/FashionMNIST/raw/t10k-labels-idx1-ubyte.gz\n"
     ]
    },
    {
     "name": "stderr",
     "output_type": "stream",
     "text": [
      "100%|██████████████████████████████████████████| 5.15k/5.15k [00:00<00:00, 6.67MB/s]"
     ]
    },
    {
     "name": "stdout",
     "output_type": "stream",
     "text": [
      "Extracting data/FashionMNIST/raw/t10k-labels-idx1-ubyte.gz to data/FashionMNIST/raw\n",
      "\n"
     ]
    },
    {
     "name": "stderr",
     "output_type": "stream",
     "text": [
      "\n"
     ]
    }
   ],
   "source": [
    "from torchvision import datasets\n",
    "train_data = datasets.FashionMNIST(\n",
    "    root = \"data\", #where to download data to\n",
    "    train = True, # do we want the training dataset? if train = False it will upload the test dataset\n",
    "    download = True, #do we want to download the data? (Yes/No)\n",
    "    transform = ToTensor(), #how do we want to transform the data?\n",
    "    target_transform =None # how do we want to transform the labels/targets?\n",
    ")\n",
    "\n",
    "test_data = datasets.FashionMNIST(\n",
    "    root = 'data',\n",
    "    train = False,\n",
    "    download = True,\n",
    "    transform = ToTensor(),\n",
    "    target_transform = None\n",
    ")"
   ]
  },
  {
   "cell_type": "code",
   "execution_count": null,
   "id": "f0af2757-8f9d-401d-81b3-1829f75c22fd",
   "metadata": {},
   "outputs": [],
   "source": []
  },
  {
   "cell_type": "code",
   "execution_count": null,
   "id": "d3d410d6-9a28-4779-9e66-403d6312bb2f",
   "metadata": {},
   "outputs": [],
   "source": []
  },
  {
   "cell_type": "code",
   "execution_count": null,
   "id": "8cf534ba-f95f-4812-9cc6-342e88534c12",
   "metadata": {},
   "outputs": [],
   "source": []
  },
  {
   "cell_type": "code",
   "execution_count": null,
   "id": "0d55ae75-447f-4777-ba42-9501008b6574",
   "metadata": {},
   "outputs": [],
   "source": []
  },
  {
   "cell_type": "code",
   "execution_count": null,
   "id": "a1bc4d81-e189-4af7-8a9b-0e38c0972d19",
   "metadata": {},
   "outputs": [],
   "source": []
  },
  {
   "cell_type": "code",
   "execution_count": null,
   "id": "c25404ed-ad5b-4a04-8a39-cc6f34957fba",
   "metadata": {},
   "outputs": [],
   "source": []
  },
  {
   "cell_type": "code",
   "execution_count": null,
   "id": "d1c98fcd-5278-41da-bec1-e5306109a1cf",
   "metadata": {},
   "outputs": [],
   "source": []
  },
  {
   "cell_type": "code",
   "execution_count": null,
   "id": "d3c2eb3c-bfc6-45c4-8818-074a46bdbd61",
   "metadata": {},
   "outputs": [],
   "source": []
  },
  {
   "cell_type": "code",
   "execution_count": null,
   "id": "3ac7f2f8-f423-45e5-a8f8-3438fca6078f",
   "metadata": {},
   "outputs": [],
   "source": []
  },
  {
   "cell_type": "code",
   "execution_count": null,
   "id": "d7c5007d-eb5c-4775-a7fe-51ab1de7d073",
   "metadata": {},
   "outputs": [],
   "source": []
  },
  {
   "cell_type": "code",
   "execution_count": null,
   "id": "811e88f2-bf8c-4440-91ed-1039d2be80ca",
   "metadata": {},
   "outputs": [],
   "source": []
  },
  {
   "cell_type": "code",
   "execution_count": null,
   "id": "838637ce-6515-4ddb-961e-0e259a299412",
   "metadata": {},
   "outputs": [],
   "source": []
  },
  {
   "cell_type": "code",
   "execution_count": null,
   "id": "d1abd26c-75ac-4c31-a377-dd31d703a83c",
   "metadata": {},
   "outputs": [],
   "source": []
  },
  {
   "cell_type": "code",
   "execution_count": null,
   "id": "1361ac24-2c7d-402c-b432-6e69cac60da8",
   "metadata": {},
   "outputs": [],
   "source": []
  },
  {
   "cell_type": "code",
   "execution_count": null,
   "id": "6a24af6f-2be4-472e-bf8b-eb546a9d6081",
   "metadata": {},
   "outputs": [],
   "source": []
  },
  {
   "cell_type": "code",
   "execution_count": null,
   "id": "6ebf3955-9c25-41e6-9225-9fddcb4a6df8",
   "metadata": {},
   "outputs": [],
   "source": []
  },
  {
   "cell_type": "code",
   "execution_count": null,
   "id": "2869fb1c-9d82-45d6-952a-381b37a2e1ca",
   "metadata": {},
   "outputs": [],
   "source": []
  },
  {
   "cell_type": "code",
   "execution_count": null,
   "id": "70c36711-c0c6-4dd8-abd4-e5c54f2f9d37",
   "metadata": {},
   "outputs": [],
   "source": []
  },
  {
   "cell_type": "code",
   "execution_count": null,
   "id": "025c392e-2e12-4254-8a01-0744e6e59956",
   "metadata": {},
   "outputs": [],
   "source": []
  },
  {
   "cell_type": "code",
   "execution_count": null,
   "id": "86b62457-3daf-4551-a3b7-399fe4e4b48d",
   "metadata": {},
   "outputs": [],
   "source": []
  },
  {
   "cell_type": "code",
   "execution_count": null,
   "id": "8439c153-c8a4-41da-b094-52b78f1f5620",
   "metadata": {},
   "outputs": [],
   "source": []
  },
  {
   "cell_type": "code",
   "execution_count": null,
   "id": "0c6a766a-30ab-4c74-ac0b-689fe36fd591",
   "metadata": {},
   "outputs": [],
   "source": []
  },
  {
   "cell_type": "code",
   "execution_count": null,
   "id": "ea1cb2e8-799b-446d-9a1f-a20859a22651",
   "metadata": {},
   "outputs": [],
   "source": []
  },
  {
   "cell_type": "code",
   "execution_count": null,
   "id": "50979903-542f-4653-a82b-0bd11ff5508e",
   "metadata": {},
   "outputs": [],
   "source": []
  },
  {
   "cell_type": "code",
   "execution_count": null,
   "id": "bd70ab9a-9153-414f-a526-fe8ed6c34ef6",
   "metadata": {},
   "outputs": [],
   "source": []
  },
  {
   "cell_type": "code",
   "execution_count": null,
   "id": "71991934-5ea9-4081-8f68-1c249bb92150",
   "metadata": {},
   "outputs": [],
   "source": []
  },
  {
   "cell_type": "code",
   "execution_count": null,
   "id": "389e620f-7e95-4b3b-be9c-41739150b4f6",
   "metadata": {},
   "outputs": [],
   "source": []
  },
  {
   "cell_type": "code",
   "execution_count": null,
   "id": "81a00ba5-d133-4782-bb9e-735eff1d7ca0",
   "metadata": {},
   "outputs": [],
   "source": []
  },
  {
   "cell_type": "code",
   "execution_count": 2,
   "id": "17729a8e-8a54-49c3-8a3a-020635cbde3a",
   "metadata": {},
   "outputs": [],
   "source": [
    "#create a person class\n",
    "class Person():\n",
    "    def __init__(self,name,age,height,occupation):\n",
    "        self.name = name\n",
    "        self.age = age\n",
    "        self.height = height\n",
    "        self.occupation = occupation\n",
    "    def bmi_calculation(self):\n",
    "        return self.height/self.age"
   ]
  },
  {
   "cell_type": "code",
   "execution_count": 3,
   "id": "d92a77ee-2557-4c1c-936d-036dc4038e72",
   "metadata": {},
   "outputs": [],
   "source": [
    "p1 = Person('tinon',26,168,'student')\n",
    "p2 = Person('tripto',20,148,'service holder')"
   ]
  },
  {
   "cell_type": "code",
   "execution_count": 4,
   "id": "56305a76-a889-404b-951e-5d99a90f4140",
   "metadata": {},
   "outputs": [
    {
     "data": {
      "text/plain": [
       "'tinon'"
      ]
     },
     "execution_count": 4,
     "metadata": {},
     "output_type": "execute_result"
    }
   ],
   "source": [
    "p1.name"
   ]
  },
  {
   "cell_type": "code",
   "execution_count": 5,
   "id": "86407d61-bd54-41e2-9879-e839c2346645",
   "metadata": {},
   "outputs": [
    {
     "data": {
      "text/plain": [
       "6.461538461538462"
      ]
     },
     "execution_count": 5,
     "metadata": {},
     "output_type": "execute_result"
    }
   ],
   "source": [
    "p1.bmi_calculation()"
   ]
  },
  {
   "cell_type": "code",
   "execution_count": 6,
   "id": "c5bb734e-5412-4768-b52f-25e16c6f7d75",
   "metadata": {},
   "outputs": [
    {
     "data": {
      "text/plain": [
       "7.4"
      ]
     },
     "execution_count": 6,
     "metadata": {},
     "output_type": "execute_result"
    }
   ],
   "source": [
    "p2.bmi_calculation()"
   ]
  },
  {
   "cell_type": "code",
   "execution_count": 7,
   "id": "a8159f76-9003-4e14-a29a-68eb3d19a01b",
   "metadata": {},
   "outputs": [
    {
     "data": {
      "text/plain": [
       "'service holder'"
      ]
     },
     "execution_count": 7,
     "metadata": {},
     "output_type": "execute_result"
    }
   ],
   "source": [
    "p2.occupation"
   ]
  },
  {
   "cell_type": "code",
   "execution_count": 18,
   "id": "faeaed58-6ab3-4f66-9e63-7c6a255eb684",
   "metadata": {},
   "outputs": [],
   "source": [
    "class Employee(Person):\n",
    "    def __init__(self,salary,job_description):\n",
    "        super().__init__('t',42,145,'service holder')\n",
    "        self.salary = salary\n",
    "        self.job_description = job_description\n",
    "    def retirement(self):\n",
    "        if self.age>60:\n",
    "            print('time to retirement')\n",
    "        else:\n",
    "            print('kaj kore kha')"
   ]
  },
  {
   "cell_type": "code",
   "execution_count": 20,
   "id": "dea58b33-42ce-43d2-b39e-723fc9aef7b9",
   "metadata": {},
   "outputs": [],
   "source": [
    "employee1 = Employee(70,'programmer')"
   ]
  },
  {
   "cell_type": "code",
   "execution_count": 21,
   "id": "345282db-0f0d-4766-81f6-c54568371686",
   "metadata": {},
   "outputs": [
    {
     "name": "stdout",
     "output_type": "stream",
     "text": [
      "kaj kore kha\n"
     ]
    }
   ],
   "source": [
    "employee1.retirement()"
   ]
  },
  {
   "cell_type": "code",
   "execution_count": 22,
   "id": "b7bd76d5-f435-405b-8648-9256cf131620",
   "metadata": {},
   "outputs": [
    {
     "name": "stdout",
     "output_type": "stream",
     "text": [
      "Help on class Employee in module __main__:\n",
      "\n",
      "class Employee(Person)\n",
      " |  Employee(salary, job_description)\n",
      " |  \n",
      " |  Method resolution order:\n",
      " |      Employee\n",
      " |      Person\n",
      " |      builtins.object\n",
      " |  \n",
      " |  Methods defined here:\n",
      " |  \n",
      " |  __init__(self, salary, job_description)\n",
      " |      Initialize self.  See help(type(self)) for accurate signature.\n",
      " |  \n",
      " |  retirement(self)\n",
      " |  \n",
      " |  ----------------------------------------------------------------------\n",
      " |  Methods inherited from Person:\n",
      " |  \n",
      " |  bmi_calculation(self)\n",
      " |  \n",
      " |  ----------------------------------------------------------------------\n",
      " |  Data descriptors inherited from Person:\n",
      " |  \n",
      " |  __dict__\n",
      " |      dictionary for instance variables (if defined)\n",
      " |  \n",
      " |  __weakref__\n",
      " |      list of weak references to the object (if defined)\n",
      "\n"
     ]
    }
   ],
   "source": [
    "help(Employee)"
   ]
  },
  {
   "cell_type": "code",
   "execution_count": null,
   "id": "ef12cb96-2a8c-42ba-a202-4cd3bc8a6ebf",
   "metadata": {},
   "outputs": [],
   "source": []
  }
 ],
 "metadata": {
  "kernelspec": {
   "display_name": "Python 3 (ipykernel)",
   "language": "python",
   "name": "python3"
  },
  "language_info": {
   "codemirror_mode": {
    "name": "ipython",
    "version": 3
   },
   "file_extension": ".py",
   "mimetype": "text/x-python",
   "name": "python",
   "nbconvert_exporter": "python",
   "pygments_lexer": "ipython3",
   "version": "3.11.5"
  }
 },
 "nbformat": 4,
 "nbformat_minor": 5
}
